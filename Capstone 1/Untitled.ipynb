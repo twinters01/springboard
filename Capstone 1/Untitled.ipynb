{
 "cells": [
  {
   "cell_type": "code",
   "execution_count": 2,
   "metadata": {},
   "outputs": [
    {
     "name": "stdout",
     "output_type": "stream",
     "text": [
      "Collecting mtgsdk\n",
      "  Downloading mtgsdk-1.3.1.tar.gz\n",
      "Building wheels for collected packages: mtgsdk\n",
      "  Running setup.py bdist_wheel for mtgsdk: started\n",
      "  Running setup.py bdist_wheel for mtgsdk: finished with status 'done'\n",
      "  Stored in directory: C:\\Users\\twint\\AppData\\Local\\pip\\Cache\\wheels\\46\\f2\\fd\\cb2f9e6d7c4054626a713605a6f40c10fc55191a3aac6cc7c7\n",
      "Successfully built mtgsdk\n",
      "Installing collected packages: mtgsdk\n",
      "Successfully installed mtgsdk-1.3.1\n"
     ]
    }
   ],
   "source": [
    "!pip install mtgsdk\n",
    "from mtgsdk import Card\n",
    "import pandas as pd\n",
    "import requests\n",
    "import json"
   ]
  },
  {
   "cell_type": "code",
   "execution_count": 62,
   "metadata": {
    "collapsed": true
   },
   "outputs": [],
   "source": [
    "#Get and save the data \n",
    "response = requests.get('https://api.magicthegathering.io/v1/cards',params = {'colors':'blue','types':'creature'}).json()['cards']\n",
    "df = pd.DataFrame(response)"
   ]
  },
  {
   "cell_type": "code",
   "execution_count": 3,
   "metadata": {},
   "outputs": [],
   "source": [
    "#Get all modern cards\n",
    "cards = Card.where(gameFormat='modern').all()\n",
    "cardDicts = [c.__dict__ for c in cards]\n",
    "cardsDf = pd.DataFrame(cardDicts)"
   ]
  },
  {
   "cell_type": "code",
   "execution_count": 13,
   "metadata": {},
   "outputs": [
    {
     "name": "stdout",
     "output_type": "stream",
     "text": [
      "<class 'pandas.core.frame.DataFrame'>\n",
      "RangeIndex: 23080 entries, 0 to 23079\n",
      "Data columns (total 39 columns):\n",
      "artist            23080 non-null object\n",
      "border            13 non-null object\n",
      "cmc               23080 non-null int64\n",
      "color_identity    20829 non-null object\n",
      "colors            17720 non-null object\n",
      "flavor            14151 non-null object\n",
      "foreign_names     19131 non-null object\n",
      "hand              0 non-null object\n",
      "id                23080 non-null object\n",
      "image_url         21598 non-null object\n",
      "layout            23080 non-null object\n",
      "legalities        23080 non-null object\n",
      "life              0 non-null object\n",
      "loyalty           168 non-null float64\n",
      "mana_cost         19913 non-null object\n",
      "multiverse_id     21598 non-null float64\n",
      "name              23080 non-null object\n",
      "names             380 non-null object\n",
      "number            21258 non-null object\n",
      "original_text     21329 non-null object\n",
      "original_type     21797 non-null object\n",
      "power             10980 non-null object\n",
      "printings         23080 non-null object\n",
      "rarity            23080 non-null object\n",
      "release_date      899 non-null object\n",
      "rulings           11554 non-null object\n",
      "set               23080 non-null object\n",
      "set_name          23080 non-null object\n",
      "source            1235 non-null object\n",
      "starter           47 non-null object\n",
      "subtypes          14743 non-null object\n",
      "supertypes        2974 non-null object\n",
      "text              20742 non-null object\n",
      "timeshifted       248 non-null object\n",
      "toughness         10980 non-null object\n",
      "type              23080 non-null object\n",
      "types             23080 non-null object\n",
      "variations        1740 non-null object\n",
      "watermark         3309 non-null object\n",
      "dtypes: float64(2), int64(1), object(36)\n",
      "memory usage: 6.9+ MB\n"
     ]
    },
    {
     "ename": "ValueError",
     "evalue": "The truth value of a Series is ambiguous. Use a.empty, a.bool(), a.item(), a.any() or a.all().",
     "output_type": "error",
     "traceback": [
      "\u001b[1;31m---------------------------------------------------------------------------\u001b[0m",
      "\u001b[1;31mValueError\u001b[0m                                Traceback (most recent call last)",
      "\u001b[1;32m<ipython-input-13-4ccc91a1f7d8>\u001b[0m in \u001b[0;36m<module>\u001b[1;34m()\u001b[0m\n\u001b[0;32m      1\u001b[0m \u001b[0mcardsDf\u001b[0m\u001b[1;33m.\u001b[0m\u001b[0minfo\u001b[0m\u001b[1;33m(\u001b[0m\u001b[1;33m)\u001b[0m\u001b[1;33m\u001b[0m\u001b[0m\n\u001b[0;32m      2\u001b[0m \u001b[1;31m#Filter out the lands\u001b[0m\u001b[1;33m\u001b[0m\u001b[1;33m\u001b[0m\u001b[0m\n\u001b[1;32m----> 3\u001b[1;33m \u001b[0mnonLands\u001b[0m \u001b[1;33m=\u001b[0m \u001b[0mcardsDf\u001b[0m\u001b[1;33m[\u001b[0m\u001b[1;32mnot\u001b[0m \u001b[1;33m(\u001b[0m\u001b[0mcardsDf\u001b[0m\u001b[1;33m[\u001b[0m\u001b[1;34m'type'\u001b[0m\u001b[1;33m]\u001b[0m\u001b[1;33m==\u001b[0m\u001b[1;34m'Land'\u001b[0m\u001b[1;33m)\u001b[0m\u001b[1;33m]\u001b[0m\u001b[1;33m\u001b[0m\u001b[0m\n\u001b[0m\u001b[0;32m      4\u001b[0m \u001b[0mnonLands\u001b[0m\u001b[1;33m.\u001b[0m\u001b[0minfo\u001b[0m\u001b[1;33m(\u001b[0m\u001b[1;33m)\u001b[0m\u001b[1;33m\u001b[0m\u001b[0m\n",
      "\u001b[1;32m~\\Anaconda3\\lib\\site-packages\\pandas\\core\\generic.py\u001b[0m in \u001b[0;36m__nonzero__\u001b[1;34m(self)\u001b[0m\n\u001b[0;32m    953\u001b[0m         raise ValueError(\"The truth value of a {0} is ambiguous. \"\n\u001b[0;32m    954\u001b[0m                          \u001b[1;34m\"Use a.empty, a.bool(), a.item(), a.any() or a.all().\"\u001b[0m\u001b[1;33m\u001b[0m\u001b[0m\n\u001b[1;32m--> 955\u001b[1;33m                          .format(self.__class__.__name__))\n\u001b[0m\u001b[0;32m    956\u001b[0m \u001b[1;33m\u001b[0m\u001b[0m\n\u001b[0;32m    957\u001b[0m     \u001b[0m__bool__\u001b[0m \u001b[1;33m=\u001b[0m \u001b[0m__nonzero__\u001b[0m\u001b[1;33m\u001b[0m\u001b[0m\n",
      "\u001b[1;31mValueError\u001b[0m: The truth value of a Series is ambiguous. Use a.empty, a.bool(), a.item(), a.any() or a.all()."
     ]
    }
   ],
   "source": [
    "cardsDf.info()\n",
    "#Filter out the lands\n",
    "filter = cardsDf['type']=='Land'\n",
    "nonLands = cardsDf[]\n",
    "nonLands.info()"
   ]
  },
  {
   "cell_type": "code",
   "execution_count": 67,
   "metadata": {
    "scrolled": true
   },
   "outputs": [
    {
     "name": "stdout",
     "output_type": "stream",
     "text": [
      "<html style=\"height:100%\"><head><META NAME=\"ROBOTS\" CONTENT=\"NOINDEX, NOFOLLOW\"><meta name=\"format-detection\" content=\"telephone=no\"><meta name=\"viewport\" content=\"initial-scale=1.0\"><meta http-equiv=\"X-UA-Compatible\" content=\"IE=edge,chrome=1\"><script type=\"text/javascript\" src=\"/_Incapsula_Resource?SWJIYLWA=719d34d31c8e3a6e6fffd425f7e032f3\"></script></head><body style=\"margin:0px;height:100%\"><iframe src=\"/_Incapsula_Resource?CWUDNSAI=26&xinfo=10-19727495-0%200NNN%20RT%281516832563413%2045%29%20q%280%20-1%20-1%20-1%29%20r%280%20-1%29%20B12%284%2c315%2c0%29%20U2&incident_id=489000840016121964-107694896229975370&edet=12&cinfo=04000000\" frameborder=0 width=\"100%\" height=\"100%\" marginheight=\"0px\" marginwidth=\"0px\">Request unsuccessful. Incapsula incident ID: 489000840016121964-107694896229975370</iframe></body></html>\n"
     ]
    }
   ],
   "source": [
    "response = requests.get('https://shop.tcgplayer.com/magic/product/show?Format=Modern&newSearch=false&orientation=list&PageNumber=1')\n",
    "print(response.text)"
   ]
  }
 ],
 "metadata": {
  "kernelspec": {
   "display_name": "Python 3",
   "language": "python",
   "name": "python3"
  },
  "language_info": {
   "codemirror_mode": {
    "name": "ipython",
    "version": 3
   },
   "file_extension": ".py",
   "mimetype": "text/x-python",
   "name": "python",
   "nbconvert_exporter": "python",
   "pygments_lexer": "ipython3",
   "version": "3.6.3"
  }
 },
 "nbformat": 4,
 "nbformat_minor": 2
}
