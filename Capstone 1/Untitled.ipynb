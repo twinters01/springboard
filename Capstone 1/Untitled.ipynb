{
 "cells": [
  {
   "cell_type": "code",
   "execution_count": 25,
   "metadata": {
    "collapsed": true
   },
   "outputs": [
    {
     "name": "stdout",
     "output_type": "stream",
     "text": [
      "Collecting mtgsdk\n",
      "  Using cached mtgsdk-1.3.1.tar.gz\n",
      "Building wheels for collected packages: mtgsdk\n",
      "  Running setup.py bdist_wheel for mtgsdk: started\n",
      "  Running setup.py bdist_wheel for mtgsdk: finished with status 'done'\n",
      "  Stored in directory: C:\\Users\\Tyler\\AppData\\Local\\pip\\Cache\\wheels\\46\\f2\\fd\\cb2f9e6d7c4054626a713605a6f40c10fc55191a3aac6cc7c7\n",
      "Successfully built mtgsdk\n",
      "Installing collected packages: mtgsdk\n",
      "Successfully installed mtgsdk-1.3.1\n"
     ]
    }
   ],
   "source": [
    "!pip install mtgsdk\n",
    "from mtgsdk import Card\n",
    "import pandas as pd\n",
    "import requests\n",
    "import json"
   ]
  },
  {
   "cell_type": "code",
   "execution_count": 62,
   "metadata": {},
   "outputs": [],
   "source": [
    "#Get and save the data \n",
    "response = requests.get('https://api.magicthegathering.io/v1/cards',params = {'colors':'blue','types':'creature'}).json()['cards']\n",
    "df = pd.DataFrame(response)"
   ]
  },
  {
   "cell_type": "code",
   "execution_count": 58,
   "metadata": {},
   "outputs": [],
   "source": [
    "cards = Card.where(colors='blue').all()\n",
    "cardDicts = [c.__dict__ for c in cards]\n",
    "cardsDf = pd.DataFrame(cardDicts)"
   ]
  },
  {
   "cell_type": "code",
   "execution_count": 64,
   "metadata": {},
   "outputs": [
    {
     "name": "stdout",
     "output_type": "stream",
     "text": [
      "<class 'pandas.core.frame.DataFrame'>\n",
      "RangeIndex: 6040 entries, 0 to 6039\n",
      "Data columns (total 39 columns):\n",
      "artist            6040 non-null object\n",
      "border            2 non-null object\n",
      "cmc               6040 non-null int64\n",
      "color_identity    6040 non-null object\n",
      "colors            6040 non-null object\n",
      "flavor            3728 non-null object\n",
      "foreign_names     4188 non-null object\n",
      "hand              0 non-null object\n",
      "id                6040 non-null object\n",
      "image_url         5689 non-null object\n",
      "layout            6040 non-null object\n",
      "legalities        6000 non-null object\n",
      "life              0 non-null object\n",
      "loyalty           52 non-null float64\n",
      "mana_cost         6023 non-null object\n",
      "multiverse_id     5689 non-null float64\n",
      "name              6040 non-null object\n",
      "names             77 non-null object\n",
      "number            5024 non-null object\n",
      "original_text     5615 non-null object\n",
      "original_type     5721 non-null object\n",
      "power             3140 non-null object\n",
      "printings         6040 non-null object\n",
      "rarity            6040 non-null object\n",
      "release_date      200 non-null object\n",
      "rulings           3269 non-null object\n",
      "set               6040 non-null object\n",
      "set_name          6040 non-null object\n",
      "source            315 non-null object\n",
      "starter           12 non-null object\n",
      "subtypes          3669 non-null object\n",
      "supertypes        476 non-null object\n",
      "text              5931 non-null object\n",
      "timeshifted       50 non-null object\n",
      "toughness         3140 non-null object\n",
      "type              6040 non-null object\n",
      "types             6040 non-null object\n",
      "variations        60 non-null object\n",
      "watermark         407 non-null object\n",
      "dtypes: float64(2), int64(1), object(36)\n",
      "memory usage: 1.8+ MB\n",
      "<class 'pandas.core.frame.DataFrame'>\n",
      "RangeIndex: 100 entries, 0 to 99\n",
      "Data columns (total 32 columns):\n",
      "artist           100 non-null object\n",
      "cmc              100 non-null int64\n",
      "colorIdentity    100 non-null object\n",
      "colors           100 non-null object\n",
      "flavor           46 non-null object\n",
      "foreignNames     77 non-null object\n",
      "id               100 non-null object\n",
      "imageUrl         40 non-null object\n",
      "layout           100 non-null object\n",
      "legalities       100 non-null object\n",
      "manaCost         99 non-null object\n",
      "multiverseid     40 non-null float64\n",
      "name             100 non-null object\n",
      "names            1 non-null object\n",
      "number           100 non-null object\n",
      "originalText     40 non-null object\n",
      "originalType     40 non-null object\n",
      "power            98 non-null object\n",
      "printings        100 non-null object\n",
      "rarity           100 non-null object\n",
      "releaseDate      58 non-null object\n",
      "rulings          43 non-null object\n",
      "set              100 non-null object\n",
      "setName          100 non-null object\n",
      "source           57 non-null object\n",
      "subtypes         98 non-null object\n",
      "supertypes       18 non-null object\n",
      "text             100 non-null object\n",
      "toughness        98 non-null object\n",
      "type             100 non-null object\n",
      "types            100 non-null object\n",
      "watermark        13 non-null object\n",
      "dtypes: float64(1), int64(1), object(30)\n",
      "memory usage: 25.1+ KB\n"
     ]
    }
   ],
   "source": [
    "cardsDf.info()\n",
    "df.info()"
   ]
  },
  {
   "cell_type": "code",
   "execution_count": 67,
   "metadata": {
    "scrolled": true
   },
   "outputs": [
    {
     "name": "stdout",
     "output_type": "stream",
     "text": [
      "<html style=\"height:100%\"><head><META NAME=\"ROBOTS\" CONTENT=\"NOINDEX, NOFOLLOW\"><meta name=\"format-detection\" content=\"telephone=no\"><meta name=\"viewport\" content=\"initial-scale=1.0\"><meta http-equiv=\"X-UA-Compatible\" content=\"IE=edge,chrome=1\"><script type=\"text/javascript\" src=\"/_Incapsula_Resource?SWJIYLWA=719d34d31c8e3a6e6fffd425f7e032f3\"></script></head><body style=\"margin:0px;height:100%\"><iframe src=\"/_Incapsula_Resource?CWUDNSAI=26&xinfo=10-19727495-0%200NNN%20RT%281516832563413%2045%29%20q%280%20-1%20-1%20-1%29%20r%280%20-1%29%20B12%284%2c315%2c0%29%20U2&incident_id=489000840016121964-107694896229975370&edet=12&cinfo=04000000\" frameborder=0 width=\"100%\" height=\"100%\" marginheight=\"0px\" marginwidth=\"0px\">Request unsuccessful. Incapsula incident ID: 489000840016121964-107694896229975370</iframe></body></html>\n"
     ]
    }
   ],
   "source": [
    "response = requests.get('https://shop.tcgplayer.com/magic/product/show?Format=Modern&newSearch=false&orientation=list&PageNumber=1')\n",
    "print(response.text)"
   ]
  }
 ],
 "metadata": {
  "kernelspec": {
   "display_name": "Python 3",
   "language": "python",
   "name": "python3"
  },
  "language_info": {
   "codemirror_mode": {
    "name": "ipython",
    "version": 3
   },
   "file_extension": ".py",
   "mimetype": "text/x-python",
   "name": "python",
   "nbconvert_exporter": "python",
   "pygments_lexer": "ipython3",
   "version": "3.6.3"
  }
 },
 "nbformat": 4,
 "nbformat_minor": 2
}
