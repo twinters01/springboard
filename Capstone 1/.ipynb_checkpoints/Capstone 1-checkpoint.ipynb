{
 "cells": [
  {
   "cell_type": "code",
   "execution_count": 114,
   "metadata": {},
   "outputs": [
    {
     "name": "stdout",
     "output_type": "stream",
     "text": [
      "Requirement already satisfied: mtgsdk in c:\\users\\tyler\\anaconda3\\lib\\site-packages\n"
     ]
    }
   ],
   "source": [
    "#Install/import necessary packages\n",
    "!pip install mtgsdk\n",
    "from mtgsdk import Card\n",
    "from bs4 import BeautifulSoup\n",
    "\n",
    "import seaborn as sns\n",
    "import requests\n",
    "import pandas as pd\n",
    "import json\n",
    "import pickle\n",
    "import numpy as np\n",
    "import matplotlib.pyplot as plt\n",
    "from pandas.io.json import json_normalize\n",
    "from pandas.api.types import CategoricalDtype"
   ]
  },
  {
   "cell_type": "markdown",
   "metadata": {},
   "source": [
    "# CARD DATA "
   ]
  },
  {
   "cell_type": "markdown",
   "metadata": {},
   "source": [
    "The following sections involve gathering and processing a new dataset. To load the pre-processed data (if it exists) see the cell just before the Price Scraping section."
   ]
  },
  {
   "cell_type": "markdown",
   "metadata": {},
   "source": [
    "If you don't have the data/modernCardsUnprocessed.pickle file, run these cells:"
   ]
  },
  {
   "cell_type": "code",
   "execution_count": 64,
   "metadata": {
    "collapsed": true
   },
   "outputs": [],
   "source": [
    "#Get all modern cards\n",
    "cards = Card.where(gameFormat='modern').all()\n",
    "cardDicts = [c.__dict__ for c in cards]\n",
    "cardsDf = pd.DataFrame(cardDicts)"
   ]
  },
  {
   "cell_type": "code",
   "execution_count": 65,
   "metadata": {
    "collapsed": true
   },
   "outputs": [],
   "source": [
    "if cardsDf is not None:\n",
    "    with open('data/modernCardsUnprocessed.pickle','wb') as pickle_out:\n",
    "        pickle.dump(cardsDf,pickle_out)"
   ]
  },
  {
   "cell_type": "markdown",
   "metadata": {},
   "source": [
    "Otherwise, run these cell:"
   ]
  },
  {
   "cell_type": "code",
   "execution_count": 67,
   "metadata": {
    "collapsed": true
   },
   "outputs": [],
   "source": [
    "#Open unprocessed data\n",
    "with open('data/modernCardsUnprocessed.pickle','rb') as pickle_in:\n",
    "    cardsDf = pickle.load(pickle_in)"
   ]
  },
  {
   "cell_type": "code",
   "execution_count": 68,
   "metadata": {
    "collapsed": true
   },
   "outputs": [],
   "source": [
    "#Filter out the lands\n",
    "types = cardsDf['types']\n",
    "\n",
    "nonlandFilter = [\"Land\" not in t for t in types]\n",
    "\n",
    "nonLands = pd.DataFrame(cardsDf.loc[nonlandFilter])"
   ]
  },
  {
   "cell_type": "code",
   "execution_count": 69,
   "metadata": {
    "collapsed": true
   },
   "outputs": [],
   "source": [
    "#This will fix list columns with null values and join lists by commas\n",
    "def fixListCol(el):\n",
    "    if el == None:\n",
    "        return ''\n",
    "    elif type(el) == list:\n",
    "        return ','.join(el)\n",
    "    return el"
   ]
  },
  {
   "cell_type": "code",
   "execution_count": 70,
   "metadata": {
    "collapsed": true
   },
   "outputs": [],
   "source": [
    "def separateMana(col):\n",
    "    if col is None:\n",
    "        return {}\n",
    "    return {color:1 for color in col}"
   ]
  },
  {
   "cell_type": "code",
   "execution_count": 71,
   "metadata": {
    "scrolled": true
   },
   "outputs": [],
   "source": [
    "colors = pd.DataFrame(list(nonLands['color_identity'].apply(separateMana))).fillna(0)\n",
    "colors = colors.set_index(nonLands.index)"
   ]
  },
  {
   "cell_type": "code",
   "execution_count": 64,
   "metadata": {},
   "outputs": [
    {
     "name": "stdout",
     "output_type": "stream",
     "text": [
      "B    0.0\n",
      "G    1.0\n",
      "R    0.0\n",
      "U    0.0\n",
      "W    0.0\n",
      "Name: 8443, dtype: float64\n"
     ]
    }
   ],
   "source": [
    "print(colors.loc[8443])"
   ]
  },
  {
   "cell_type": "code",
   "execution_count": 72,
   "metadata": {
    "collapsed": true
   },
   "outputs": [],
   "source": [
    "nonLandsColorsSeparate = nonLands.merge(colors,left_index=True,right_index=True)"
   ]
  },
  {
   "cell_type": "code",
   "execution_count": 73,
   "metadata": {
    "collapsed": true
   },
   "outputs": [],
   "source": [
    "# Apply the fix to relevant columns\n",
    "nonLandsColorsSeparate['supertypes'] = nonLandsColorsSeparate['supertypes'].apply(fixListCol)\n",
    "nonLandsColorsSeparate['types'] = nonLandsColorsSeparate['types'].apply(fixListCol)\n",
    "nonLandsColorsSeparate['subtypes'] = nonLandsColorsSeparate['subtypes'].apply(fixListCol)\n"
   ]
  },
  {
   "cell_type": "code",
   "execution_count": 74,
   "metadata": {},
   "outputs": [
    {
     "name": "stdout",
     "output_type": "stream",
     "text": [
      "            artist  cmc color_identity  layout  loyalty  mana_cost  \\\n",
      "0      Warren Mahy    4            [R]  normal      NaN     {3}{R}   \n",
      "16  Douglas Shuler    5            [W]  normal      NaN  {3}{W}{W}   \n",
      "17  Trevor Claxton    4            [G]  normal      NaN  {2}{G}{G}   \n",
      "18            Izzy    3         [W, U]  normal      NaN  {1}{W}{U}   \n",
      "19    Steve Argyle    2            [W]  normal      NaN     {1}{W}   \n",
      "\n",
      "                           name power   rarity       subtypes ...   \\\n",
      "0             Steamflogger Boss     3     Rare  Goblin,Rigger ...    \n",
      "16                  Serra Angel     4  Special          Angel ...    \n",
      "17                    Vengevine     4  Special      Elemental ...    \n",
      "18         Geist of Saint Traft     2  Special  Spirit,Cleric ...    \n",
      "19  Thalia, Guardian of Thraben     2  Special  Human,Soldier ...    \n",
      "\n",
      "                                                 text timeshifted toughness  \\\n",
      "0   Other Riggers you control get +1/+0 and have h...        None         3   \n",
      "16  Flying (This creature can't be blocked except ...        None         4   \n",
      "17  Haste\\nWhenever you cast a spell, if it's the ...        None         3   \n",
      "18  Hexproof (This creature can't be the target of...        None         2   \n",
      "19  First strike\\nNoncreature spells cost {1} more...        None         1   \n",
      "\n",
      "       types   set    W    U    B    R    G  \n",
      "0   Creature   UST  0.0  0.0  0.0  1.0  0.0  \n",
      "16  Creature  pWOS  1.0  0.0  0.0  0.0  0.0  \n",
      "17  Creature  pWCQ  0.0  0.0  0.0  0.0  1.0  \n",
      "18  Creature  pWCQ  1.0  1.0  0.0  0.0  0.0  \n",
      "19  Creature  pWCQ  1.0  0.0  0.0  0.0  0.0  \n",
      "\n",
      "[5 rows x 21 columns]\n"
     ]
    }
   ],
   "source": [
    "#Select the relevant columns\n",
    "cardsDfFinal = nonLandsColorsSeparate[['artist','cmc','color_identity','layout','loyalty','mana_cost','name','power','rarity','subtypes','supertypes','text','timeshifted','toughness','types','set','W','U','B','R','G']]\n",
    "\n",
    "print(cardsDfFinal.head())"
   ]
  },
  {
   "cell_type": "code",
   "execution_count": 75,
   "metadata": {},
   "outputs": [
    {
     "name": "stdout",
     "output_type": "stream",
     "text": [
      "<class 'pandas.core.frame.DataFrame'>\n",
      "Int64Index: 20018 entries, 0 to 23042\n",
      "Data columns (total 21 columns):\n",
      "artist            20018 non-null object\n",
      "cmc               20018 non-null int64\n",
      "color_identity    18135 non-null object\n",
      "layout            20018 non-null object\n",
      "loyalty           168 non-null float64\n",
      "mana_cost         19913 non-null object\n",
      "name              20018 non-null object\n",
      "power             10978 non-null object\n",
      "rarity            20018 non-null object\n",
      "subtypes          20018 non-null object\n",
      "supertypes        20018 non-null object\n",
      "text              19556 non-null object\n",
      "timeshifted       236 non-null object\n",
      "toughness         10978 non-null object\n",
      "types             20018 non-null object\n",
      "set               20018 non-null object\n",
      "W                 20018 non-null float64\n",
      "U                 20018 non-null float64\n",
      "B                 20018 non-null float64\n",
      "R                 20018 non-null float64\n",
      "G                 20018 non-null float64\n",
      "dtypes: float64(6), int64(1), object(14)\n",
      "memory usage: 4.0+ MB\n"
     ]
    }
   ],
   "source": [
    "cardsDfFinal.info()"
   ]
  },
  {
   "cell_type": "code",
   "execution_count": 76,
   "metadata": {
    "collapsed": true
   },
   "outputs": [],
   "source": [
    "#Save the data\n",
    "with open('data/modernCardsFinal.pickle','wb') as pickle_out:\n",
    "    pickle.dump(cardsDfFinal,pickle_out)"
   ]
  },
  {
   "cell_type": "markdown",
   "metadata": {},
   "source": [
    "To load the pre-processed data:"
   ]
  },
  {
   "cell_type": "code",
   "execution_count": 3,
   "metadata": {},
   "outputs": [],
   "source": [
    "with open('data/modernCardsFinal.pickle','rb') as pickle_in:\n",
    "    cardsDfFinal = pickle.load(pickle_in)"
   ]
  },
  {
   "cell_type": "markdown",
   "metadata": {},
   "source": [
    "# PRICE SCRAPING"
   ]
  },
  {
   "cell_type": "markdown",
   "metadata": {},
   "source": [
    "If the file already exists in the data directory:"
   ]
  },
  {
   "cell_type": "code",
   "execution_count": 77,
   "metadata": {
    "collapsed": true
   },
   "outputs": [],
   "source": [
    "with open('data/modernPrices.pickle','rb') as pickle_in:\n",
    "    pricesDF = pickle.load(pickle_in)"
   ]
  },
  {
   "cell_type": "markdown",
   "metadata": {},
   "source": [
    "If the data needs to be scraped:"
   ]
  },
  {
   "cell_type": "code",
   "execution_count": 90,
   "metadata": {
    "collapsed": true
   },
   "outputs": [],
   "source": [
    "#This will scrape the prices from the formats included in the given format parameter (i.e. 'Modern' will scrape both Standard and Modern)\n",
    "def scrapeSelectPage(url,formt):\n",
    "    #Get the page\n",
    "    r = requests.get(url)\n",
    "    html_doc = r.text\n",
    "    soup = BeautifulSoup(html_doc,'lxml')\n",
    "    \n",
    "    #Get the format blocks from the page\n",
    "    formats = soup.find_all('div',class_='priceList-setMenu')\n",
    "    pricesDF = pd.DataFrame()\n",
    "    for form in formats:\n",
    "        pricesDF = pricesDF.append(scrapeFormat(form))\n",
    "        \n",
    "        #Check if we've reached the desired format\n",
    "        if 'priceList-setMenu-'+formt in form.attrs['class']:\n",
    "            break\n",
    "        \n",
    "    return pricesDF\n",
    "\n",
    "#Scrapes a format div from the /prices/select page\n",
    "def scrapeFormat(soup):\n",
    "    #Select the first li element in the format's div\n",
    "    element = soup.li\n",
    "    \n",
    "    #Skip the first \"Quick Prices\" block\n",
    "    element = element.find_next_sibling('li',class_='priceList-setMenu-header')\n",
    "    \n",
    "    #Create empty dataframe to append to\n",
    "    formatDF = pd.DataFrame()\n",
    "    \n",
    "    #Append the Dataframes obtained by scraping each set\n",
    "    while(element.find_next_sibling('li') != None):\n",
    "        #Iterate\n",
    "        element = element.find_next_sibling('li')\n",
    "        \n",
    "        #The set elements don't have classes associated with them\n",
    "        if 'class' not in element.attrs:\n",
    "            #Scrape the cards in the set's page and add the name of the set\n",
    "            setDF = scrapeSet('https://www.mtggoldfish.com'+element.a.attrs['href']+'#paper')\n",
    "            setDF['setname'] = element.get_text().strip()\n",
    "            \n",
    "            formatDF = formatDF.append(setDF)\n",
    "            \n",
    "    return formatDF\n",
    "\n",
    "#Scrapes all of the prices from the given set page\n",
    "def scrapeSet(url):\n",
    "    #Get the page\n",
    "    r = requests.get(url)\n",
    "    html_doc = r.text\n",
    "    soup = BeautifulSoup(html_doc,'lxml')\n",
    "    \n",
    "    #Select the cards table\n",
    "    element = soup.find('table',class_='tablesorter-bootstrap-popover-paper').tbody\n",
    "    \n",
    "    #Build a list that will be filled with dictionaries to be converted to a DataFrame\n",
    "    cardList = []\n",
    "    \n",
    "    #Loop through rows and scrape the name and price\n",
    "    for row in element.find_all('tr'):\n",
    "        #Get the td elements\n",
    "        row = row.find_all('td')\n",
    "        \n",
    "        cardList.append({'name':row[0].a.get_text().strip(),'price':row[3].get_text().strip(),'set':row[1].get_text()})\n",
    "    \n",
    "    return pd.DataFrame(cardList)"
   ]
  },
  {
   "cell_type": "code",
   "execution_count": 91,
   "metadata": {
    "collapsed": true
   },
   "outputs": [],
   "source": [
    "pricesDF = scrapeSelectPage('https://www.mtggoldfish.com/prices/select','Modern')"
   ]
  },
  {
   "cell_type": "code",
   "execution_count": 8,
   "metadata": {
    "collapsed": true
   },
   "outputs": [],
   "source": [
    "with open('data/modernPrices.pickle','wb') as pickle_out:\n",
    "    pickle.dump(pricesDF,pickle_out)"
   ]
  },
  {
   "cell_type": "markdown",
   "metadata": {},
   "source": [
    "Look at the DF:"
   ]
  },
  {
   "cell_type": "code",
   "execution_count": 92,
   "metadata": {},
   "outputs": [
    {
     "name": "stdout",
     "output_type": "stream",
     "text": [
      "                       name  price  set           setname\n",
      "0        Rekindling Phoenix  23.27  RIX  Rivals of Ixalan\n",
      "1  Kumena, Tyrant of Orazca  19.92  RIX  Rivals of Ixalan\n",
      "2          Jadelight Ranger  10.99  RIX  Rivals of Ixalan\n",
      "3  Angrath, Minotaur Pirate  10.25  RIX  Rivals of Ixalan\n",
      "4   Vraska, Scheming Gorgon   9.97  RIX  Rivals of Ixalan\n",
      "<class 'pandas.core.frame.DataFrame'>\n",
      "Int64Index: 13864 entries, 0 to 285\n",
      "Data columns (total 4 columns):\n",
      "name       13864 non-null object\n",
      "price      13864 non-null object\n",
      "set        13864 non-null object\n",
      "setname    13864 non-null object\n",
      "dtypes: object(4)\n",
      "memory usage: 541.6+ KB\n",
      "                 name price  set       setname\n",
      "36  Steamflogger Boss  2.00  FUT  Future Sight\n"
     ]
    }
   ],
   "source": [
    "print(pricesDF.head())\n",
    "pricesDF.info()\n",
    "print(pricesDF.loc[pricesDF['name']=='Steamflogger Boss'])"
   ]
  },
  {
   "cell_type": "markdown",
   "metadata": {},
   "source": [
    "# MELD"
   ]
  },
  {
   "cell_type": "code",
   "execution_count": 6,
   "metadata": {
    "collapsed": true
   },
   "outputs": [],
   "source": [
    "#Load the existing merged dataset\n",
    "with open('data/modernPricesWithData.pickle','rb') as pickle_in:\n",
    "    cardsWithPrices = pickle.load(pickle_in)"
   ]
  },
  {
   "cell_type": "code",
   "execution_count": 95,
   "metadata": {},
   "outputs": [],
   "source": [
    "#Merge the card info and card prices dataframes\n",
    "cardsWithPrices = pricesDF.merge(cardsDfFinal,on=['name','set'])\n",
    "\n",
    "#Set the index to the name and set\n",
    "cardsWithPrices = cardsWithPrices.set_index(['set','name']).sort_index()"
   ]
  },
  {
   "cell_type": "code",
   "execution_count": 97,
   "metadata": {
    "scrolled": false
   },
   "outputs": [
    {
     "data": {
      "text/html": [
       "<div>\n",
       "<style>\n",
       "    .dataframe thead tr:only-child th {\n",
       "        text-align: right;\n",
       "    }\n",
       "\n",
       "    .dataframe thead th {\n",
       "        text-align: left;\n",
       "    }\n",
       "\n",
       "    .dataframe tbody tr th {\n",
       "        vertical-align: top;\n",
       "    }\n",
       "</style>\n",
       "<table border=\"1\" class=\"dataframe\">\n",
       "  <thead>\n",
       "    <tr style=\"text-align: right;\">\n",
       "      <th></th>\n",
       "      <th></th>\n",
       "      <th>price</th>\n",
       "      <th>setname</th>\n",
       "      <th>artist</th>\n",
       "      <th>cmc</th>\n",
       "      <th>color_identity</th>\n",
       "      <th>layout</th>\n",
       "      <th>loyalty</th>\n",
       "      <th>mana_cost</th>\n",
       "      <th>power</th>\n",
       "      <th>rarity</th>\n",
       "      <th>...</th>\n",
       "      <th>supertypes</th>\n",
       "      <th>text</th>\n",
       "      <th>timeshifted</th>\n",
       "      <th>toughness</th>\n",
       "      <th>types</th>\n",
       "      <th>W</th>\n",
       "      <th>U</th>\n",
       "      <th>B</th>\n",
       "      <th>R</th>\n",
       "      <th>G</th>\n",
       "    </tr>\n",
       "    <tr>\n",
       "      <th>set</th>\n",
       "      <th>name</th>\n",
       "      <th></th>\n",
       "      <th></th>\n",
       "      <th></th>\n",
       "      <th></th>\n",
       "      <th></th>\n",
       "      <th></th>\n",
       "      <th></th>\n",
       "      <th></th>\n",
       "      <th></th>\n",
       "      <th></th>\n",
       "      <th></th>\n",
       "      <th></th>\n",
       "      <th></th>\n",
       "      <th></th>\n",
       "      <th></th>\n",
       "      <th></th>\n",
       "      <th></th>\n",
       "      <th></th>\n",
       "      <th></th>\n",
       "      <th></th>\n",
       "      <th></th>\n",
       "    </tr>\n",
       "  </thead>\n",
       "  <tbody>\n",
       "    <tr>\n",
       "      <th rowspan=\"5\" valign=\"top\">10E</th>\n",
       "      <th>Abundance</th>\n",
       "      <td>2.24</td>\n",
       "      <td>10th Edition</td>\n",
       "      <td>Rebecca Guay</td>\n",
       "      <td>4</td>\n",
       "      <td>[G]</td>\n",
       "      <td>normal</td>\n",
       "      <td>NaN</td>\n",
       "      <td>{2}{G}{G}</td>\n",
       "      <td>None</td>\n",
       "      <td>Rare</td>\n",
       "      <td>...</td>\n",
       "      <td></td>\n",
       "      <td>If you would draw a card, you may instead choo...</td>\n",
       "      <td>None</td>\n",
       "      <td>None</td>\n",
       "      <td>Enchantment</td>\n",
       "      <td>0.0</td>\n",
       "      <td>0.0</td>\n",
       "      <td>0.0</td>\n",
       "      <td>0.0</td>\n",
       "      <td>1.0</td>\n",
       "    </tr>\n",
       "    <tr>\n",
       "      <th>Academy Researchers</th>\n",
       "      <td>0.26</td>\n",
       "      <td>10th Edition</td>\n",
       "      <td>Stephen Daniele</td>\n",
       "      <td>3</td>\n",
       "      <td>[U]</td>\n",
       "      <td>normal</td>\n",
       "      <td>NaN</td>\n",
       "      <td>{1}{U}{U}</td>\n",
       "      <td>2</td>\n",
       "      <td>Uncommon</td>\n",
       "      <td>...</td>\n",
       "      <td></td>\n",
       "      <td>When Academy Researchers enters the battlefiel...</td>\n",
       "      <td>None</td>\n",
       "      <td>2</td>\n",
       "      <td>Creature</td>\n",
       "      <td>0.0</td>\n",
       "      <td>1.0</td>\n",
       "      <td>0.0</td>\n",
       "      <td>0.0</td>\n",
       "      <td>0.0</td>\n",
       "    </tr>\n",
       "    <tr>\n",
       "      <th>Afflict</th>\n",
       "      <td>0.16</td>\n",
       "      <td>10th Edition</td>\n",
       "      <td>Roger Raupp</td>\n",
       "      <td>3</td>\n",
       "      <td>[B]</td>\n",
       "      <td>normal</td>\n",
       "      <td>NaN</td>\n",
       "      <td>{2}{B}</td>\n",
       "      <td>None</td>\n",
       "      <td>Common</td>\n",
       "      <td>...</td>\n",
       "      <td></td>\n",
       "      <td>Target creature gets -1/-1 until end of turn.\\...</td>\n",
       "      <td>None</td>\n",
       "      <td>None</td>\n",
       "      <td>Instant</td>\n",
       "      <td>0.0</td>\n",
       "      <td>0.0</td>\n",
       "      <td>1.0</td>\n",
       "      <td>0.0</td>\n",
       "      <td>0.0</td>\n",
       "    </tr>\n",
       "    <tr>\n",
       "      <th>Aggressive Urge</th>\n",
       "      <td>0.17</td>\n",
       "      <td>10th Edition</td>\n",
       "      <td>Christopher Moeller</td>\n",
       "      <td>2</td>\n",
       "      <td>[G]</td>\n",
       "      <td>normal</td>\n",
       "      <td>NaN</td>\n",
       "      <td>{1}{G}</td>\n",
       "      <td>None</td>\n",
       "      <td>Common</td>\n",
       "      <td>...</td>\n",
       "      <td></td>\n",
       "      <td>Target creature gets +1/+1 until end of turn.\\...</td>\n",
       "      <td>None</td>\n",
       "      <td>None</td>\n",
       "      <td>Instant</td>\n",
       "      <td>0.0</td>\n",
       "      <td>0.0</td>\n",
       "      <td>0.0</td>\n",
       "      <td>0.0</td>\n",
       "      <td>1.0</td>\n",
       "    </tr>\n",
       "    <tr>\n",
       "      <th>Agonizing Memories</th>\n",
       "      <td>0.21</td>\n",
       "      <td>10th Edition</td>\n",
       "      <td>Adam Rex</td>\n",
       "      <td>4</td>\n",
       "      <td>[B]</td>\n",
       "      <td>normal</td>\n",
       "      <td>NaN</td>\n",
       "      <td>{2}{B}{B}</td>\n",
       "      <td>None</td>\n",
       "      <td>Uncommon</td>\n",
       "      <td>...</td>\n",
       "      <td></td>\n",
       "      <td>Look at target player's hand and choose two ca...</td>\n",
       "      <td>None</td>\n",
       "      <td>None</td>\n",
       "      <td>Sorcery</td>\n",
       "      <td>0.0</td>\n",
       "      <td>0.0</td>\n",
       "      <td>1.0</td>\n",
       "      <td>0.0</td>\n",
       "      <td>0.0</td>\n",
       "    </tr>\n",
       "  </tbody>\n",
       "</table>\n",
       "<p>5 rows × 21 columns</p>\n",
       "</div>"
      ],
      "text/plain": [
       "                        price       setname               artist  cmc  \\\n",
       "set name                                                                \n",
       "10E Abundance            2.24  10th Edition         Rebecca Guay    4   \n",
       "    Academy Researchers  0.26  10th Edition      Stephen Daniele    3   \n",
       "    Afflict              0.16  10th Edition          Roger Raupp    3   \n",
       "    Aggressive Urge      0.17  10th Edition  Christopher Moeller    2   \n",
       "    Agonizing Memories   0.21  10th Edition             Adam Rex    4   \n",
       "\n",
       "                        color_identity  layout  loyalty  mana_cost power  \\\n",
       "set name                                                                   \n",
       "10E Abundance                      [G]  normal      NaN  {2}{G}{G}  None   \n",
       "    Academy Researchers            [U]  normal      NaN  {1}{U}{U}     2   \n",
       "    Afflict                        [B]  normal      NaN     {2}{B}  None   \n",
       "    Aggressive Urge                [G]  normal      NaN     {1}{G}  None   \n",
       "    Agonizing Memories             [B]  normal      NaN  {2}{B}{B}  None   \n",
       "\n",
       "                           rarity ...  supertypes  \\\n",
       "set name                          ...               \n",
       "10E Abundance                Rare ...               \n",
       "    Academy Researchers  Uncommon ...               \n",
       "    Afflict                Common ...               \n",
       "    Aggressive Urge        Common ...               \n",
       "    Agonizing Memories   Uncommon ...               \n",
       "\n",
       "                                                                      text  \\\n",
       "set name                                                                     \n",
       "10E Abundance            If you would draw a card, you may instead choo...   \n",
       "    Academy Researchers  When Academy Researchers enters the battlefiel...   \n",
       "    Afflict              Target creature gets -1/-1 until end of turn.\\...   \n",
       "    Aggressive Urge      Target creature gets +1/+1 until end of turn.\\...   \n",
       "    Agonizing Memories   Look at target player's hand and choose two ca...   \n",
       "\n",
       "                        timeshifted toughness        types    W    U    B  \\\n",
       "set name                                                                    \n",
       "10E Abundance                  None      None  Enchantment  0.0  0.0  0.0   \n",
       "    Academy Researchers        None         2     Creature  0.0  1.0  0.0   \n",
       "    Afflict                    None      None      Instant  0.0  0.0  1.0   \n",
       "    Aggressive Urge            None      None      Instant  0.0  0.0  0.0   \n",
       "    Agonizing Memories         None      None      Sorcery  0.0  0.0  1.0   \n",
       "\n",
       "                           R    G  \n",
       "set name                           \n",
       "10E Abundance            0.0  1.0  \n",
       "    Academy Researchers  0.0  0.0  \n",
       "    Afflict              0.0  0.0  \n",
       "    Aggressive Urge      0.0  1.0  \n",
       "    Agonizing Memories   0.0  0.0  \n",
       "\n",
       "[5 rows x 21 columns]"
      ]
     },
     "execution_count": 97,
     "metadata": {},
     "output_type": "execute_result"
    }
   ],
   "source": [
    "cardsWithPrices.head()"
   ]
  },
  {
   "cell_type": "code",
   "execution_count": 98,
   "metadata": {
    "collapsed": true
   },
   "outputs": [],
   "source": [
    "#Convert to useful datatypes\n",
    "cardsWithPrices['cmc'] = pd.to_numeric(cardsWithPrices['cmc'])\n",
    "cardsWithPrices['loyalty'] = pd.to_numeric(cardsWithPrices['loyalty'])\n",
    "cardsWithPrices['price'] = pd.to_numeric(cardsWithPrices['price'])\n",
    "cardsWithPrices['rarity'] = cardsWithPrices['rarity'].astype('category')\n",
    "cardsWithPrices['layout'] = cardsWithPrices['layout'].astype('category')"
   ]
  },
  {
   "cell_type": "code",
   "execution_count": 102,
   "metadata": {},
   "outputs": [],
   "source": [
    "#Manually adding a manacost to Suspend and no-cost Splice cards as their ability's respective cost\n",
    "cardsWithPrices.loc[(slice(None),'Evermind'),'mana_cost'] = '{1}{U}'\n",
    "cardsWithPrices.loc[(slice(None),'Evermind'),'cmc'] = 2\n",
    "\n",
    "cardsWithPrices.loc[(slice(None),'Wheel of Fate'),'mana_cost'] = '{1}{R}'\n",
    "cardsWithPrices.loc[(slice(None),'Wheel of Fate'),'cmc'] = 2\n",
    "\n",
    "cardsWithPrices.loc[(slice(None),'Restore Balance'),'mana_cost'] = '{W}'\n",
    "cardsWithPrices.loc[(slice(None),'Restore Balance'),'cmc'] = 1\n",
    "\n",
    "cardsWithPrices.loc[(slice(None),'Living End'),'mana_cost'] = '{2}{B}{B}'\n",
    "cardsWithPrices.loc[(slice(None),'Living End'),'cmc'] = 4\n",
    "\n",
    "cardsWithPrices.loc[(slice(None),'Ancestral Vision'),'mana_cost'] = '{U}'\n",
    "cardsWithPrices.loc[(slice(None),'Ancestral Vision'),'cmc'] = 1\n",
    "\n",
    "cardsWithPrices.loc[(slice(None),'Lotus Bloom'),'mana_cost'] = '{0}'\n",
    "cardsWithPrices.loc[(slice(None),'Lotus Bloom'),'cmc'] = 0"
   ]
  },
  {
   "cell_type": "code",
   "execution_count": 103,
   "metadata": {
    "collapsed": true
   },
   "outputs": [],
   "source": [
    "#Fill empty text \n",
    "cardsWithPrices['text'] = cardsWithPrices['text'].fillna('')"
   ]
  },
  {
   "cell_type": "code",
   "execution_count": null,
   "metadata": {
    "collapsed": true
   },
   "outputs": [],
   "source": [
    "#Set codes should be an ordered category\n",
    "setCategories = CategoricalDtype(categories=['8ED','MRD','DST','5DN','CHK','BOK','SOK','9ED','RAV','GPT','DIS','CSP','TSP','PLC','FUT','10E',\n",
    "                                             'LRW','MOR','SHM','EVE','ALA','CON','ARB','M10','ZEN','WWK','ROE','M11','SOM','MBS','NPH','M12',\n",
    "                                            'ISD','DKA','AVR','M13','RTR','GTC','DGM','M14','THS','BNG','JOU','M15','KTK','FRF','DTK','ORI',\n",
    "                                             'BFZ','OGW','SOI','EMN','KLD','AER','AKH','HOU','XLN','RIX'],ordered=True)"
   ]
  },
  {
   "cell_type": "code",
   "execution_count": 104,
   "metadata": {},
   "outputs": [
    {
     "name": "stdout",
     "output_type": "stream",
     "text": [
      "<class 'pandas.core.frame.DataFrame'>\n",
      "MultiIndex: 12746 entries, (10E, Abundance) to (ZEN, Zendikar Farguide)\n",
      "Data columns (total 21 columns):\n",
      "price             12746 non-null float64\n",
      "setname           12746 non-null object\n",
      "artist            12746 non-null object\n",
      "cmc               12746 non-null int64\n",
      "color_identity    11557 non-null object\n",
      "layout            12746 non-null category\n",
      "loyalty           113 non-null float64\n",
      "mana_cost         12746 non-null object\n",
      "power             7062 non-null object\n",
      "rarity            12746 non-null category\n",
      "subtypes          12746 non-null object\n",
      "supertypes        12746 non-null object\n",
      "text              12746 non-null object\n",
      "timeshifted       233 non-null object\n",
      "toughness         7062 non-null object\n",
      "types             12746 non-null object\n",
      "W                 12746 non-null float64\n",
      "U                 12746 non-null float64\n",
      "B                 12746 non-null float64\n",
      "R                 12746 non-null float64\n",
      "G                 12746 non-null float64\n",
      "dtypes: category(2), float64(7), int64(1), object(11)\n",
      "memory usage: 2.9+ MB\n"
     ]
    }
   ],
   "source": [
    "#Everything is good to go!\n",
    "cardsWithPrices.info()"
   ]
  },
  {
   "cell_type": "code",
   "execution_count": 105,
   "metadata": {
    "collapsed": true
   },
   "outputs": [],
   "source": [
    "with open('data/modernPricesWithData.pickle','wb') as pickle_out:\n",
    "    pickle.dump(cardsWithPrices,pickle_out)"
   ]
  },
  {
   "cell_type": "markdown",
   "metadata": {},
   "source": [
    "# PLAYING WITH THE DATA"
   ]
  },
  {
   "cell_type": "markdown",
   "metadata": {},
   "source": [
    "I know that the VAST majority of cards are essentially worthless (only worth a couple of cents), so let's see exactly how skewed the prices are."
   ]
  },
  {
   "cell_type": "code",
   "execution_count": 119,
   "metadata": {},
   "outputs": [
    {
     "name": "stdout",
     "output_type": "stream",
     "text": [
      "94.11    1\n",
      "91.43    1\n",
      "89.99    1\n",
      "77.24    1\n",
      "76.44    1\n",
      "73.93    1\n",
      "72.19    1\n",
      "72.05    1\n",
      "71.99    1\n",
      "70.00    1\n",
      "67.92    1\n",
      "65.70    1\n",
      "64.95    1\n",
      "64.19    1\n",
      "63.22    1\n",
      "59.99    1\n",
      "59.70    1\n",
      "57.87    1\n",
      "57.86    1\n",
      "56.98    1\n",
      "Name: price, dtype: int64\n"
     ]
    }
   ],
   "source": [
    "#Group the entire data set by price, let's get a count of each price\n",
    "priceCounts = cardsWithPrices['price'].value_counts().sort_index(ascending = False)\n",
    "\n",
    "print(priceCounts.head(20))"
   ]
  },
  {
   "cell_type": "code",
   "execution_count": 124,
   "metadata": {},
   "outputs": [
    {
     "data": {
      "image/png": "[encoded data removed]",
      "text/plain": [
       "<matplotlib.figure.Figure at 0x19f4f518>"
      ]
     },
     "metadata": {},
     "output_type": "display_data"
    }
   ],
   "source": [
    "plt.hist(priceCounts,bins=200,range=(0,100))\n",
    "plt.show()"
   ]
  },
  {
   "cell_type": "markdown",
   "metadata": {},
   "source": [
    "As expected, about 11,000 of our total 12,730 cards cost less than 6 cents! These cards are generally unplayed and can be categorized as such."
   ]
  },
  {
   "cell_type": "code",
   "execution_count": 47,
   "metadata": {
    "collapsed": true
   },
   "outputs": [],
   "source": [
    "#Group by the name so that re-prints aren't double counted\n",
    "uniques = cardsWithPrices.groupby('name').agg({'price':'min','W':'first','U':'first','B':'first','R':'first','G':'first'})\n",
    "\n",
    "unplayables = uniques.loc[uniques['price']<=.05]\n",
    "playables = uniques.loc[uniques['price']>.05]"
   ]
  },
  {
   "cell_type": "markdown",
   "metadata": {},
   "source": [
    "Let's see if we can find some attributes common among playable cards vs unplayable cards:"
   ]
  },
  {
   "cell_type": "code",
   "execution_count": 13,
   "metadata": {
    "collapsed": true
   },
   "outputs": [],
   "source": [
    "#Abstraction that returns a boolean mask to extracting a specific color group in a dataframe\n",
    "def colorMask(df,pattern):\n",
    "    return [pattern in cost for cost in df['mana_cost']]"
   ]
  },
  {
   "cell_type": "code",
   "execution_count": 48,
   "metadata": {},
   "outputs": [
    {
     "name": "stdout",
     "output_type": "stream",
     "text": [
      "                     price    W    U    B    R    G\n",
      "name                                               \n",
      "Abbot of Keral Keep   0.08  0.0  1.0  0.0  0.0  0.0\n",
      "Abrade                1.51  0.0  1.0  1.0  0.0  0.0\n",
      "Abrupt Decay          3.21  0.0  0.0  1.0  0.0  0.0\n",
      "Abyssal Persecutor    0.36  0.0  0.0  1.0  0.0  0.0\n",
      "Adaptive Automaton    0.14  0.0  1.0  0.0  0.0  0.0\n"
     ]
    }
   ],
   "source": [
    "print(playables.head())"
   ]
  }
 ],
 "metadata": {
  "kernelspec": {
   "display_name": "Python 3",
   "language": "python",
   "name": "python3"
  },
  "language_info": {
   "codemirror_mode": {
    "name": "ipython",
    "version": 3
   },
   "file_extension": ".py",
   "mimetype": "text/x-python",
   "name": "python",
   "nbconvert_exporter": "python",
   "pygments_lexer": "ipython3",
   "version": "3.6.3"
  }
 },
 "nbformat": 4,
 "nbformat_minor": 2
}
