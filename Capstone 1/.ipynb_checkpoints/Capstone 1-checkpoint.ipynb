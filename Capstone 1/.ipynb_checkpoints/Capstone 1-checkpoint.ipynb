{
 "cells": [
  {
   "cell_type": "code",
   "execution_count": 1,
   "metadata": {},
   "outputs": [
    {
     "name": "stdout",
     "output_type": "stream",
     "text": [
      "Requirement already satisfied: mtgsdk in c:\\users\\tyler\\anaconda3\\lib\\site-packages\n"
     ]
    }
   ],
   "source": [
    "#Install/import necessary packages\n",
    "!pip install mtgsdk\n",
    "from mtgsdk import Card\n",
    "from bs4 import BeautifulSoup\n",
    "\n",
    "import requests\n",
    "import pandas as pd\n",
    "import json\n",
    "import pickle\n",
    "from pandas.io.json import json_normalize"
   ]
  },
  {
   "cell_type": "markdown",
   "metadata": {},
   "source": [
    "# CARD DATA SCRAPING "
   ]
  },
  {
   "cell_type": "markdown",
   "metadata": {},
   "source": [
    "If you don't have the data/modernCardsUnprocessed.pickle file, run these cells:"
   ]
  },
  {
   "cell_type": "code",
   "execution_count": 8,
   "metadata": {
    "collapsed": true
   },
   "outputs": [],
   "source": [
    "#Get all modern cards\n",
    "cards = Card.where(gameFormat='modern').all()\n",
    "cardDicts = [c.__dict__ for c in cards]\n",
    "cardsDf = pd.DataFrame(cardDicts)"
   ]
  },
  {
   "cell_type": "code",
   "execution_count": 9,
   "metadata": {
    "collapsed": true
   },
   "outputs": [],
   "source": [
    "with open('data/modernCardsUnprocessed.pickle','wb') as pickle_out:\n",
    "    pickle.dump(cardsDf,pickle_out)"
   ]
  },
  {
   "cell_type": "markdown",
   "metadata": {},
   "source": [
    "Otherwise, run these cell:"
   ]
  },
  {
   "cell_type": "code",
   "execution_count": 13,
   "metadata": {
    "collapsed": true
   },
   "outputs": [],
   "source": [
    "#Open unprocessed data\n",
    "with open('data/modernCardsUnprocessed.pickle','rb') as pickle_in:\n",
    "    cardsDf = pickle.load(pickle_in)"
   ]
  },
  {
   "cell_type": "code",
   "execution_count": 14,
   "metadata": {
    "collapsed": true
   },
   "outputs": [],
   "source": [
    "#Filter out the lands\n",
    "types = cardsDf['types']\n",
    "\n",
    "nonlandFilter = [\"Land\" not in t for t in types]\n",
    "\n",
    "nonLands = pd.DataFrame(cardsDf.loc[nonlandFilter])"
   ]
  },
  {
   "cell_type": "code",
   "execution_count": 15,
   "metadata": {
    "collapsed": true
   },
   "outputs": [],
   "source": [
    "#This will fix list columns with null values and join lists by commas\n",
    "def fixListCol(el):\n",
    "    if el == None:\n",
    "        return ''\n",
    "    elif type(el) == list:\n",
    "        return ','.join(el)\n",
    "    return el"
   ]
  },
  {
   "cell_type": "code",
   "execution_count": 16,
   "metadata": {
    "collapsed": true
   },
   "outputs": [],
   "source": [
    "# Apply the fix to relevant columns\n",
    "nonLands['supertypes'] = nonLands['supertypes'].apply(fixListCol)\n",
    "nonLands['types'] = nonLands['types'].apply(fixListCol)\n",
    "nonLands['subtypes'] = nonLands['subtypes'].apply(fixListCol)\n",
    "nonLands['color_identity'] = nonLands['color_identity'].apply(fixListCol)\n"
   ]
  },
  {
   "cell_type": "code",
   "execution_count": 17,
   "metadata": {},
   "outputs": [
    {
     "name": "stdout",
     "output_type": "stream",
     "text": [
      "            artist border  cmc color_identity  layout  loyalty  mana_cost  \\\n",
      "0      Warren Mahy   None    4              R  normal      NaN     {3}{R}   \n",
      "16  Douglas Shuler   None    5              W  normal      NaN  {3}{W}{W}   \n",
      "17  Trevor Claxton   None    4              G  normal      NaN  {2}{G}{G}   \n",
      "18            Izzy   None    3            W,U  normal      NaN  {1}{W}{U}   \n",
      "19    Steve Argyle   None    2              W  normal      NaN     {1}{W}   \n",
      "\n",
      "                           name power   rarity release_date  \\\n",
      "0             Steamflogger Boss     3     Rare         None   \n",
      "16                  Serra Angel     4  Special   1999-09-04   \n",
      "17                    Vengevine     4  Special         2013   \n",
      "18         Geist of Saint Traft     2  Special         2014   \n",
      "19  Thalia, Guardian of Thraben     2  Special         2015   \n",
      "\n",
      "                                               source       subtypes  \\\n",
      "0                                                None  Goblin,Rigger   \n",
      "16  Wizards of the Coast Online Store purchase bonus.          Angel   \n",
      "17     World Magic Cup Qualifiers Participation bonus      Elemental   \n",
      "18     World Magic Cup Qualifiers Participation bonus  Spirit,Cleric   \n",
      "19     World Magic Cup Qualifiers Participation bonus  Human,Soldier   \n",
      "\n",
      "   supertypes                                               text timeshifted  \\\n",
      "0              Other Riggers you control get +1/+0 and have h...        None   \n",
      "16             Flying (This creature can't be blocked except ...        None   \n",
      "17             Haste\\nWhenever you cast a spell, if it's the ...        None   \n",
      "18  Legendary  Hexproof (This creature can't be the target of...        None   \n",
      "19  Legendary  First strike\\nNoncreature spells cost {1} more...        None   \n",
      "\n",
      "   toughness     types   set  \n",
      "0          3  Creature   UST  \n",
      "16         4  Creature  pWOS  \n",
      "17         3  Creature  pWCQ  \n",
      "18         2  Creature  pWCQ  \n",
      "19         1  Creature  pWCQ  \n"
     ]
    }
   ],
   "source": [
    "#Select the relevant columns and save the data\n",
    "cardsDfFinal = nonLands[['artist','border','cmc','color_identity','layout','loyalty','mana_cost','name','power','rarity','release_date','source','subtypes','supertypes','text','timeshifted','toughness','types','set']]\n",
    "\n",
    "print(cardsDfFinal.head())\n",
    "\n",
    "with open('data/modernCardsFinal.pickle','wb') as pickle_out:\n",
    "    pickle.dump(cardsDfFinal,pickle_out)"
   ]
  },
  {
   "cell_type": "code",
   "execution_count": null,
   "metadata": {
    "collapsed": true
   },
   "outputs": [],
   "source": [
    "with open('data/modernCardsFinal.pickle','rb') as pickle_in:\n",
    "    cardsDfFinal = pickle.load(pickle_in)"
   ]
  },
  {
   "cell_type": "markdown",
   "metadata": {},
   "source": [
    "# PRICE SCRAPING"
   ]
  },
  {
   "cell_type": "markdown",
   "metadata": {},
   "source": [
    "If the file already exists in the data directory"
   ]
  },
  {
   "cell_type": "code",
   "execution_count": 9,
   "metadata": {
    "collapsed": true
   },
   "outputs": [],
   "source": [
    "with open('data/modernPrices.pickle','rb') as pickle_in:\n",
    "    pricesDF = pickle.load(pickle_in)"
   ]
  },
  {
   "cell_type": "markdown",
   "metadata": {},
   "source": [
    "If the data needs to be scraped"
   ]
  },
  {
   "cell_type": "code",
   "execution_count": 5,
   "metadata": {
    "collapsed": true
   },
   "outputs": [],
   "source": [
    "#This will scrape the prices from the formats included in the given format parameter (i.e. 'Modern' will scrape both Standard and Modern)\n",
    "def scrapeSelectPage(url,formt):\n",
    "    #Get the page\n",
    "    r = requests.get(url)\n",
    "    html_doc = r.text\n",
    "    soup = BeautifulSoup(html_doc,'lxml')\n",
    "    \n",
    "    #Get the format blocks from the page\n",
    "    formats = soup.find_all('div',class_='priceList-setMenu')\n",
    "    pricesDF = pd.DataFrame()\n",
    "    for form in formats:\n",
    "        pricesDF = pricesDF.append(scrapeFormat(form))\n",
    "        \n",
    "        #Check if we've reached the desired format\n",
    "        if 'priceList-setMenu-'+formt in form.attrs['class']:\n",
    "            break\n",
    "        \n",
    "    return pricesDF\n",
    "\n",
    "#Scrapes a format div from the /prices/select page\n",
    "def scrapeFormat(soup):\n",
    "    #Select the first li element in the format's div\n",
    "    element = soup.li\n",
    "    \n",
    "    #Skip the first \"Quick Prices\" block\n",
    "    element = element.find_next_sibling('li',class_='priceList-setMenu-header')\n",
    "    \n",
    "    #Create empty dataframe to append to\n",
    "    formatDF = pd.DataFrame()\n",
    "    \n",
    "    #Append the Dataframes obtained by scraping each set\n",
    "    while(element.find_next_sibling('li') != None):\n",
    "        #Iterate\n",
    "        element = element.find_next_sibling('li')\n",
    "        \n",
    "        #The set elements don't have classes associated with them\n",
    "        if 'class' not in element.attrs:\n",
    "            #Scrape the cards in the set's page and add the name of the set\n",
    "            setDF = scrapeSet('https://www.mtggoldfish.com'+element.a.attrs['href']+'#paper')\n",
    "            setDF['setname'] = element.get_text().strip()\n",
    "            \n",
    "            formatDF = formatDF.append(setDF)\n",
    "            \n",
    "    return formatDF\n",
    "\n",
    "#Scrapes all of the prices from the given set page\n",
    "def scrapeSet(url):\n",
    "    #Get the page\n",
    "    r = requests.get(url)\n",
    "    html_doc = r.text\n",
    "    soup = BeautifulSoup(html_doc,'lxml')\n",
    "    \n",
    "    #Select the cards table\n",
    "    element = soup.find('table',class_='tablesorter-bootstrap-popover-online').tbody\n",
    "    \n",
    "    #Build a list that will be filled with dictionaries to be converted to a DataFrame\n",
    "    cardList = []\n",
    "    \n",
    "    #Loop through rows and scrape the name and price\n",
    "    for row in element.find_all('tr'):\n",
    "        #Get the td elements\n",
    "        row = row.find_all('td')\n",
    "        \n",
    "        cardList.append({'name':row[0].a.get_text().strip(),'price':row[3].get_text().strip(),'set':row[1].get_text()})\n",
    "    \n",
    "    return pd.DataFrame(cardList)"
   ]
  },
  {
   "cell_type": "code",
   "execution_count": 6,
   "metadata": {},
   "outputs": [
    {
     "name": "stdout",
     "output_type": "stream",
     "text": [
      "                       name  price  set           setname\n",
      "0        Rekindling Phoenix  20.64  RIX  Rivals of Ixalan\n",
      "1  Kumena, Tyrant of Orazca   8.02  RIX  Rivals of Ixalan\n",
      "2  Angrath, Minotaur Pirate   6.00  RIX  Rivals of Ixalan\n",
      "3   Vraska, Scheming Gorgon   5.00  RIX  Rivals of Ixalan\n",
      "4          Jadelight Ranger   3.83  RIX  Rivals of Ixalan\n",
      "<class 'pandas.core.frame.DataFrame'>\n",
      "Int64Index: 13816 entries, 0 to 285\n",
      "Data columns (total 4 columns):\n",
      "name       13816 non-null object\n",
      "price      13816 non-null object\n",
      "set        13816 non-null object\n",
      "setname    13816 non-null object\n",
      "dtypes: object(4)\n",
      "memory usage: 539.7+ KB\n"
     ]
    }
   ],
   "source": [
    "pricesDF = scrapeSelectPage('https://www.mtggoldfish.com/prices/select','Modern')"
   ]
  },
  {
   "cell_type": "code",
   "execution_count": 8,
   "metadata": {},
   "outputs": [],
   "source": [
    "with open('data/modernPrices.pickle','wb') as pickle_out:\n",
    "    pickle.dump(pricesDF,pickle_out)"
   ]
  },
  {
   "cell_type": "markdown",
   "metadata": {},
   "source": [
    "Look at the DF"
   ]
  },
  {
   "cell_type": "code",
   "execution_count": 10,
   "metadata": {},
   "outputs": [
    {
     "name": "stdout",
     "output_type": "stream",
     "text": [
      "                       name  price  set           setname\n",
      "0        Rekindling Phoenix  20.64  RIX  Rivals of Ixalan\n",
      "1  Kumena, Tyrant of Orazca   8.02  RIX  Rivals of Ixalan\n",
      "2  Angrath, Minotaur Pirate   6.00  RIX  Rivals of Ixalan\n",
      "3   Vraska, Scheming Gorgon   5.00  RIX  Rivals of Ixalan\n",
      "4          Jadelight Ranger   3.83  RIX  Rivals of Ixalan\n",
      "<class 'pandas.core.frame.DataFrame'>\n",
      "Int64Index: 13816 entries, 0 to 285\n",
      "Data columns (total 4 columns):\n",
      "name       13816 non-null object\n",
      "price      13816 non-null object\n",
      "set        13816 non-null object\n",
      "setname    13816 non-null object\n",
      "dtypes: object(4)\n",
      "memory usage: 539.7+ KB\n"
     ]
    }
   ],
   "source": [
    "print(pricesDF.head())\n",
    "pricesDF.info()"
   ]
  },
  {
   "cell_type": "markdown",
   "metadata": {},
   "source": [
    "# MELD"
   ]
  },
  {
   "cell_type": "code",
   "execution_count": 34,
   "metadata": {},
   "outputs": [],
   "source": [
    "cardsWithPrices = pricesDF.merge(cardsDfFinal,on=['name','set'])\n",
    "cardsWithPrices = cardsWithPrices.set_index(['set','name']).sort_index()"
   ]
  },
  {
   "cell_type": "code",
   "execution_count": 51,
   "metadata": {},
   "outputs": [
    {
     "name": "stdout",
     "output_type": "stream",
     "text": [
      "set  name               \n",
      "ISD  Liliana of the Veil    53.64\n",
      "MM3  Liliana of the Veil    53.27\n",
      "Name: price, dtype: object\n",
      "---------------------------------------------------------------------\n",
      "set  name                   \n",
      "M11  Leyline of the Void        9.77\n",
      "GPT  Leyline of the Void        9.56\n",
      "MM3  Griselbrand                9.56\n",
      "CHK  Through the Breach         9.41\n",
      "MM2  Emrakul, the Aeons Torn    9.35\n",
      "EMN  Grim Flayer                9.20\n",
      "TSB  The Rack                   9.02\n",
      "OGW  Thought-Knot Seer          8.94\n",
      "ROE  Emrakul, the Aeons Torn    8.90\n",
      "ZEN  Bloodghast                 8.83\n",
      "AER  Glint-Sleeve Siphoner      8.63\n",
      "TSP  Ancestral Vision           8.54\n",
      "M12  Inferno Titan              8.05\n",
      "M11  Inferno Titan              7.96\n",
      "SOI  Nahiri, the Harbinger      7.93\n",
      "MM3  Gifts Ungiven              7.90\n",
      "MMA  Gifts Ungiven              7.88\n",
      "MM3  Past in Flames             7.84\n",
      "M11  Primeval Titan             7.82\n",
      "CHK  Gifts Ungiven              7.81\n",
      "Name: price, dtype: object\n",
      "---------------------------------------------------------------------\n",
      "<class 'pandas.core.frame.DataFrame'>\n",
      "MultiIndex: 12732 entries, (10E, Abundance) to (ZEN, Zendikar Farguide)\n",
      "Data columns (total 19 columns):\n",
      "price             12732 non-null object\n",
      "setname           12732 non-null object\n",
      "artist            12732 non-null object\n",
      "border            0 non-null object\n",
      "cmc               12732 non-null int64\n",
      "color_identity    12732 non-null object\n",
      "layout            12732 non-null object\n",
      "loyalty           112 non-null float64\n",
      "mana_cost         12723 non-null object\n",
      "power             7062 non-null object\n",
      "rarity            12732 non-null object\n",
      "release_date      0 non-null object\n",
      "source            0 non-null object\n",
      "subtypes          12732 non-null object\n",
      "supertypes        12732 non-null object\n",
      "text              12450 non-null object\n",
      "timeshifted       233 non-null object\n",
      "toughness         7062 non-null object\n",
      "types             12732 non-null object\n",
      "dtypes: float64(1), int64(1), object(17)\n",
      "memory usage: 2.3+ MB\n"
     ]
    }
   ],
   "source": [
    "print(cardsWithPrices.loc[(slice(None),'Liliana of the Veil'),'price'])\n",
    "print('---------------------------------------------------------------------')\n",
    "#Where's Liliana??\n",
    "print(cardsWithPrices.sort_values(by='price', ascending=False)['price'].head(20))\n",
    "print('---------------------------------------------------------------------')\n",
    "cardsWithPrices.info()"
   ]
  }
 ],
 "metadata": {
  "kernelspec": {
   "display_name": "Python 3",
   "language": "python",
   "name": "python3"
  },
  "language_info": {
   "codemirror_mode": {
    "name": "ipython",
    "version": 3
   },
   "file_extension": ".py",
   "mimetype": "text/x-python",
   "name": "python",
   "nbconvert_exporter": "python",
   "pygments_lexer": "ipython3",
   "version": "3.6.3"
  }
 },
 "nbformat": 4,
 "nbformat_minor": 2
}
