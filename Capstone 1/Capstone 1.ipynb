{
 "cells": [
  {
   "cell_type": "code",
   "execution_count": 59,
   "metadata": {},
   "outputs": [
    {
     "name": "stdout",
     "output_type": "stream",
     "text": [
      "Requirement already satisfied: mtgsdk in c:\\users\\tyler\\anaconda3\\lib\\site-packages\n"
     ]
    }
   ],
   "source": [
    "#Install/import necessary packages\n",
    "!pip install mtgsdk\n",
    "from mtgsdk import Card\n",
    "from bs4 import BeautifulSoup\n",
    "\n",
    "from pandas.api.types import CategoricalDtype\n",
    "from scipy.stats.mstats import gmean\n",
    "import seaborn as sns\n",
    "import requests\n",
    "import pandas as pd\n",
    "import json\n",
    "import pickle\n",
    "import numpy as np\n",
    "import matplotlib.pyplot as plt\n",
    "from pandas.io.json import json_normalize\n",
    "from pandas.api.types import CategoricalDtype"
   ]
  },
  {
   "cell_type": "markdown",
   "metadata": {},
   "source": [
    "# CARD DATA "
   ]
  },
  {
   "cell_type": "markdown",
   "metadata": {},
   "source": [
    "The following sections involve gathering and processing a new dataset. To load the pre-processed data (if it exists) see the cell just before the Price Scraping section."
   ]
  },
  {
   "cell_type": "markdown",
   "metadata": {},
   "source": [
    "If you don't have the data/modernCardsUnprocessed.pickle file, run these cells:"
   ]
  },
  {
   "cell_type": "code",
   "execution_count": 64,
   "metadata": {
    "collapsed": true
   },
   "outputs": [],
   "source": [
    "#Get all modern cards\n",
    "cards = Card.where(gameFormat='modern').all()\n",
    "cardDicts = [c.__dict__ for c in cards]\n",
    "cardsDf = pd.DataFrame(cardDicts)"
   ]
  },
  {
   "cell_type": "code",
   "execution_count": 65,
   "metadata": {
    "collapsed": true
   },
   "outputs": [],
   "source": [
    "if cardsDf is not None:\n",
    "    with open('data/modernCardsUnprocessed.pickle','wb') as pickle_out:\n",
    "        pickle.dump(cardsDf,pickle_out)"
   ]
  },
  {
   "cell_type": "markdown",
   "metadata": {},
   "source": [
    "Otherwise, run these cell:"
   ]
  },
  {
   "cell_type": "code",
   "execution_count": 67,
   "metadata": {
    "collapsed": true
   },
   "outputs": [],
   "source": [
    "#Open unprocessed data\n",
    "with open('data/modernCardsUnprocessed.pickle','rb') as pickle_in:\n",
    "    cardsDf = pickle.load(pickle_in)"
   ]
  },
  {
   "cell_type": "code",
   "execution_count": 68,
   "metadata": {
    "collapsed": true
   },
   "outputs": [],
   "source": [
    "#Filter out the lands\n",
    "types = cardsDf['types']\n",
    "\n",
    "nonlandFilter = [\"Land\" not in t for t in types]\n",
    "\n",
    "nonLands = pd.DataFrame(cardsDf.loc[nonlandFilter])"
   ]
  },
  {
   "cell_type": "code",
   "execution_count": 69,
   "metadata": {
    "collapsed": true
   },
   "outputs": [],
   "source": [
    "#This will fix list columns with null values and join lists by commas\n",
    "def fixListCol(el):\n",
    "    if el == None:\n",
    "        return ''\n",
    "    elif type(el) == list:\n",
    "        return ','.join(el)\n",
    "    return el"
   ]
  },
  {
   "cell_type": "code",
   "execution_count": 70,
   "metadata": {
    "collapsed": true
   },
   "outputs": [],
   "source": [
    "def separateMana(col):\n",
    "    if col is None:\n",
    "        return {}\n",
    "    return {color:1 for color in col}"
   ]
  },
  {
   "cell_type": "code",
   "execution_count": 71,
   "metadata": {
    "collapsed": true,
    "scrolled": true
   },
   "outputs": [],
   "source": [
    "colors = pd.DataFrame(list(nonLands['color_identity'].apply(separateMana))).fillna(0)\n",
    "colors = colors.set_index(nonLands.index)"
   ]
  },
  {
   "cell_type": "code",
   "execution_count": 64,
   "metadata": {},
   "outputs": [
    {
     "name": "stdout",
     "output_type": "stream",
     "text": [
      "B    0.0\n",
      "G    1.0\n",
      "R    0.0\n",
      "U    0.0\n",
      "W    0.0\n",
      "Name: 8443, dtype: float64\n"
     ]
    }
   ],
   "source": [
    "print(colors.loc[8443])"
   ]
  },
  {
   "cell_type": "code",
   "execution_count": 72,
   "metadata": {
    "collapsed": true
   },
   "outputs": [],
   "source": [
    "nonLandsColorsSeparate = nonLands.merge(colors,left_index=True,right_index=True)"
   ]
  },
  {
   "cell_type": "code",
   "execution_count": 73,
   "metadata": {
    "collapsed": true
   },
   "outputs": [],
   "source": [
    "# Apply the fix to relevant columns\n",
    "nonLandsColorsSeparate['supertypes'] = nonLandsColorsSeparate['supertypes'].apply(fixListCol)\n",
    "nonLandsColorsSeparate['types'] = nonLandsColorsSeparate['types'].apply(fixListCol)\n",
    "nonLandsColorsSeparate['subtypes'] = nonLandsColorsSeparate['subtypes'].apply(fixListCol)\n"
   ]
  },
  {
   "cell_type": "code",
   "execution_count": 74,
   "metadata": {},
   "outputs": [
    {
     "name": "stdout",
     "output_type": "stream",
     "text": [
      "            artist  cmc color_identity  layout  loyalty  mana_cost  \\\n",
      "0      Warren Mahy    4            [R]  normal      NaN     {3}{R}   \n",
      "16  Douglas Shuler    5            [W]  normal      NaN  {3}{W}{W}   \n",
      "17  Trevor Claxton    4            [G]  normal      NaN  {2}{G}{G}   \n",
      "18            Izzy    3         [W, U]  normal      NaN  {1}{W}{U}   \n",
      "19    Steve Argyle    2            [W]  normal      NaN     {1}{W}   \n",
      "\n",
      "                           name power   rarity       subtypes ...   \\\n",
      "0             Steamflogger Boss     3     Rare  Goblin,Rigger ...    \n",
      "16                  Serra Angel     4  Special          Angel ...    \n",
      "17                    Vengevine     4  Special      Elemental ...    \n",
      "18         Geist of Saint Traft     2  Special  Spirit,Cleric ...    \n",
      "19  Thalia, Guardian of Thraben     2  Special  Human,Soldier ...    \n",
      "\n",
      "                                                 text timeshifted toughness  \\\n",
      "0   Other Riggers you control get +1/+0 and have h...        None         3   \n",
      "16  Flying (This creature can't be blocked except ...        None         4   \n",
      "17  Haste\\nWhenever you cast a spell, if it's the ...        None         3   \n",
      "18  Hexproof (This creature can't be the target of...        None         2   \n",
      "19  First strike\\nNoncreature spells cost {1} more...        None         1   \n",
      "\n",
      "       types   set    W    U    B    R    G  \n",
      "0   Creature   UST  0.0  0.0  0.0  1.0  0.0  \n",
      "16  Creature  pWOS  1.0  0.0  0.0  0.0  0.0  \n",
      "17  Creature  pWCQ  0.0  0.0  0.0  0.0  1.0  \n",
      "18  Creature  pWCQ  1.0  1.0  0.0  0.0  0.0  \n",
      "19  Creature  pWCQ  1.0  0.0  0.0  0.0  0.0  \n",
      "\n",
      "[5 rows x 21 columns]\n"
     ]
    }
   ],
   "source": [
    "#Select the relevant columns\n",
    "cardsDfFinal = nonLandsColorsSeparate[['artist','cmc','color_identity','layout','loyalty','mana_cost','name','power','rarity','subtypes','supertypes','text','timeshifted','toughness','types','set','W','U','B','R','G']]\n",
    "\n",
    "print(cardsDfFinal.head())"
   ]
  },
  {
   "cell_type": "code",
   "execution_count": 75,
   "metadata": {},
   "outputs": [
    {
     "name": "stdout",
     "output_type": "stream",
     "text": [
      "<class 'pandas.core.frame.DataFrame'>\n",
      "Int64Index: 20018 entries, 0 to 23042\n",
      "Data columns (total 21 columns):\n",
      "artist            20018 non-null object\n",
      "cmc               20018 non-null int64\n",
      "color_identity    18135 non-null object\n",
      "layout            20018 non-null object\n",
      "loyalty           168 non-null float64\n",
      "mana_cost         19913 non-null object\n",
      "name              20018 non-null object\n",
      "power             10978 non-null object\n",
      "rarity            20018 non-null object\n",
      "subtypes          20018 non-null object\n",
      "supertypes        20018 non-null object\n",
      "text              19556 non-null object\n",
      "timeshifted       236 non-null object\n",
      "toughness         10978 non-null object\n",
      "types             20018 non-null object\n",
      "set               20018 non-null object\n",
      "W                 20018 non-null float64\n",
      "U                 20018 non-null float64\n",
      "B                 20018 non-null float64\n",
      "R                 20018 non-null float64\n",
      "G                 20018 non-null float64\n",
      "dtypes: float64(6), int64(1), object(14)\n",
      "memory usage: 4.0+ MB\n"
     ]
    }
   ],
   "source": [
    "cardsDfFinal.info()"
   ]
  },
  {
   "cell_type": "code",
   "execution_count": 76,
   "metadata": {
    "collapsed": true
   },
   "outputs": [],
   "source": [
    "#Save the data\n",
    "with open('data/modernCardsFinal.pickle','wb') as pickle_out:\n",
    "    pickle.dump(cardsDfFinal,pickle_out)"
   ]
  },
  {
   "cell_type": "markdown",
   "metadata": {},
   "source": [
    "To load the pre-processed data:"
   ]
  },
  {
   "cell_type": "code",
   "execution_count": 3,
   "metadata": {
    "collapsed": true
   },
   "outputs": [],
   "source": [
    "with open('data/modernCardsFinal.pickle','rb') as pickle_in:\n",
    "    cardsDfFinal = pickle.load(pickle_in)"
   ]
  },
  {
   "cell_type": "markdown",
   "metadata": {},
   "source": [
    "# PRICE SCRAPING"
   ]
  },
  {
   "cell_type": "markdown",
   "metadata": {},
   "source": [
    "If the file already exists in the data directory:"
   ]
  },
  {
   "cell_type": "code",
   "execution_count": 77,
   "metadata": {
    "collapsed": true
   },
   "outputs": [],
   "source": [
    "with open('data/modernPrices.pickle','rb') as pickle_in:\n",
    "    pricesDF = pickle.load(pickle_in)"
   ]
  },
  {
   "cell_type": "markdown",
   "metadata": {},
   "source": [
    "If the data needs to be scraped:"
   ]
  },
  {
   "cell_type": "code",
   "execution_count": 90,
   "metadata": {
    "collapsed": true
   },
   "outputs": [],
   "source": [
    "#This will scrape the prices from the formats included in the given format parameter (i.e. 'Modern' will scrape both Standard and Modern)\n",
    "def scrapeSelectPage(url,formt):\n",
    "    #Get the page\n",
    "    r = requests.get(url)\n",
    "    html_doc = r.text\n",
    "    soup = BeautifulSoup(html_doc,'lxml')\n",
    "    \n",
    "    #Get the format blocks from the page\n",
    "    formats = soup.find_all('div',class_='priceList-setMenu')\n",
    "    pricesDF = pd.DataFrame()\n",
    "    for form in formats:\n",
    "        pricesDF = pricesDF.append(scrapeFormat(form))\n",
    "        \n",
    "        #Check if we've reached the desired format\n",
    "        if 'priceList-setMenu-'+formt in form.attrs['class']:\n",
    "            break\n",
    "        \n",
    "    return pricesDF\n",
    "\n",
    "#Scrapes a format div from the /prices/select page\n",
    "def scrapeFormat(soup):\n",
    "    #Select the first li element in the format's div\n",
    "    element = soup.li\n",
    "    \n",
    "    #Skip the first \"Quick Prices\" block\n",
    "    element = element.find_next_sibling('li',class_='priceList-setMenu-header')\n",
    "    \n",
    "    #Create empty dataframe to append to\n",
    "    formatDF = pd.DataFrame()\n",
    "    \n",
    "    #Append the Dataframes obtained by scraping each set\n",
    "    while(element.find_next_sibling('li') != None):\n",
    "        #Iterate\n",
    "        element = element.find_next_sibling('li')\n",
    "        \n",
    "        #The set elements don't have classes associated with them\n",
    "        if 'class' not in element.attrs:\n",
    "            #Scrape the cards in the set's page and add the name of the set\n",
    "            setDF = scrapeSet('https://www.mtggoldfish.com'+element.a.attrs['href']+'#paper')\n",
    "            setDF['setname'] = element.get_text().strip()\n",
    "            \n",
    "            formatDF = formatDF.append(setDF)\n",
    "            \n",
    "    return formatDF\n",
    "\n",
    "#Scrapes all of the prices from the given set page\n",
    "def scrapeSet(url):\n",
    "    #Get the page\n",
    "    r = requests.get(url)\n",
    "    html_doc = r.text\n",
    "    soup = BeautifulSoup(html_doc,'lxml')\n",
    "    \n",
    "    #Select the cards table\n",
    "    element = soup.find('table',class_='tablesorter-bootstrap-popover-paper').tbody\n",
    "    \n",
    "    #Build a list that will be filled with dictionaries to be converted to a DataFrame\n",
    "    cardList = []\n",
    "    \n",
    "    #Loop through rows and scrape the name and price\n",
    "    for row in element.find_all('tr'):\n",
    "        #Get the td elements\n",
    "        row = row.find_all('td')\n",
    "        \n",
    "        cardList.append({'name':row[0].a.get_text().strip(),'price':row[3].get_text().strip(),'set':row[1].get_text()})\n",
    "    \n",
    "    return pd.DataFrame(cardList)"
   ]
  },
  {
   "cell_type": "code",
   "execution_count": 91,
   "metadata": {
    "collapsed": true
   },
   "outputs": [],
   "source": [
    "pricesDF = scrapeSelectPage('https://www.mtggoldfish.com/prices/select','Modern')"
   ]
  },
  {
   "cell_type": "code",
   "execution_count": 8,
   "metadata": {
    "collapsed": true
   },
   "outputs": [],
   "source": [
    "with open('data/modernPrices.pickle','wb') as pickle_out:\n",
    "    pickle.dump(pricesDF,pickle_out)"
   ]
  },
  {
   "cell_type": "markdown",
   "metadata": {},
   "source": [
    "Look at the DF:"
   ]
  },
  {
   "cell_type": "code",
   "execution_count": 92,
   "metadata": {},
   "outputs": [
    {
     "name": "stdout",
     "output_type": "stream",
     "text": [
      "                       name  price  set           setname\n",
      "0        Rekindling Phoenix  23.27  RIX  Rivals of Ixalan\n",
      "1  Kumena, Tyrant of Orazca  19.92  RIX  Rivals of Ixalan\n",
      "2          Jadelight Ranger  10.99  RIX  Rivals of Ixalan\n",
      "3  Angrath, Minotaur Pirate  10.25  RIX  Rivals of Ixalan\n",
      "4   Vraska, Scheming Gorgon   9.97  RIX  Rivals of Ixalan\n",
      "<class 'pandas.core.frame.DataFrame'>\n",
      "Int64Index: 13864 entries, 0 to 285\n",
      "Data columns (total 4 columns):\n",
      "name       13864 non-null object\n",
      "price      13864 non-null object\n",
      "set        13864 non-null object\n",
      "setname    13864 non-null object\n",
      "dtypes: object(4)\n",
      "memory usage: 541.6+ KB\n",
      "                 name price  set       setname\n",
      "36  Steamflogger Boss  2.00  FUT  Future Sight\n"
     ]
    }
   ],
   "source": [
    "print(pricesDF.head())\n",
    "pricesDF.info()\n",
    "print(pricesDF.loc[pricesDF['name']=='Steamflogger Boss'])"
   ]
  },
  {
   "cell_type": "markdown",
   "metadata": {},
   "source": [
    "# MELD"
   ]
  },
  {
   "cell_type": "code",
   "execution_count": 4,
   "metadata": {},
   "outputs": [],
   "source": [
    "#Load the existing merged dataset\n",
    "with open('data/modernPricesWithData.pickle','rb') as pickle_in:\n",
    "    cardsWithPrices = pickle.load(pickle_in)"
   ]
  },
  {
   "cell_type": "code",
   "execution_count": 95,
   "metadata": {
    "collapsed": true
   },
   "outputs": [],
   "source": [
    "#Merge the card info and card prices dataframes\n",
    "cardsWithPrices = pricesDF.merge(cardsDfFinal,on=['name','set'])\n",
    "\n",
    "#Set the index to the name and set\n",
    "cardsWithPrices = cardsWithPrices.set_index(['set','name']).sort_index()"
   ]
  },
  {
   "cell_type": "code",
   "execution_count": 97,
   "metadata": {
    "scrolled": false
   },
   "outputs": [
    {
     "data": {
      "text/html": [
       "<div>\n",
       "<style>\n",
       "    .dataframe thead tr:only-child th {\n",
       "        text-align: right;\n",
       "    }\n",
       "\n",
       "    .dataframe thead th {\n",
       "        text-align: left;\n",
       "    }\n",
       "\n",
       "    .dataframe tbody tr th {\n",
       "        vertical-align: top;\n",
       "    }\n",
       "</style>\n",
       "<table border=\"1\" class=\"dataframe\">\n",
       "  <thead>\n",
       "    <tr style=\"text-align: right;\">\n",
       "      <th></th>\n",
       "      <th></th>\n",
       "      <th>price</th>\n",
       "      <th>setname</th>\n",
       "      <th>artist</th>\n",
       "      <th>cmc</th>\n",
       "      <th>color_identity</th>\n",
       "      <th>layout</th>\n",
       "      <th>loyalty</th>\n",
       "      <th>mana_cost</th>\n",
       "      <th>power</th>\n",
       "      <th>rarity</th>\n",
       "      <th>...</th>\n",
       "      <th>supertypes</th>\n",
       "      <th>text</th>\n",
       "      <th>timeshifted</th>\n",
       "      <th>toughness</th>\n",
       "      <th>types</th>\n",
       "      <th>W</th>\n",
       "      <th>U</th>\n",
       "      <th>B</th>\n",
       "      <th>R</th>\n",
       "      <th>G</th>\n",
       "    </tr>\n",
       "    <tr>\n",
       "      <th>set</th>\n",
       "      <th>name</th>\n",
       "      <th></th>\n",
       "      <th></th>\n",
       "      <th></th>\n",
       "      <th></th>\n",
       "      <th></th>\n",
       "      <th></th>\n",
       "      <th></th>\n",
       "      <th></th>\n",
       "      <th></th>\n",
       "      <th></th>\n",
       "      <th></th>\n",
       "      <th></th>\n",
       "      <th></th>\n",
       "      <th></th>\n",
       "      <th></th>\n",
       "      <th></th>\n",
       "      <th></th>\n",
       "      <th></th>\n",
       "      <th></th>\n",
       "      <th></th>\n",
       "      <th></th>\n",
       "    </tr>\n",
       "  </thead>\n",
       "  <tbody>\n",
       "    <tr>\n",
       "      <th rowspan=\"5\" valign=\"top\">10E</th>\n",
       "      <th>Abundance</th>\n",
       "      <td>2.24</td>\n",
       "      <td>10th Edition</td>\n",
       "      <td>Rebecca Guay</td>\n",
       "      <td>4</td>\n",
       "      <td>[G]</td>\n",
       "      <td>normal</td>\n",
       "      <td>NaN</td>\n",
       "      <td>{2}{G}{G}</td>\n",
       "      <td>None</td>\n",
       "      <td>Rare</td>\n",
       "      <td>...</td>\n",
       "      <td></td>\n",
       "      <td>If you would draw a card, you may instead choo...</td>\n",
       "      <td>None</td>\n",
       "      <td>None</td>\n",
       "      <td>Enchantment</td>\n",
       "      <td>0.0</td>\n",
       "      <td>0.0</td>\n",
       "      <td>0.0</td>\n",
       "      <td>0.0</td>\n",
       "      <td>1.0</td>\n",
       "    </tr>\n",
       "    <tr>\n",
       "      <th>Academy Researchers</th>\n",
       "      <td>0.26</td>\n",
       "      <td>10th Edition</td>\n",
       "      <td>Stephen Daniele</td>\n",
       "      <td>3</td>\n",
       "      <td>[U]</td>\n",
       "      <td>normal</td>\n",
       "      <td>NaN</td>\n",
       "      <td>{1}{U}{U}</td>\n",
       "      <td>2</td>\n",
       "      <td>Uncommon</td>\n",
       "      <td>...</td>\n",
       "      <td></td>\n",
       "      <td>When Academy Researchers enters the battlefiel...</td>\n",
       "      <td>None</td>\n",
       "      <td>2</td>\n",
       "      <td>Creature</td>\n",
       "      <td>0.0</td>\n",
       "      <td>1.0</td>\n",
       "      <td>0.0</td>\n",
       "      <td>0.0</td>\n",
       "      <td>0.0</td>\n",
       "    </tr>\n",
       "    <tr>\n",
       "      <th>Afflict</th>\n",
       "      <td>0.16</td>\n",
       "      <td>10th Edition</td>\n",
       "      <td>Roger Raupp</td>\n",
       "      <td>3</td>\n",
       "      <td>[B]</td>\n",
       "      <td>normal</td>\n",
       "      <td>NaN</td>\n",
       "      <td>{2}{B}</td>\n",
       "      <td>None</td>\n",
       "      <td>Common</td>\n",
       "      <td>...</td>\n",
       "      <td></td>\n",
       "      <td>Target creature gets -1/-1 until end of turn.\\...</td>\n",
       "      <td>None</td>\n",
       "      <td>None</td>\n",
       "      <td>Instant</td>\n",
       "      <td>0.0</td>\n",
       "      <td>0.0</td>\n",
       "      <td>1.0</td>\n",
       "      <td>0.0</td>\n",
       "      <td>0.0</td>\n",
       "    </tr>\n",
       "    <tr>\n",
       "      <th>Aggressive Urge</th>\n",
       "      <td>0.17</td>\n",
       "      <td>10th Edition</td>\n",
       "      <td>Christopher Moeller</td>\n",
       "      <td>2</td>\n",
       "      <td>[G]</td>\n",
       "      <td>normal</td>\n",
       "      <td>NaN</td>\n",
       "      <td>{1}{G}</td>\n",
       "      <td>None</td>\n",
       "      <td>Common</td>\n",
       "      <td>...</td>\n",
       "      <td></td>\n",
       "      <td>Target creature gets +1/+1 until end of turn.\\...</td>\n",
       "      <td>None</td>\n",
       "      <td>None</td>\n",
       "      <td>Instant</td>\n",
       "      <td>0.0</td>\n",
       "      <td>0.0</td>\n",
       "      <td>0.0</td>\n",
       "      <td>0.0</td>\n",
       "      <td>1.0</td>\n",
       "    </tr>\n",
       "    <tr>\n",
       "      <th>Agonizing Memories</th>\n",
       "      <td>0.21</td>\n",
       "      <td>10th Edition</td>\n",
       "      <td>Adam Rex</td>\n",
       "      <td>4</td>\n",
       "      <td>[B]</td>\n",
       "      <td>normal</td>\n",
       "      <td>NaN</td>\n",
       "      <td>{2}{B}{B}</td>\n",
       "      <td>None</td>\n",
       "      <td>Uncommon</td>\n",
       "      <td>...</td>\n",
       "      <td></td>\n",
       "      <td>Look at target player's hand and choose two ca...</td>\n",
       "      <td>None</td>\n",
       "      <td>None</td>\n",
       "      <td>Sorcery</td>\n",
       "      <td>0.0</td>\n",
       "      <td>0.0</td>\n",
       "      <td>1.0</td>\n",
       "      <td>0.0</td>\n",
       "      <td>0.0</td>\n",
       "    </tr>\n",
       "  </tbody>\n",
       "</table>\n",
       "<p>5 rows × 21 columns</p>\n",
       "</div>"
      ],
      "text/plain": [
       "                        price       setname               artist  cmc  \\\n",
       "set name                                                                \n",
       "10E Abundance            2.24  10th Edition         Rebecca Guay    4   \n",
       "    Academy Researchers  0.26  10th Edition      Stephen Daniele    3   \n",
       "    Afflict              0.16  10th Edition          Roger Raupp    3   \n",
       "    Aggressive Urge      0.17  10th Edition  Christopher Moeller    2   \n",
       "    Agonizing Memories   0.21  10th Edition             Adam Rex    4   \n",
       "\n",
       "                        color_identity  layout  loyalty  mana_cost power  \\\n",
       "set name                                                                   \n",
       "10E Abundance                      [G]  normal      NaN  {2}{G}{G}  None   \n",
       "    Academy Researchers            [U]  normal      NaN  {1}{U}{U}     2   \n",
       "    Afflict                        [B]  normal      NaN     {2}{B}  None   \n",
       "    Aggressive Urge                [G]  normal      NaN     {1}{G}  None   \n",
       "    Agonizing Memories             [B]  normal      NaN  {2}{B}{B}  None   \n",
       "\n",
       "                           rarity ...  supertypes  \\\n",
       "set name                          ...               \n",
       "10E Abundance                Rare ...               \n",
       "    Academy Researchers  Uncommon ...               \n",
       "    Afflict                Common ...               \n",
       "    Aggressive Urge        Common ...               \n",
       "    Agonizing Memories   Uncommon ...               \n",
       "\n",
       "                                                                      text  \\\n",
       "set name                                                                     \n",
       "10E Abundance            If you would draw a card, you may instead choo...   \n",
       "    Academy Researchers  When Academy Researchers enters the battlefiel...   \n",
       "    Afflict              Target creature gets -1/-1 until end of turn.\\...   \n",
       "    Aggressive Urge      Target creature gets +1/+1 until end of turn.\\...   \n",
       "    Agonizing Memories   Look at target player's hand and choose two ca...   \n",
       "\n",
       "                        timeshifted toughness        types    W    U    B  \\\n",
       "set name                                                                    \n",
       "10E Abundance                  None      None  Enchantment  0.0  0.0  0.0   \n",
       "    Academy Researchers        None         2     Creature  0.0  1.0  0.0   \n",
       "    Afflict                    None      None      Instant  0.0  0.0  1.0   \n",
       "    Aggressive Urge            None      None      Instant  0.0  0.0  0.0   \n",
       "    Agonizing Memories         None      None      Sorcery  0.0  0.0  1.0   \n",
       "\n",
       "                           R    G  \n",
       "set name                           \n",
       "10E Abundance            0.0  1.0  \n",
       "    Academy Researchers  0.0  0.0  \n",
       "    Afflict              0.0  0.0  \n",
       "    Aggressive Urge      0.0  1.0  \n",
       "    Agonizing Memories   0.0  0.0  \n",
       "\n",
       "[5 rows x 21 columns]"
      ]
     },
     "execution_count": 97,
     "metadata": {},
     "output_type": "execute_result"
    }
   ],
   "source": [
    "cardsWithPrices.head()"
   ]
  },
  {
   "cell_type": "code",
   "execution_count": 98,
   "metadata": {
    "collapsed": true
   },
   "outputs": [],
   "source": [
    "#Convert to useful datatypes\n",
    "cardsWithPrices['cmc'] = pd.to_numeric(cardsWithPrices['cmc'])\n",
    "cardsWithPrices['loyalty'] = pd.to_numeric(cardsWithPrices['loyalty'])\n",
    "cardsWithPrices['price'] = pd.to_numeric(cardsWithPrices['price'])\n",
    "cardsWithPrices['rarity'] = cardsWithPrices['rarity'].astype('category')\n",
    "cardsWithPrices['layout'] = cardsWithPrices['layout'].astype('category')"
   ]
  },
  {
   "cell_type": "code",
   "execution_count": 102,
   "metadata": {
    "collapsed": true
   },
   "outputs": [],
   "source": [
    "#Manually adding a manacost to Suspend and no-cost Splice cards as their ability's respective cost\n",
    "cardsWithPrices.loc[(slice(None),'Evermind'),'mana_cost'] = '{1}{U}'\n",
    "cardsWithPrices.loc[(slice(None),'Evermind'),'cmc'] = 2\n",
    "\n",
    "cardsWithPrices.loc[(slice(None),'Wheel of Fate'),'mana_cost'] = '{1}{R}'\n",
    "cardsWithPrices.loc[(slice(None),'Wheel of Fate'),'cmc'] = 2\n",
    "\n",
    "cardsWithPrices.loc[(slice(None),'Restore Balance'),'mana_cost'] = '{W}'\n",
    "cardsWithPrices.loc[(slice(None),'Restore Balance'),'cmc'] = 1\n",
    "\n",
    "cardsWithPrices.loc[(slice(None),'Living End'),'mana_cost'] = '{2}{B}{B}'\n",
    "cardsWithPrices.loc[(slice(None),'Living End'),'cmc'] = 4\n",
    "\n",
    "cardsWithPrices.loc[(slice(None),'Ancestral Vision'),'mana_cost'] = '{U}'\n",
    "cardsWithPrices.loc[(slice(None),'Ancestral Vision'),'cmc'] = 1\n",
    "\n",
    "cardsWithPrices.loc[(slice(None),'Lotus Bloom'),'mana_cost'] = '{0}'\n",
    "cardsWithPrices.loc[(slice(None),'Lotus Bloom'),'cmc'] = 0"
   ]
  },
  {
   "cell_type": "code",
   "execution_count": 103,
   "metadata": {
    "collapsed": true
   },
   "outputs": [],
   "source": [
    "#Fill empty text \n",
    "cardsWithPrices['text'] = cardsWithPrices['text'].fillna('')"
   ]
  },
  {
   "cell_type": "code",
   "execution_count": 3,
   "metadata": {},
   "outputs": [
    {
     "name": "stdout",
     "output_type": "stream",
     "text": [
      "<class 'pandas.core.frame.DataFrame'>\n",
      "MultiIndex: 12746 entries, (10E, Abundance) to (ZEN, Zendikar Farguide)\n",
      "Data columns (total 21 columns):\n",
      "price             12746 non-null float64\n",
      "setname           12746 non-null object\n",
      "artist            12746 non-null object\n",
      "cmc               12746 non-null int64\n",
      "color_identity    11557 non-null object\n",
      "layout            12746 non-null category\n",
      "loyalty           113 non-null float64\n",
      "mana_cost         12746 non-null object\n",
      "power             7062 non-null object\n",
      "rarity            12746 non-null category\n",
      "subtypes          12746 non-null object\n",
      "supertypes        12746 non-null object\n",
      "text              12746 non-null object\n",
      "timeshifted       233 non-null object\n",
      "toughness         7062 non-null object\n",
      "types             12746 non-null object\n",
      "W                 12746 non-null float64\n",
      "U                 12746 non-null float64\n",
      "B                 12746 non-null float64\n",
      "R                 12746 non-null float64\n",
      "G                 12746 non-null float64\n",
      "dtypes: category(2), float64(7), int64(1), object(11)\n",
      "memory usage: 2.0+ MB\n"
     ]
    }
   ],
   "source": [
    "#Everything is good to go!\n",
    "cardsWithPrices.info()"
   ]
  },
  {
   "cell_type": "code",
   "execution_count": 105,
   "metadata": {
    "collapsed": true
   },
   "outputs": [],
   "source": [
    "with open('data/modernPricesWithData.pickle','wb') as pickle_out:\n",
    "    pickle.dump(cardsWithPrices,pickle_out)"
   ]
  },
  {
   "cell_type": "markdown",
   "metadata": {},
   "source": [
    "# PLAYING WITH THE DATA"
   ]
  },
  {
   "cell_type": "markdown",
   "metadata": {},
   "source": [
    "I know that the VAST majority of cards are essentially worthless (only worth a couple of cents), so let's see exactly how skewed the prices are."
   ]
  },
  {
   "cell_type": "code",
   "execution_count": 3,
   "metadata": {},
   "outputs": [
    {
     "name": "stdout",
     "output_type": "stream",
     "text": [
      "25 cents or less:  8022\n",
      "15 cents or less:  4015\n",
      "\n",
      "Counts of the first 25 cents of prices:\n",
      "0.00       1\n",
      "0.05       2\n",
      "0.07       1\n",
      "0.10      20\n",
      "0.11      52\n",
      "0.12      98\n",
      "0.13     212\n",
      "0.14    1423\n",
      "0.15    2206\n",
      "0.16     357\n",
      "0.17     212\n",
      "0.18     240\n",
      "0.19     419\n",
      "0.20    1089\n",
      "0.21     554\n",
      "0.22     392\n",
      "0.23     320\n",
      "0.24     222\n",
      "0.25     202\n",
      "Name: price, dtype: int64\n"
     ]
    }
   ],
   "source": [
    "#Group the entire data set by price, let's get a count of each price\n",
    "priceCounts = cardsWithPrices['price'].value_counts().sort_index(ascending = True)\n",
    "\n",
    "print('25 cents or less: ',np.sum(priceCounts.head(19)))\n",
    "print('15 cents or less: ',np.sum(priceCounts.head(9)))\n",
    "print('\\nCounts of the first 25 cents of prices:')\n",
    "print(priceCounts.head(19))"
   ]
  },
  {
   "cell_type": "markdown",
   "metadata": {},
   "source": [
    "Just about 2/3 of the cards are only a quarter or less, and around 1/3 of all cards are only 15 cents."
   ]
  },
  {
   "cell_type": "markdown",
   "metadata": {},
   "source": [
    "# Value of colors"
   ]
  },
  {
   "cell_type": "markdown",
   "metadata": {},
   "source": [
    "Let's see if the average card value and the variance of these values differs greatly based on color identity:"
   ]
  },
  {
   "cell_type": "code",
   "execution_count": 13,
   "metadata": {
    "collapsed": true
   },
   "outputs": [],
   "source": [
    "#Abstraction that returns a boolean mask to extracting a specific color group in a dataframe\n",
    "def colorMask(df,pattern):\n",
    "    return [pattern in cost for cost in df['mana_cost']]"
   ]
  },
  {
   "cell_type": "code",
   "execution_count": 54,
   "metadata": {
    "collapsed": true
   },
   "outputs": [],
   "source": [
    "#Grouping by name so that reprints don't skew the price averages\n",
    "uniques = cardsWithPrices.groupby('name').agg({'price':'min','W':'first','U':'first','B':'first','R':'first','G':'first','types':'first','cmc':'first','power':'first','toughness':'first'})"
   ]
  },
  {
   "cell_type": "code",
   "execution_count": 56,
   "metadata": {
    "collapsed": true
   },
   "outputs": [],
   "source": [
    "colorPrices = pd.Series()\n",
    "colorPrices['White'] = np.average(uniques.loc[uniques['W'] == 1,'price'])\n",
    "colorPrices['Blue'] = np.average(uniques.loc[uniques['U'] == 1, 'price'])\n",
    "colorPrices['Black'] = np.average(uniques.loc[uniques['B'] == 1, 'price'])\n",
    "colorPrices['Red'] = np.average(uniques.loc[uniques['R'] == 1, 'price'])\n",
    "colorPrices['Green'] = np.average(uniques.loc[uniques['G'] == 1, 'price'])\n",
    "\n",
    "#Create a condition to find colorless\n",
    "colorlessFilter = uniques['W'] + uniques['U'] + uniques['B'] + uniques['R'] + uniques['G'] == 0\n",
    "colorPrices['Colorless'] = np.average(uniques.loc[colorlessFilter,'price'])"
   ]
  },
  {
   "cell_type": "code",
   "execution_count": 63,
   "metadata": {
    "collapsed": true
   },
   "outputs": [],
   "source": [
    "#MTG Color Palette\n",
    "mtgPalette = sns.color_palette([sns.xkcd_rgb['beige'],sns.xkcd_rgb['azure'],sns.xkcd_rgb['black'],sns.xkcd_rgb['bright red'],sns.xkcd_rgb['greenish'],sns.xkcd_rgb['grey']])"
   ]
  },
  {
   "cell_type": "code",
   "execution_count": 52,
   "metadata": {},
   "outputs": [
    {
     "data": {
      "image/png": "[encoded data removed]",
      "text/plain": [
       "<matplotlib.figure.Figure at 0xe6747f0>"
      ]
     },
     "metadata": {},
     "output_type": "display_data"
    }
   ],
   "source": [
    "barplot = sns.barplot(x=colorPrices.index.values,y=colorPrices.values,palette=mtgPalette)\n",
    "plt.xlabel('Color')\n",
    "plt.ylabel('Average Price (USD)')\n",
    "plt.show()"
   ]
  },
  {
   "cell_type": "markdown",
   "metadata": {},
   "source": [
    "It looks like Red cards are generally cheaper in the modern format, whereas Colorless cards are by far the most expensive, almost doubling each other color. Now, what about the variance?"
   ]
  },
  {
   "cell_type": "code",
   "execution_count": 76,
   "metadata": {
    "collapsed": true
   },
   "outputs": [],
   "source": [
    "colorPricesVariance = pd.Series()\n",
    "colorPricesVariance['White'] = np.var(uniques.loc[uniques['W'] == 1,'price'])\n",
    "colorPricesVariance['Blue'] = np.var(uniques.loc[uniques['U'] == 1, 'price'])\n",
    "colorPricesVariance['Black'] = np.var(uniques.loc[uniques['B'] == 1, 'price'])\n",
    "colorPricesVariance['Red'] = np.var(uniques.loc[uniques['R'] == 1, 'price'])\n",
    "colorPricesVariance['Green'] = np.var(uniques.loc[uniques['G'] == 1, 'price'])\n",
    "colorPricesVariance['Colorless'] = np.var(uniques.loc[colorlessFilter,'price'])"
   ]
  },
  {
   "cell_type": "code",
   "execution_count": 77,
   "metadata": {},
   "outputs": [
    {
     "name": "stderr",
     "output_type": "stream",
     "text": [
      "C:\\Users\\Tyler\\Anaconda3\\lib\\site-packages\\seaborn\\categorical.py:1460: FutureWarning: remove_na is deprecated and is a private function. Do not use.\n",
      "  stat_data = remove_na(group_data)\n"
     ]
    },
    {
     "data": {
      "image/png": "[encoded data removed]",
      "text/plain": [
       "<matplotlib.figure.Figure at 0xcdef358>"
      ]
     },
     "metadata": {},
     "output_type": "display_data"
    }
   ],
   "source": [
    "barplot = sns.barplot(x=colorPricesVariance.index.values,y=colorPricesVariance.values,palette=mtgPalette)\n",
    "plt.xlabel('Color')\n",
    "plt.ylabel('Price variance')\n",
    "plt.show()"
   ]
  },
  {
   "cell_type": "markdown",
   "metadata": {},
   "source": [
    "Looks like the variance of these colors are comparatively very similar to the averages, but the price of colorless cards tend to vary a bit more."
   ]
  },
  {
   "cell_type": "markdown",
   "metadata": {},
   "source": [
    "The majority of colorless cards are of the type \"Artifact\". Let's see the typical pricing for each card type to confirm whether or not artifacts have a higher price than others."
   ]
  },
  {
   "cell_type": "code",
   "execution_count": 79,
   "metadata": {},
   "outputs": [
    {
     "name": "stderr",
     "output_type": "stream",
     "text": [
      "C:\\Users\\Tyler\\Anaconda3\\lib\\site-packages\\seaborn\\categorical.py:1460: FutureWarning: remove_na is deprecated and is a private function. Do not use.\n",
      "  stat_data = remove_na(group_data)\n"
     ]
    },
    {
     "data": {
      "image/png": "[encoded data removed]",
      "text/plain": [
       "<matplotlib.figure.Figure at 0xd3d2940>"
      ]
     },
     "metadata": {},
     "output_type": "display_data"
    }
   ],
   "source": [
    "types = uniques.groupby('types')['price'].mean().sort_values()\n",
    "sns.barplot(x=types.index.values,y=types.values)\n",
    "plt.xlabel('Types')\n",
    "plt.xticks(rotation=80)\n",
    "plt.ylabel('Average Price (USD)')\n",
    "\n",
    "plt.show()"
   ]
  },
  {
   "cell_type": "markdown",
   "metadata": {},
   "source": [
    "It looks from this chart that Planeswalkers and Tribal Sorceries and Enchantments are easily the most expensive cards in the format. There are very few planeswalkers and they're very rare and generally very powerful, so it's unsurprising to see a very high average price for them.\n",
    "\n",
    "There are also very few Tribal cards, so if there are a few high-value Tribal cards, there is a large effect on the average price."
   ]
  },
  {
   "cell_type": "markdown",
   "metadata": {},
   "source": [
    "# Looking at total mana costs"
   ]
  },
  {
   "cell_type": "markdown",
   "metadata": {},
   "source": [
    "Another interesting data set to look at would be the value of cards as they relate to mana cost for each color. Different colors tend to have different strategies. For example, Green tends to try to \"Ramp\" up to very expensive cards whereas Red tends to rush out a bunch of cheap cards.\n",
    "Let's see if we can see these tendencies in the card's values:"
   ]
  },
  {
   "cell_type": "code",
   "execution_count": 65,
   "metadata": {},
   "outputs": [
    {
     "name": "stdout",
     "output_type": "stream",
     "text": [
      "        White       Blue     Black       Red      Green  Colorless\n",
      "cmc                                                               \n",
      "0    2.760000  30.410000  4.320000  4.250000  18.120000   8.152069\n",
      "1    0.882362   1.041872  0.697215  0.634492   0.865794   0.877724\n",
      "2    0.801781   0.902966  0.970592  0.500344   0.931800   1.268341\n",
      "3    0.713775   0.725656  0.996359  0.597487   0.798170   2.311667\n",
      "4    0.982261   0.917396  1.001014  0.745045   1.061178   1.000888\n",
      "5    1.518136   1.448052  1.385503  1.184783   1.457454   2.062088\n",
      "6    1.130414   1.053486  1.441011  0.701198   1.222620   1.614493\n",
      "7    1.277042   1.009726  1.916438  1.632615   1.424516   3.713143\n",
      "8    2.377600   1.946154  2.271071  2.252414   2.706486   6.538182\n",
      "9    2.343333   1.035385  2.280000  1.449000   1.450000   1.864286\n",
      "10   4.455000   7.125000  4.187500  4.855000   3.696000  10.726000\n",
      "15   0.750000        NaN       NaN       NaN   0.750000  42.220000\n"
     ]
    }
   ],
   "source": [
    "manacostPrices = pd.DataFrame()\n",
    "manacostPrices['White'] = uniques.loc[uniques['W']==1].groupby('cmc')['price'].mean()\n",
    "manacostPrices['Blue'] = uniques.loc[uniques['U']==1].groupby('cmc')['price'].mean()\n",
    "manacostPrices['Black'] = uniques.loc[uniques['B']==1].groupby('cmc')['price'].mean()\n",
    "manacostPrices['Red'] = uniques.loc[uniques['R']==1].groupby('cmc')['price'].mean()\n",
    "manacostPrices['Green'] = uniques.loc[uniques['G']==1].groupby('cmc')['price'].mean()\n",
    "manacostPrices['Colorless'] = uniques.loc[colorlessFilter].groupby('cmc')['price'].mean()\n",
    "print(manacostPrices)"
   ]
  },
  {
   "cell_type": "code",
   "execution_count": 66,
   "metadata": {},
   "outputs": [
    {
     "data": {
      "image/png": "[encoded data removed]",
      "text/plain": [
       "<matplotlib.figure.Figure at 0xca9f0f0>"
      ]
     },
     "metadata": {},
     "output_type": "display_data"
    },
    {
     "data": {
      "image/png": "[encoded data removed]",
      "text/plain": [
       "<matplotlib.figure.Figure at 0xcafe630>"
      ]
     },
     "metadata": {},
     "output_type": "display_data"
    }
   ],
   "source": [
    "sns.set_style(\"darkgrid\")\n",
    "sns.set_palette(mtgPalette)\n",
    "\n",
    "manacostPrices.plot(kind='bar',figsize=(15,5))\n",
    "plt.xticks(rotation=0)\n",
    "plt.xlabel('Converted Mana Cost')\n",
    "plt.ylabel('Average Price(USD)')\n",
    "plt.show()\n",
    "\n",
    "#A more focussed plot\n",
    "manacostPrices.loc[1:10].plot(kind='bar',figsize=(15,5))\n",
    "plt.xticks(rotation=0)\n",
    "plt.xlabel('Converted Mana Cost')\n",
    "plt.ylabel('Average Price(USD)')\n",
    "plt.show()"
   ]
  },
  {
   "cell_type": "markdown",
   "metadata": {},
   "source": [
    "There are a few interesting points to note here:\n",
    "    - Across the board, the value of a card increases with its mana cost, but Blue's increase seems to be less extreme until 10 mana and Black's increase is more steady\n",
    "    - It's also important to see how valuable 0-cost cards are. Being able to play a card without having to pay any mana upfront is a huge advantage.\n",
    "    \n",
    "Let's also look at the variance of the same groups."
   ]
  },
  {
   "cell_type": "code",
   "execution_count": 74,
   "metadata": {
    "scrolled": true
   },
   "outputs": [
    {
     "name": "stdout",
     "output_type": "stream",
     "text": [
      "         White       Blue      Black        Red      Green   Colorless\n",
      "cmc                                                                   \n",
      "0          NaN        NaN        NaN        NaN        NaN  400.036631\n",
      "1    16.528205  22.816337   4.214336   2.862744  16.969661   10.819934\n",
      "2     8.054112  12.230480  16.148943   1.616037  15.757317   14.955126\n",
      "3     2.943955   3.868973  20.573201   4.183409   5.898175   52.434350\n",
      "4     5.229633   6.443657   9.715119   4.950900  12.876920    3.538171\n",
      "5    16.263091  18.622591  16.397488  16.051909  24.019487   14.639788\n",
      "6     4.119564   4.519549  11.495582   2.115835  10.287501   15.316272\n",
      "7     6.012578   2.231994  14.859782  14.705810  12.440538  162.085675\n",
      "8    15.360044   5.649441   4.751343   5.292598  16.490473  114.701696\n",
      "9     6.576250   0.599610   9.130291   0.781388   2.221556    9.348629\n",
      "10   17.236967  69.592806  19.232092  14.514967  15.589930  170.021430\n",
      "15         NaN        NaN        NaN        NaN        NaN         NaN\n"
     ]
    }
   ],
   "source": [
    "percentileManacostPrices = pd.DataFrame()\n",
    "percentileManacostPrices['White'] = uniques.loc[uniques['W']==1].groupby('cmc')['price'].var()\n",
    "percentileManacostPrices['Blue'] = uniques.loc[uniques['U']==1].groupby('cmc')['price'].var()\n",
    "percentileManacostPrices['Black'] = uniques.loc[uniques['B']==1].groupby('cmc')['price'].var()\n",
    "percentileManacostPrices['Red'] = uniques.loc[uniques['R']==1].groupby('cmc')['price'].var()\n",
    "percentileManacostPrices['Green'] = uniques.loc[uniques['G']==1].groupby('cmc')['price'].var()\n",
    "percentileManacostPrices['Colorless'] = uniques.loc[colorlessFilter].groupby('cmc')['price'].var()\n",
    "print(percentileManacostPrices)"
   ]
  },
  {
   "cell_type": "code",
   "execution_count": 78,
   "metadata": {},
   "outputs": [
    {
     "data": {
      "image/png": "[encoded data removed]",
      "text/plain": [
       "<matplotlib.figure.Figure at 0xda6c940>"
      ]
     },
     "metadata": {},
     "output_type": "display_data"
    },
    {
     "data": {
      "image/png": "[encoded data removed]",
      "text/plain": [
       "<matplotlib.figure.Figure at 0xda8ea20>"
      ]
     },
     "metadata": {},
     "output_type": "display_data"
    }
   ],
   "source": [
    "sns.set_style(\"darkgrid\")\n",
    "sns.set_palette(mtgPalette)\n",
    "\n",
    "percentileManacostPrices.plot(kind='bar',figsize=(15,5))\n",
    "plt.xticks(rotation=0)\n",
    "plt.xlabel('Converted Mana Cost')\n",
    "plt.ylabel('Price variance')\n",
    "plt.show()\n",
    "\n",
    "#A more focussed plot\n",
    "percentileManacostPrices.loc[1:10].plot(kind='bar',figsize=(15,5))\n",
    "plt.xticks(rotation=0)\n",
    "plt.xlabel('Converted Mana Cost')\n",
    "plt.ylabel('Price variance')\n",
    "plt.show()"
   ]
  },
  {
   "cell_type": "markdown",
   "metadata": {},
   "source": [
    "Creatures generally the driving force that win the game in Magic. Using our dataset, we can look for some correlation between the size of a creature (its Power and Toughness) and its value."
   ]
  },
  {
   "cell_type": "code",
   "execution_count": 9,
   "metadata": {
    "collapsed": true
   },
   "outputs": [],
   "source": [
    "bodyPrices = pd.DataFrame()\n",
    "bodyPrices['White'] = uniques.loc[uniques['W']==1].groupby(['power','toughness'])['price'].mean()\n",
    "bodyPrices['Blue'] = uniques.loc[uniques['U']==1].groupby(['power','toughness'])['price'].mean()\n",
    "bodyPrices['Black'] = uniques.loc[uniques['B']==1].groupby(['power','toughness'])['price'].mean()\n",
    "bodyPrices['Red'] = uniques.loc[uniques['R']==1].groupby(['power','toughness'])['price'].mean()\n",
    "bodyPrices['Green'] = uniques.loc[uniques['G']==1].groupby(['power','toughness'])['price'].mean()\n",
    "bodyPrices['Colorless'] = uniques.loc[colorlessFilter].groupby(['power','toughness'])['price'].mean()"
   ]
  },
  {
   "cell_type": "code",
   "execution_count": 36,
   "metadata": {
    "collapsed": true
   },
   "outputs": [],
   "source": [
    "transposedBodyPrices = bodyPrices.transpose()\n",
    "transposedBodyPrices.index.rename('color',inplace=True)\n",
    "transposedBodyPrices = transposedBodyPrices.reset_index().melt(id_vars='color').replace('*','-1')\n",
    "\n",
    "transposedBodyPrices['power'] = pd.to_numeric(transposedBodyPrices['power'])\n",
    "transposedBodyPrices['toughness'] = pd.to_numeric(transposedBodyPrices['toughness'])"
   ]
  },
  {
   "cell_type": "code",
   "execution_count": 105,
   "metadata": {
    "collapsed": true
   },
   "outputs": [],
   "source": [
    "def heatmapBodyPrices(color):\n",
    "    heatmapped = pd.pivot_table(transposedBodyPrices.loc[transposedBodyPrices['color']==color,['power','toughness','value']],index='power',columns='toughness',values='value').fillna(0)\n",
    "    heatmapped = heatmapped.reindex_axis(sorted(heatmapped.columns), axis=1)\n",
    "    heatmapped = heatmapped.reindex_axis(sorted(heatmapped.index,reverse=True), axis=0)\n",
    "\n",
    "    sns.heatmap(heatmapped,cbar_kws={'label': 'Average Price(USD)'}).set_title(color)\n",
    "    plt.show()"
   ]
  },
  {
   "cell_type": "code",
   "execution_count": 107,
   "metadata": {},
   "outputs": [
    {
     "data": {
      "image/png": "[encoded data removed]",
      "text/plain": [
       "<matplotlib.figure.Figure at 0xdf135f8>"
      ]
     },
     "metadata": {},
     "output_type": "display_data"
    },
    {
     "data": {
      "image/png": "[encoded data removed]",
      "text/plain": [
       "<matplotlib.figure.Figure at 0xf50a828>"
      ]
     },
     "metadata": {},
     "output_type": "display_data"
    },
    {
     "data": {
      "image/png": "[encoded data removed]",
      "text/plain": [
       "<matplotlib.figure.Figure at 0xf60e240>"
      ]
     },
     "metadata": {},
     "output_type": "display_data"
    },
    {
     "data": {
      "image/png": "[encoded data removed]",
      "text/plain": [
       "<matplotlib.figure.Figure at 0xf7c7160>"
      ]
     },
     "metadata": {},
     "output_type": "display_data"
    },
    {
     "data": {
      "image/png": "[encoded data removed]",
      "text/plain": [
       "<matplotlib.figure.Figure at 0xd8aa470>"
      ]
     },
     "metadata": {},
     "output_type": "display_data"
    },
    {
     "data": {
      "image/png": "[encoded data removed]",
      "text/plain": [
       "<matplotlib.figure.Figure at 0xdf3a7b8>"
      ]
     },
     "metadata": {},
     "output_type": "display_data"
    }
   ],
   "source": [
    "heatmapBodyPrices('White')\n",
    "heatmapBodyPrices('Blue')\n",
    "heatmapBodyPrices('Black')\n",
    "heatmapBodyPrices('Red')\n",
    "heatmapBodyPrices('Green')\n",
    "heatmapBodyPrices('Colorless')"
   ]
  },
  {
   "cell_type": "markdown",
   "metadata": {},
   "source": [
    "Looking at these plots, it looks like for most colors, higher value cards tend to have at least as much toughness as power. There is a bit of an exception with this observation in White and Red."
   ]
  },
  {
   "cell_type": "markdown",
   "metadata": {},
   "source": [
    "For the last couple of studies, let's see how the attributes that don't directly affect the game relate to a cards value. Some of these attributes include the set they were printed in and the rarity of the card."
   ]
  },
  {
   "cell_type": "markdown",
   "metadata": {},
   "source": [
    "# Sets and Rarities"
   ]
  },
  {
   "cell_type": "code",
   "execution_count": 35,
   "metadata": {
    "collapsed": true
   },
   "outputs": [],
   "source": [
    "#Set codes should be an ordered category, this is the order the sets were released\n",
    "#Using custom Expansion ID for \"Modern event deck\" = \"MEV\"\n",
    "setCategories = CategoricalDtype(['MEV','8ED','MRD','DST','5DN','CHK','BOK','SOK','9ED','RAV','GPT','DIS','CSP','TSB','TSP','PLC','FUT','10E',\n",
    "                                             'LRW','MOR','SHM','EVE','ALA','CON','ARB','M10','ZEN','WWK','ROE','M11','SOM','MBS','NPH','M12',\n",
    "                                            'ISD','DKA','AVR','M13','RTR','GTC','DGM','MMA','M14','THS','BNG','JOU','M15','KTK','FRF','DTK','MM2','ORI',\n",
    "                                             'BFZ','OGW','SOI','EMN','KLD','AER','MM3','AKH','HOU','XLN','RIX'],ordered=True)"
   ]
  },
  {
   "cell_type": "code",
   "execution_count": 36,
   "metadata": {},
   "outputs": [],
   "source": [
    "setDF = cardsWithPrices.reset_index()\n",
    "\n",
    "setDF.loc[setDF['setname'] == 'Modern Masters 2015','set'] = 'MM2'\n",
    "setDF.loc[setDF['setname'] == 'Modern Masters','set'] = 'MMA'\n",
    "setDF.loc[setDF['setname'] == 'Timeshifted','set'] = 'TSB'\n",
    "setDF.loc[setDF['setname'] == 'Modern Masters 2017','set'] = 'MM3'\n",
    "setDF.loc[setDF['setname'] == 'Modern Event Deck','set'] = 'MEV'\n",
    "\n",
    "setDF['set'] = setDF['set'].astype(setCategories)\n",
    "\n",
    "setPrices = setDF.groupby('set').agg({'setname':'first','price':'mean'})"
   ]
  },
  {
   "cell_type": "code",
   "execution_count": 38,
   "metadata": {},
   "outputs": [
    {
     "name": "stdout",
     "output_type": "stream",
     "text": [
      "                    setname     price\n",
      "set                                  \n",
      "MEV       Modern Event Deck  3.883333\n",
      "8ED             8th Edition  0.936860\n",
      "MRD                Mirrodin  1.190839\n",
      "DST               Darksteel  1.869689\n",
      "5DN              Fifth Dawn  2.015515\n",
      "CHK   Champions of Kamigawa  1.133978\n",
      "BOK   Betrayers of Kamigawa  1.180435\n",
      "SOK     Saviors of Kamigawa  0.870248\n",
      "9ED             9th Edition  0.914025\n",
      "RAV                 Ravnica  1.239121\n",
      "GPT               Guildpact  0.826154\n",
      "DIS              Dissension  1.002956\n",
      "CSP                Coldsnap  0.947338\n",
      "TSB             Timeshifted  0.881404\n",
      "TSP             Time Spiral  1.051547\n",
      "PLC            Planar Chaos  0.929317\n",
      "FUT            Future Sight  2.391131\n",
      "10E            10th Edition  1.219220\n",
      "LRW                  Lorwyn  1.488864\n",
      "MOR             Morningtide  1.837808\n",
      "SHM              Shadowmoor  1.768074\n",
      "EVE                Eventide  1.430632\n",
      "ALA         Shards of Alara  1.001005\n",
      "CON                 Conflux  1.436857\n",
      "ARB            Alara Reborn  1.659028\n",
      "M10              Magic 2010  0.973937\n",
      "ZEN                Zendikar  1.215192\n",
      "WWK               Worldwake  0.873023\n",
      "ROE     Rise of the Eldrazi  1.649244\n",
      "M11              Magic 2011  1.225611\n",
      "..                      ...       ...\n",
      "M12              Magic 2012  0.922838\n",
      "ISD               Innistrad  1.356118\n",
      "DKA          Dark Ascension  0.907386\n",
      "AVR         Avacyn Restored  0.908393\n",
      "M13              Magic 2013  0.928227\n",
      "RTR       Return to Ravnica  0.550340\n",
      "GTC               Gatecrash  0.442479\n",
      "DGM           Dragon's Maze  0.487308\n",
      "MMA          Modern Masters  4.600963\n",
      "M14              Magic 2014  0.703540\n",
      "THS                  Theros  0.636306\n",
      "BNG        Born of the Gods  0.507593\n",
      "JOU        Journey into Nyx  0.664383\n",
      "M15              Magic 2015  0.574724\n",
      "KTK         Khans of Tarkir  0.323186\n",
      "FRF           Fate Reforged  0.544451\n",
      "DTK       Dragons of Tarkir  0.677126\n",
      "MM2     Modern Masters 2015  3.277768\n",
      "ORI           Magic Origins  0.581070\n",
      "BFZ     Battle for Zendikar  0.403216\n",
      "OGW   Oath of the Gatewatch  0.487904\n",
      "SOI  Shadows over Innistrad  0.447509\n",
      "EMN           Eldritch Moon  0.792129\n",
      "KLD                Kaladesh  0.576546\n",
      "AER           Aether Revolt  0.722251\n",
      "MM3     Modern Masters 2017  2.084867\n",
      "AKH                Amonkhet  0.689177\n",
      "HOU     Hour of Devastation  0.797530\n",
      "XLN                  Ixalan  0.828726\n",
      "RIX        Rivals of Ixalan  0.179333\n",
      "\n",
      "[63 rows x 2 columns]\n"
     ]
    }
   ],
   "source": [
    "print(setPrices)"
   ]
  },
  {
   "cell_type": "code",
   "execution_count": 37,
   "metadata": {},
   "outputs": [
    {
     "name": "stderr",
     "output_type": "stream",
     "text": [
      "C:\\Users\\Tyler\\Anaconda3\\lib\\site-packages\\seaborn\\categorical.py:1460: FutureWarning: remove_na is deprecated and is a private function. Do not use.\n",
      "  stat_data = remove_na(group_data)\n"
     ]
    },
    {
     "data": {
      "image/png": "[encoded data removed]",
      "text/plain": [
       "<matplotlib.figure.Figure at 0xd18d0b8>"
      ]
     },
     "metadata": {},
     "output_type": "display_data"
    }
   ],
   "source": [
    "plt.subplots(figsize=(20,7))\n",
    "plt.xticks(rotation=90,size=15)\n",
    "plt.yticks(size=15)\n",
    "sns.barplot(x=setPrices.index,y=setPrices['price'])\n",
    "plt.xlabel('Set',size=15)\n",
    "plt.ylabel('Average Price(USD)',size=15)\n",
    "plt.show()"
   ]
  },
  {
   "cell_type": "markdown",
   "metadata": {},
   "source": [
    "Looking at the above graph, you can see that cards in the Modern Masters sets (MMA,MM2,MM3) along with the Modern Event Decks (MEV) are a LOT more expensive than the rest of the sets. This is because those sets are compilations of some of the best cards in the Modern Magic format.\n",
    "\n",
    "Aside from that point, you can also see that generally the older sets are a bit more expensive than the newer sets. It looks like there's a bit of a drop-off in the average price after Magic 2013 (M13) was released. I am wondering whether this has to do with card quality within the sets, or the fact that older sets are no longer printed."
   ]
  },
  {
   "cell_type": "markdown",
   "metadata": {},
   "source": [
    "One final thing we can look at is how rarity affects a card's price. Regardless of the impact a card has in the game, clearly the supply of copies of the card available to the public would affect its value, right?"
   ]
  },
  {
   "cell_type": "code",
   "execution_count": 34,
   "metadata": {},
   "outputs": [
    {
     "name": "stdout",
     "output_type": "stream",
     "text": [
      "Common         0.189432\n",
      "Uncommon       0.399223\n",
      "Rare           2.494607\n",
      "Mythic Rare    7.439586\n",
      "Special        0.881404\n",
      "Name: price, dtype: float64\n"
     ]
    }
   ],
   "source": [
    "rarityPrices = cardsWithPrices.groupby('rarity')['price'].mean()\n",
    "rarityPrices.index = pd.Categorical(rarityPrices.index,categories=['Common','Uncommon','Rare','Mythic Rare','Special'],ordered=True)\n",
    "rarityPrices.sort_index(inplace = True)\n",
    "print(rarityPrices)"
   ]
  },
  {
   "cell_type": "code",
   "execution_count": 40,
   "metadata": {
    "collapsed": true
   },
   "outputs": [],
   "source": [
    "#Create rarity palette\n",
    "rarityPalette = sns.color_palette([sns.xkcd_rgb['black'],sns.xkcd_rgb['grey'],sns.xkcd_rgb['yellow'],sns.xkcd_rgb['orange']])"
   ]
  },
  {
   "cell_type": "code",
   "execution_count": 41,
   "metadata": {},
   "outputs": [
    {
     "data": {
      "image/png": "[encoded data removed]",
      "text/plain": [
       "<matplotlib.figure.Figure at 0xe11eda0>"
      ]
     },
     "metadata": {},
     "output_type": "display_data"
    }
   ],
   "source": [
    "sns.barplot(x=rarityPrices.index,y=rarityPrices,palette=rarityPalette)\n",
    "plt.show()"
   ]
  },
  {
   "cell_type": "markdown",
   "metadata": {},
   "source": [
    "As one would expect, the rarer the card, the more expensive it is. The \"special\" rarity is an exception to this rule because \"special\" means the card was re-printed as some sort of limited edition event. This means the base card could be of any rarity. Keeping that in mind, Special is still higher value than Uncommon and Common.\n",
    "\n",
    "Let's see how the plot looks when we take into account the number of cards of each rarity you receive in a standard booster pack. This will kind of normalize the numbers so that the cards' actual rarity is less relevant."
   ]
  },
  {
   "cell_type": "code",
   "execution_count": 42,
   "metadata": {
    "collapsed": true
   },
   "outputs": [],
   "source": [
    "#Each standard pack has 10 Commons, 3 Uncommons, and a 7/8 or 1/8 chance of Rare or Mythic Rare respectively\n",
    "rarityPrices['Common'] = rarityPrices['Common'] * 10\n",
    "rarityPrices['Uncommon'] = rarityPrices['Uncommon'] * 3\n",
    "rarityPrices['Rare'] = rarityPrices['Rare'] * 7/8\n",
    "rarityPrices['Mythic Rare'] = rarityPrices['Mythic Rare'] * 1/8"
   ]
  },
  {
   "cell_type": "code",
   "execution_count": 45,
   "metadata": {},
   "outputs": [
    {
     "data": {
      "image/png": "[encoded data removed]",
      "text/plain": [
       "<matplotlib.figure.Figure at 0xe1c4588>"
      ]
     },
     "metadata": {},
     "output_type": "display_data"
    }
   ],
   "source": [
    "sns.barplot(x=rarityPrices.index,y=rarityPrices,palette=rarityPalette)\n",
    "plt.show()"
   ]
  },
  {
   "cell_type": "markdown",
   "metadata": {},
   "source": [
    "It looks like the limited supply of the Mythic Rare cards may be giving them a bit of an advantage over the other rarities! Also, the average value of commons in a pack actually add up to more than the value of the uncommons in a pack!"
   ]
  }
 ],
 "metadata": {
  "kernelspec": {
   "display_name": "Python 3",
   "language": "python",
   "name": "python3"
  },
  "language_info": {
   "codemirror_mode": {
    "name": "ipython",
    "version": 3
   },
   "file_extension": ".py",
   "mimetype": "text/x-python",
   "name": "python",
   "nbconvert_exporter": "python",
   "pygments_lexer": "ipython3",
   "version": "3.6.3"
  }
 },
 "nbformat": 4,
 "nbformat_minor": 2
}
