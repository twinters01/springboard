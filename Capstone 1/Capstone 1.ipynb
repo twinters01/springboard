{
 "cells": [
  {
   "cell_type": "code",
   "execution_count": 2,
   "metadata": {},
   "outputs": [
    {
     "name": "stdout",
     "output_type": "stream",
     "text": [
      "Requirement already satisfied: mtgsdk in c:\\users\\tyler\\anaconda3\\lib\\site-packages\n"
     ]
    }
   ],
   "source": [
    "#Install/import necessary packages\n",
    "!pip install mtgsdk\n",
    "from mtgsdk import Card\n",
    "from bs4 import BeautifulSoup\n",
    "\n",
    "import requests\n",
    "import pandas as pd\n",
    "import json\n",
    "import pickle\n",
    "from pandas.io.json import json_normalize"
   ]
  },
  {
   "cell_type": "markdown",
   "metadata": {},
   "source": [
    "# CARD DATA SCRAPING "
   ]
  },
  {
   "cell_type": "markdown",
   "metadata": {},
   "source": [
    "If you don't have the data/modernCardsUnprocessed.pickle file, run these cells:"
   ]
  },
  {
   "cell_type": "code",
   "execution_count": 8,
   "metadata": {
    "collapsed": true
   },
   "outputs": [],
   "source": [
    "#Get all modern cards\n",
    "cards = Card.where(gameFormat='modern').all()\n",
    "cardDicts = [c.__dict__ for c in cards]\n",
    "cardsDf = pd.DataFrame(cardDicts)"
   ]
  },
  {
   "cell_type": "code",
   "execution_count": 9,
   "metadata": {
    "collapsed": true
   },
   "outputs": [],
   "source": [
    "with open('data/modernCardsUnprocessed.pickle','wb') as pickle_out:\n",
    "    pickle.dump(cardsDf,pickle_out)"
   ]
  },
  {
   "cell_type": "markdown",
   "metadata": {},
   "source": [
    "Otherwise, run these cell:"
   ]
  },
  {
   "cell_type": "code",
   "execution_count": 11,
   "metadata": {
    "collapsed": true
   },
   "outputs": [],
   "source": [
    "#Open unprocessed data\n",
    "with open('data/modernCardsUnprocessed.pickle','rb') as pickle_in:\n",
    "    cardsDf = pickle.load(pickle_in)"
   ]
  },
  {
   "cell_type": "code",
   "execution_count": 12,
   "metadata": {
    "collapsed": true
   },
   "outputs": [],
   "source": [
    "#Filter out the lands\n",
    "types = cardsDf['types']\n",
    "\n",
    "nonlandFilter = [\"Land\" not in t for t in types]\n",
    "\n",
    "nonLands = pd.DataFrame(cardsDf.loc[nonlandFilter])"
   ]
  },
  {
   "cell_type": "code",
   "execution_count": 13,
   "metadata": {
    "collapsed": true
   },
   "outputs": [],
   "source": [
    "#This will fix list columns with null values and join lists by commas\n",
    "def fixListCol(el):\n",
    "    if el == None:\n",
    "        return ''\n",
    "    elif type(el) == list:\n",
    "        return ','.join(el)\n",
    "    return el"
   ]
  },
  {
   "cell_type": "code",
   "execution_count": 14,
   "metadata": {
    "collapsed": true
   },
   "outputs": [],
   "source": [
    "# Apply the fix to relevant columns\n",
    "nonLands['supertypes'] = nonLands['supertypes'].apply(fixListCol)\n",
    "nonLands['types'] = nonLands['types'].apply(fixListCol)\n",
    "nonLands['subtypes'] = nonLands['subtypes'].apply(fixListCol)\n",
    "nonLands['color_identity'] = nonLands['color_identity'].apply(fixListCol)\n"
   ]
  },
  {
   "cell_type": "code",
   "execution_count": 32,
   "metadata": {},
   "outputs": [
    {
     "name": "stdout",
     "output_type": "stream",
     "text": [
      "            artist  cmc color_identity  layout  loyalty  mana_cost  \\\n",
      "0      Warren Mahy    4              R  normal      NaN     {3}{R}   \n",
      "16  Douglas Shuler    5              W  normal      NaN  {3}{W}{W}   \n",
      "17  Trevor Claxton    4              G  normal      NaN  {2}{G}{G}   \n",
      "18            Izzy    3            W,U  normal      NaN  {1}{W}{U}   \n",
      "19    Steve Argyle    2              W  normal      NaN     {1}{W}   \n",
      "\n",
      "                           name power   rarity       subtypes supertypes  \\\n",
      "0             Steamflogger Boss     3     Rare  Goblin,Rigger              \n",
      "16                  Serra Angel     4  Special          Angel              \n",
      "17                    Vengevine     4  Special      Elemental              \n",
      "18         Geist of Saint Traft     2  Special  Spirit,Cleric  Legendary   \n",
      "19  Thalia, Guardian of Thraben     2  Special  Human,Soldier  Legendary   \n",
      "\n",
      "                                                 text timeshifted toughness  \\\n",
      "0   Other Riggers you control get +1/+0 and have h...        None         3   \n",
      "16  Flying (This creature can't be blocked except ...        None         4   \n",
      "17  Haste\\nWhenever you cast a spell, if it's the ...        None         3   \n",
      "18  Hexproof (This creature can't be the target of...        None         2   \n",
      "19  First strike\\nNoncreature spells cost {1} more...        None         1   \n",
      "\n",
      "       types   set  \n",
      "0   Creature   UST  \n",
      "16  Creature  pWOS  \n",
      "17  Creature  pWCQ  \n",
      "18  Creature  pWCQ  \n",
      "19  Creature  pWCQ  \n"
     ]
    }
   ],
   "source": [
    "#Select the relevant columns\n",
    "cardsDfFinal = nonLands[['artist','cmc','color_identity','layout','loyalty','mana_cost','name','power','rarity','subtypes','supertypes','text','timeshifted','toughness','types','set']]\n",
    "\n",
    "print(cardsDfFinal.head())"
   ]
  },
  {
   "cell_type": "code",
   "execution_count": 10,
   "metadata": {},
   "outputs": [
    {
     "name": "stdout",
     "output_type": "stream",
     "text": [
      "<class 'pandas.core.frame.DataFrame'>\n",
      "Int64Index: 20018 entries, 0 to 23042\n",
      "Data columns (total 19 columns):\n",
      "artist            20018 non-null object\n",
      "border            3 non-null object\n",
      "cmc               20018 non-null int64\n",
      "color_identity    20018 non-null object\n",
      "layout            20018 non-null object\n",
      "loyalty           168 non-null float64\n",
      "mana_cost         19913 non-null object\n",
      "name              20018 non-null object\n",
      "power             10978 non-null object\n",
      "rarity            20018 non-null object\n",
      "release_date      777 non-null datetime64[ns]\n",
      "source            1065 non-null object\n",
      "subtypes          20018 non-null object\n",
      "supertypes        20018 non-null object\n",
      "text              19556 non-null object\n",
      "timeshifted       236 non-null object\n",
      "toughness         10978 non-null object\n",
      "types             20018 non-null object\n",
      "set               20018 non-null object\n",
      "dtypes: datetime64[ns](1), float64(1), int64(1), object(16)\n",
      "memory usage: 3.7+ MB\n"
     ]
    }
   ],
   "source": [
    "cardsDfFinal.info()"
   ]
  },
  {
   "cell_type": "code",
   "execution_count": 18,
   "metadata": {
    "scrolled": true
   },
   "outputs": [
    {
     "name": "stdout",
     "output_type": "stream",
     "text": [
      "               artist  cmc color_identity        layout  loyalty mana_cost  \\\n",
      "83   Christopher Rush    0                       normal      NaN      None   \n",
      "104     Ryan Pancoast    2              G  double-faced      NaN      None   \n",
      "106        Kev Walker    5              B  double-faced      NaN      None   \n",
      "603     Karl Kopinski    2              U  double-faced      NaN      None   \n",
      "605   Anthony Palumbo    4              R  double-faced      NaN      None   \n",
      "\n",
      "                      name power   rarity  \\\n",
      "83             Lotus Bloom  None  Special   \n",
      "104         Howlpack Alpha     3  Special   \n",
      "106     Archdemon of Greed     9  Special   \n",
      "603  Ludevic's Abomination    13  Special   \n",
      "605   Tovolar's Magehunter     5  Special   \n",
      "\n",
      "                                              source       subtypes  \\\n",
      "83       Time Spiral Prerelease participation bonus.                  \n",
      "104         Innistrad Prerelease participation bonus       Werewolf   \n",
      "106    Dark Ascension Prerelease participation bonus          Demon   \n",
      "603       Innistrad Launch Party participation bonus  Lizard,Horror   \n",
      "605  Dark Ascension Launch Party participation bonus       Werewolf   \n",
      "\n",
      "    supertypes                                               text timeshifted  \\\n",
      "83              Suspend 3—{0} (Rather than cast this card from...        None   \n",
      "104             Each other creature you control that's a Werew...        None   \n",
      "106             Flying, trample\\nAt the beginning of your upke...        None   \n",
      "603                                                       Trample        None   \n",
      "605             Whenever an opponent casts a spell, Tovolar's ...        None   \n",
      "\n",
      "    toughness     types   set  \n",
      "83       None  Artifact  pPRE  \n",
      "104         3  Creature  pPRE  \n",
      "106         9  Creature  pPRE  \n",
      "603        13  Creature  pLPA  \n",
      "605         5  Creature  pLPA  \n"
     ]
    }
   ],
   "source": [
    "print(cardsDfFinal.loc[pd.isnull(cardsDfFinal['mana_cost'])].head())"
   ]
  },
  {
   "cell_type": "code",
   "execution_count": 33,
   "metadata": {
    "collapsed": true
   },
   "outputs": [],
   "source": [
    "#Save the data\n",
    "with open('data/modernCardsFinal.pickle','wb') as pickle_out:\n",
    "    pickle.dump(cardsDfFinal,pickle_out)"
   ]
  },
  {
   "cell_type": "code",
   "execution_count": 4,
   "metadata": {},
   "outputs": [],
   "source": [
    "with open('data/modernCardsFinal.pickle','rb') as pickle_in:\n",
    "    cardsDfFinal = pickle.load(pickle_in)"
   ]
  },
  {
   "cell_type": "markdown",
   "metadata": {},
   "source": [
    "# PRICE SCRAPING"
   ]
  },
  {
   "cell_type": "markdown",
   "metadata": {},
   "source": [
    "If the file already exists in the data directory:"
   ]
  },
  {
   "cell_type": "code",
   "execution_count": 20,
   "metadata": {
    "collapsed": true
   },
   "outputs": [],
   "source": [
    "with open('data/modernPrices.pickle','rb') as pickle_in:\n",
    "    pricesDF = pickle.load(pickle_in)"
   ]
  },
  {
   "cell_type": "code",
   "execution_count": 22,
   "metadata": {},
   "outputs": [
    {
     "name": "stdout",
     "output_type": "stream",
     "text": [
      "Empty DataFrame\n",
      "Columns: [name, price, set, setname]\n",
      "Index: []\n"
     ]
    }
   ],
   "source": [
    "print(pricesDF.loc[pricesDF['name']=='Howlpack Alpha'])"
   ]
  },
  {
   "cell_type": "markdown",
   "metadata": {},
   "source": [
    "If the data needs to be scraped:"
   ]
  },
  {
   "cell_type": "code",
   "execution_count": 5,
   "metadata": {
    "collapsed": true
   },
   "outputs": [],
   "source": [
    "#This will scrape the prices from the formats included in the given format parameter (i.e. 'Modern' will scrape both Standard and Modern)\n",
    "def scrapeSelectPage(url,formt):\n",
    "    #Get the page\n",
    "    r = requests.get(url)\n",
    "    html_doc = r.text\n",
    "    soup = BeautifulSoup(html_doc,'lxml')\n",
    "    \n",
    "    #Get the format blocks from the page\n",
    "    formats = soup.find_all('div',class_='priceList-setMenu')\n",
    "    pricesDF = pd.DataFrame()\n",
    "    for form in formats:\n",
    "        pricesDF = pricesDF.append(scrapeFormat(form))\n",
    "        \n",
    "        #Check if we've reached the desired format\n",
    "        if 'priceList-setMenu-'+formt in form.attrs['class']:\n",
    "            break\n",
    "        \n",
    "    return pricesDF\n",
    "\n",
    "#Scrapes a format div from the /prices/select page\n",
    "def scrapeFormat(soup):\n",
    "    #Select the first li element in the format's div\n",
    "    element = soup.li\n",
    "    \n",
    "    #Skip the first \"Quick Prices\" block\n",
    "    element = element.find_next_sibling('li',class_='priceList-setMenu-header')\n",
    "    \n",
    "    #Create empty dataframe to append to\n",
    "    formatDF = pd.DataFrame()\n",
    "    \n",
    "    #Append the Dataframes obtained by scraping each set\n",
    "    while(element.find_next_sibling('li') != None):\n",
    "        #Iterate\n",
    "        element = element.find_next_sibling('li')\n",
    "        \n",
    "        #The set elements don't have classes associated with them\n",
    "        if 'class' not in element.attrs:\n",
    "            #Scrape the cards in the set's page and add the name of the set\n",
    "            setDF = scrapeSet('https://www.mtggoldfish.com'+element.a.attrs['href']+'#paper')\n",
    "            setDF['setname'] = element.get_text().strip()\n",
    "            \n",
    "            formatDF = formatDF.append(setDF)\n",
    "            \n",
    "    return formatDF\n",
    "\n",
    "#Scrapes all of the prices from the given set page\n",
    "def scrapeSet(url):\n",
    "    #Get the page\n",
    "    r = requests.get(url)\n",
    "    html_doc = r.text\n",
    "    soup = BeautifulSoup(html_doc,'lxml')\n",
    "    \n",
    "    #Select the cards table\n",
    "    element = soup.find('table',class_='tablesorter-bootstrap-popover-online').tbody\n",
    "    \n",
    "    #Build a list that will be filled with dictionaries to be converted to a DataFrame\n",
    "    cardList = []\n",
    "    \n",
    "    #Loop through rows and scrape the name and price\n",
    "    for row in element.find_all('tr'):\n",
    "        #Get the td elements\n",
    "        row = row.find_all('td')\n",
    "        \n",
    "        cardList.append({'name':row[0].a.get_text().strip(),'price':row[3].get_text().strip(),'set':row[1].get_text()})\n",
    "    \n",
    "    return pd.DataFrame(cardList)"
   ]
  },
  {
   "cell_type": "code",
   "execution_count": 6,
   "metadata": {},
   "outputs": [
    {
     "name": "stdout",
     "output_type": "stream",
     "text": [
      "                       name  price  set           setname\n",
      "0        Rekindling Phoenix  20.64  RIX  Rivals of Ixalan\n",
      "1  Kumena, Tyrant of Orazca   8.02  RIX  Rivals of Ixalan\n",
      "2  Angrath, Minotaur Pirate   6.00  RIX  Rivals of Ixalan\n",
      "3   Vraska, Scheming Gorgon   5.00  RIX  Rivals of Ixalan\n",
      "4          Jadelight Ranger   3.83  RIX  Rivals of Ixalan\n",
      "<class 'pandas.core.frame.DataFrame'>\n",
      "Int64Index: 13816 entries, 0 to 285\n",
      "Data columns (total 4 columns):\n",
      "name       13816 non-null object\n",
      "price      13816 non-null object\n",
      "set        13816 non-null object\n",
      "setname    13816 non-null object\n",
      "dtypes: object(4)\n",
      "memory usage: 539.7+ KB\n"
     ]
    }
   ],
   "source": [
    "pricesDF = scrapeSelectPage('https://www.mtggoldfish.com/prices/select','Modern')"
   ]
  },
  {
   "cell_type": "code",
   "execution_count": 8,
   "metadata": {
    "collapsed": true
   },
   "outputs": [],
   "source": [
    "with open('data/modernPrices.pickle','wb') as pickle_out:\n",
    "    pickle.dump(pricesDF,pickle_out)"
   ]
  },
  {
   "cell_type": "markdown",
   "metadata": {},
   "source": [
    "Look at the DF:"
   ]
  },
  {
   "cell_type": "code",
   "execution_count": 10,
   "metadata": {},
   "outputs": [
    {
     "name": "stdout",
     "output_type": "stream",
     "text": [
      "                       name  price  set           setname\n",
      "0        Rekindling Phoenix  20.64  RIX  Rivals of Ixalan\n",
      "1  Kumena, Tyrant of Orazca   8.02  RIX  Rivals of Ixalan\n",
      "2  Angrath, Minotaur Pirate   6.00  RIX  Rivals of Ixalan\n",
      "3   Vraska, Scheming Gorgon   5.00  RIX  Rivals of Ixalan\n",
      "4          Jadelight Ranger   3.83  RIX  Rivals of Ixalan\n",
      "<class 'pandas.core.frame.DataFrame'>\n",
      "Int64Index: 13816 entries, 0 to 285\n",
      "Data columns (total 4 columns):\n",
      "name       13816 non-null object\n",
      "price      13816 non-null object\n",
      "set        13816 non-null object\n",
      "setname    13816 non-null object\n",
      "dtypes: object(4)\n",
      "memory usage: 539.7+ KB\n"
     ]
    }
   ],
   "source": [
    "print(pricesDF.head())\n",
    "pricesDF.info()"
   ]
  },
  {
   "cell_type": "markdown",
   "metadata": {},
   "source": [
    "# MELD"
   ]
  },
  {
   "cell_type": "code",
   "execution_count": 34,
   "metadata": {
    "collapsed": true
   },
   "outputs": [],
   "source": [
    "#Merge the card info and card prices dataframes\n",
    "cardsWithPrices = pricesDF.merge(cardsDfFinal,on=['name','set'])\n",
    "\n",
    "#Set the index to the name and set\n",
    "cardsWithPrices = cardsWithPrices.set_index(['set','name']).sort_index()"
   ]
  },
  {
   "cell_type": "code",
   "execution_count": 35,
   "metadata": {},
   "outputs": [],
   "source": [
    "#Convert to useful datatypes\n",
    "cardsWithPrices['cmc'] = pd.to_numeric(cardsWithPrices['cmc'])\n",
    "cardsWithPrices['loyalty'] = pd.to_numeric(cardsWithPrices['loyalty'])\n",
    "cardsWithPrices['price'] = pd.to_numeric(cardsWithPrices['price'])\n",
    "cardsWithPrices['rarity'] = cardsWithPrices['rarity'].astype('category')\n",
    "cardsWithPrices['layout'] = cardsWithPrices['layout'].astype('category')"
   ]
  },
  {
   "cell_type": "code",
   "execution_count": 51,
   "metadata": {},
   "outputs": [],
   "source": [
    "#Manually adding a manacost to Suspend and no-cost Splice cards as their ability's respective cost\n",
    "cardsWithPrices.loc[(slice(None),'Evermind'),'mana_cost'] = '{1}{U}'\n",
    "cardsWithPrices.loc[(slice(None),'Evermind'),'cmc'] = 2\n",
    "\n",
    "cardsWithPrices.loc[(slice(None),'Wheel of Fate'),'mana_cost'] = '{1}{R}'\n",
    "cardsWithPrices.loc[(slice(None),'Wheel of Fate'),'cmc'] = 2\n",
    "\n",
    "cardsWithPrices.loc[(slice(None),'Restore Balance'),'mana_cost'] = '{W}'\n",
    "cardsWithPrices.loc[(slice(None),'Restore Balance'),'cmc'] = 1\n",
    "\n",
    "cardsWithPrices.loc[(slice(None),'Living End'),'mana_cost'] = '{2}{B}{B}'\n",
    "cardsWithPrices.loc[(slice(None),'Living End'),'cmc'] = 4\n",
    "\n",
    "cardsWithPrices.loc[(slice(None),'Ancestral Vision'),'mana_cost'] = '{U}'\n",
    "cardsWithPrices.loc[(slice(None),'Ancestral Vision'),'cmc'] = 1\n",
    "\n",
    "cardsWithPrices.loc[(slice(None),'Lotus Bloom'),'mana_cost'] = '{0}'\n",
    "cardsWithPrices.loc[(slice(None),'Lotus Bloom'),'cmc'] = 0\n",
    "\n",
    "#Drop the two transformed cards that slipped through the cracks\n",
    "cardsWithPrices = cardsWithPrices.drop([('ISD','Howlpack of Estwald'),('EMN','Howling Chorus')])"
   ]
  },
  {
   "cell_type": "code",
   "execution_count": 58,
   "metadata": {},
   "outputs": [],
   "source": [
    "#Fill empty text \n",
    "cardsWithPrices['text'] = cardsWithPrices['text'].fillna('')"
   ]
  },
  {
   "cell_type": "code",
   "execution_count": 60,
   "metadata": {},
   "outputs": [
    {
     "name": "stdout",
     "output_type": "stream",
     "text": [
      "<class 'pandas.core.frame.DataFrame'>\n",
      "MultiIndex: 12730 entries, (10E, Abundance) to (ZEN, Zendikar Farguide)\n",
      "Data columns (total 16 columns):\n",
      "price             12730 non-null float64\n",
      "setname           12730 non-null object\n",
      "artist            12730 non-null object\n",
      "cmc               12730 non-null int64\n",
      "color_identity    12730 non-null object\n",
      "layout            12730 non-null category\n",
      "loyalty           112 non-null float64\n",
      "mana_cost         12730 non-null object\n",
      "power             7060 non-null object\n",
      "rarity            12730 non-null category\n",
      "subtypes          12730 non-null object\n",
      "supertypes        12730 non-null object\n",
      "text              12730 non-null object\n",
      "timeshifted       233 non-null object\n",
      "toughness         7060 non-null object\n",
      "types             12730 non-null object\n",
      "dtypes: category(2), float64(2), int64(1), object(11)\n",
      "memory usage: 1.5+ MB\n"
     ]
    }
   ],
   "source": [
    "#Everything is good to go!\n",
    "cardsWithPrices.info()"
   ]
  },
  {
   "cell_type": "code",
   "execution_count": 61,
   "metadata": {},
   "outputs": [
    {
     "name": "stdout",
     "output_type": "stream",
     "text": [
      "set  name                      \n",
      "SOM  Mox Opal                      57.98\n",
      "MM2  Mox Opal                      56.13\n",
      "ISD  Liliana of the Veil           53.64\n",
      "MM3  Liliana of the Veil           53.27\n",
      "HOU  The Scarab God                38.05\n",
      "NPH  Karn Liberated                37.81\n",
      "MM2  Karn Liberated                36.52\n",
      "5DN  Engineered Explosives         35.88\n",
      "MMA  Engineered Explosives         35.82\n",
      "8ED  Ensnaring Bridge              33.52\n",
      "KLD  Chandra, Torch of Defiance    30.43\n",
      "EMN  Liliana, the Last Hope        28.58\n",
      "NPH  Surgical Extraction           27.56\n",
      "MM2  Surgical Extraction           27.53\n",
      "8ED  Blood Moon                    25.95\n",
      "MMA  Chalice of the Void           25.35\n",
      "MRD  Chalice of the Void           25.25\n",
      "MMA  Tarmogoyf                     24.38\n",
      "FUT  Tarmogoyf                     24.00\n",
      "MM3  Tarmogoyf                     23.41\n",
      "Name: price, dtype: float64\n"
     ]
    }
   ],
   "source": [
    "#Just out of curiosity, let's see the top 20 priced cards\n",
    "print(cardsWithPrices.sort_values(by='price', ascending=False)['price'].head(20))"
   ]
  }
 ],
 "metadata": {
  "kernelspec": {
   "display_name": "Python 3",
   "language": "python",
   "name": "python3"
  },
  "language_info": {
   "codemirror_mode": {
    "name": "ipython",
    "version": 3
   },
   "file_extension": ".py",
   "mimetype": "text/x-python",
   "name": "python",
   "nbconvert_exporter": "python",
   "pygments_lexer": "ipython3",
   "version": "3.6.3"
  }
 },
 "nbformat": 4,
 "nbformat_minor": 2
}
