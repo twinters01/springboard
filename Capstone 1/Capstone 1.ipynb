{
 "cells": [
  {
   "cell_type": "code",
   "execution_count": 1,
   "metadata": {},
   "outputs": [
    {
     "name": "stdout",
     "output_type": "stream",
     "text": [
      "Requirement already satisfied: mtgsdk in c:\\users\\tyler\\anaconda3\\lib\\site-packages\n"
     ]
    }
   ],
   "source": [
    "#Install/import necessary packages\n",
    "!pip install mtgsdk\n",
    "from mtgsdk import Card\n",
    "from bs4 import BeautifulSoup\n",
    "\n",
    "import requests\n",
    "import pandas as pd\n",
    "import json\n",
    "import pickle\n",
    "from pandas.io.json import json_normalize\n",
    "from pandas.api.types import CategoricalDtype"
   ]
  },
  {
   "cell_type": "markdown",
   "metadata": {},
   "source": [
    "# CARD DATA SCRAPING "
   ]
  },
  {
   "cell_type": "markdown",
   "metadata": {},
   "source": [
    "The following sections involve gathering and processing a new dataset. To load the pre-processed data (if it exists) see the cell just before the Price Scraping section."
   ]
  },
  {
   "cell_type": "markdown",
   "metadata": {},
   "source": [
    "If you don't have the data/modernCardsUnprocessed.pickle file, run these cells:"
   ]
  },
  {
   "cell_type": "code",
   "execution_count": 64,
   "metadata": {
    "collapsed": true
   },
   "outputs": [],
   "source": [
    "#Get all modern cards\n",
    "cards = Card.where(gameFormat='modern').all()\n",
    "cardDicts = [c.__dict__ for c in cards]\n",
    "cardsDf = pd.DataFrame(cardDicts)"
   ]
  },
  {
   "cell_type": "code",
   "execution_count": 65,
   "metadata": {
    "collapsed": true
   },
   "outputs": [],
   "source": [
    "with open('data/modernCardsUnprocessed.pickle','wb') as pickle_out:\n",
    "    pickle.dump(cardsDf,pickle_out)"
   ]
  },
  {
   "cell_type": "markdown",
   "metadata": {},
   "source": [
    "Otherwise, run these cell:"
   ]
  },
  {
   "cell_type": "code",
   "execution_count": 2,
   "metadata": {
    "collapsed": true
   },
   "outputs": [],
   "source": [
    "#Open unprocessed data\n",
    "with open('data/modernCardsUnprocessed.pickle','rb') as pickle_in:\n",
    "    cardsDf = pickle.load(pickle_in)"
   ]
  },
  {
   "cell_type": "code",
   "execution_count": 66,
   "metadata": {
    "collapsed": true
   },
   "outputs": [],
   "source": [
    "#Filter out the lands\n",
    "types = cardsDf['types']\n",
    "\n",
    "nonlandFilter = [\"Land\" not in t for t in types]\n",
    "\n",
    "nonLands = pd.DataFrame(cardsDf.loc[nonlandFilter])"
   ]
  },
  {
   "cell_type": "code",
   "execution_count": 67,
   "metadata": {
    "collapsed": true
   },
   "outputs": [],
   "source": [
    "#This will fix list columns with null values and join lists by commas\n",
    "def fixListCol(el):\n",
    "    if el == None:\n",
    "        return ''\n",
    "    elif type(el) == list:\n",
    "        return ','.join(el)\n",
    "    return el"
   ]
  },
  {
   "cell_type": "code",
   "execution_count": 68,
   "metadata": {
    "collapsed": true
   },
   "outputs": [],
   "source": [
    "# Apply the fix to relevant columns\n",
    "nonLands['supertypes'] = nonLands['supertypes'].apply(fixListCol)\n",
    "nonLands['types'] = nonLands['types'].apply(fixListCol)\n",
    "nonLands['subtypes'] = nonLands['subtypes'].apply(fixListCol)\n",
    "nonLands['color_identity'] = nonLands['color_identity'].apply(fixListCol)\n"
   ]
  },
  {
   "cell_type": "code",
   "execution_count": 69,
   "metadata": {},
   "outputs": [
    {
     "name": "stdout",
     "output_type": "stream",
     "text": [
      "            artist  cmc color_identity  layout  loyalty  mana_cost  \\\n",
      "0      Warren Mahy    4              R  normal      NaN     {3}{R}   \n",
      "16  Douglas Shuler    5              W  normal      NaN  {3}{W}{W}   \n",
      "17  Trevor Claxton    4              G  normal      NaN  {2}{G}{G}   \n",
      "18            Izzy    3            W,U  normal      NaN  {1}{W}{U}   \n",
      "19    Steve Argyle    2              W  normal      NaN     {1}{W}   \n",
      "\n",
      "                           name power   rarity       subtypes supertypes  \\\n",
      "0             Steamflogger Boss     3     Rare  Goblin,Rigger              \n",
      "16                  Serra Angel     4  Special          Angel              \n",
      "17                    Vengevine     4  Special      Elemental              \n",
      "18         Geist of Saint Traft     2  Special  Spirit,Cleric  Legendary   \n",
      "19  Thalia, Guardian of Thraben     2  Special  Human,Soldier  Legendary   \n",
      "\n",
      "                                                 text timeshifted toughness  \\\n",
      "0   Other Riggers you control get +1/+0 and have h...        None         3   \n",
      "16  Flying (This creature can't be blocked except ...        None         4   \n",
      "17  Haste\\nWhenever you cast a spell, if it's the ...        None         3   \n",
      "18  Hexproof (This creature can't be the target of...        None         2   \n",
      "19  First strike\\nNoncreature spells cost {1} more...        None         1   \n",
      "\n",
      "       types   set  \n",
      "0   Creature   UST  \n",
      "16  Creature  pWOS  \n",
      "17  Creature  pWCQ  \n",
      "18  Creature  pWCQ  \n",
      "19  Creature  pWCQ  \n"
     ]
    }
   ],
   "source": [
    "#Select the relevant columns\n",
    "cardsDfFinal = nonLands[['artist','cmc','color_identity','layout','loyalty','mana_cost','name','power','rarity','subtypes','supertypes','text','timeshifted','toughness','types','set']]\n",
    "\n",
    "print(cardsDfFinal.head())"
   ]
  },
  {
   "cell_type": "code",
   "execution_count": 70,
   "metadata": {},
   "outputs": [
    {
     "name": "stdout",
     "output_type": "stream",
     "text": [
      "<class 'pandas.core.frame.DataFrame'>\n",
      "Int64Index: 20018 entries, 0 to 23042\n",
      "Data columns (total 16 columns):\n",
      "artist            20018 non-null object\n",
      "cmc               20018 non-null int64\n",
      "color_identity    20018 non-null object\n",
      "layout            20018 non-null object\n",
      "loyalty           168 non-null float64\n",
      "mana_cost         19913 non-null object\n",
      "name              20018 non-null object\n",
      "power             10978 non-null object\n",
      "rarity            20018 non-null object\n",
      "subtypes          20018 non-null object\n",
      "supertypes        20018 non-null object\n",
      "text              19556 non-null object\n",
      "timeshifted       236 non-null object\n",
      "toughness         10978 non-null object\n",
      "types             20018 non-null object\n",
      "set               20018 non-null object\n",
      "dtypes: float64(1), int64(1), object(14)\n",
      "memory usage: 2.6+ MB\n"
     ]
    }
   ],
   "source": [
    "cardsDfFinal.info()"
   ]
  },
  {
   "cell_type": "code",
   "execution_count": 71,
   "metadata": {
    "collapsed": true
   },
   "outputs": [],
   "source": [
    "#Save the data\n",
    "with open('data/modernCardsFinal.pickle','wb') as pickle_out:\n",
    "    pickle.dump(cardsDfFinal,pickle_out)"
   ]
  },
  {
   "cell_type": "markdown",
   "metadata": {},
   "source": [
    "To load the pre-processed data:"
   ]
  },
  {
   "cell_type": "code",
   "execution_count": 4,
   "metadata": {
    "collapsed": true
   },
   "outputs": [],
   "source": [
    "with open('data/modernCardsFinal.pickle','rb') as pickle_in:\n",
    "    cardsDfFinal = pickle.load(pickle_in)"
   ]
  },
  {
   "cell_type": "markdown",
   "metadata": {},
   "source": [
    "# PRICE SCRAPING"
   ]
  },
  {
   "cell_type": "markdown",
   "metadata": {},
   "source": [
    "If the file already exists in the data directory:"
   ]
  },
  {
   "cell_type": "code",
   "execution_count": 5,
   "metadata": {
    "collapsed": true
   },
   "outputs": [],
   "source": [
    "with open('data/modernPrices.pickle','rb') as pickle_in:\n",
    "    pricesDF = pickle.load(pickle_in)"
   ]
  },
  {
   "cell_type": "markdown",
   "metadata": {},
   "source": [
    "If the data needs to be scraped:"
   ]
  },
  {
   "cell_type": "code",
   "execution_count": 72,
   "metadata": {
    "collapsed": true
   },
   "outputs": [],
   "source": [
    "#This will scrape the prices from the formats included in the given format parameter (i.e. 'Modern' will scrape both Standard and Modern)\n",
    "def scrapeSelectPage(url,formt):\n",
    "    #Get the page\n",
    "    r = requests.get(url)\n",
    "    html_doc = r.text\n",
    "    soup = BeautifulSoup(html_doc,'lxml')\n",
    "    \n",
    "    #Get the format blocks from the page\n",
    "    formats = soup.find_all('div',class_='priceList-setMenu')\n",
    "    pricesDF = pd.DataFrame()\n",
    "    for form in formats:\n",
    "        pricesDF = pricesDF.append(scrapeFormat(form))\n",
    "        \n",
    "        #Check if we've reached the desired format\n",
    "        if 'priceList-setMenu-'+formt in form.attrs['class']:\n",
    "            break\n",
    "        \n",
    "    return pricesDF\n",
    "\n",
    "#Scrapes a format div from the /prices/select page\n",
    "def scrapeFormat(soup):\n",
    "    #Select the first li element in the format's div\n",
    "    element = soup.li\n",
    "    \n",
    "    #Skip the first \"Quick Prices\" block\n",
    "    element = element.find_next_sibling('li',class_='priceList-setMenu-header')\n",
    "    \n",
    "    #Create empty dataframe to append to\n",
    "    formatDF = pd.DataFrame()\n",
    "    \n",
    "    #Append the Dataframes obtained by scraping each set\n",
    "    while(element.find_next_sibling('li') != None):\n",
    "        #Iterate\n",
    "        element = element.find_next_sibling('li')\n",
    "        \n",
    "        #The set elements don't have classes associated with them\n",
    "        if 'class' not in element.attrs:\n",
    "            #Scrape the cards in the set's page and add the name of the set\n",
    "            setDF = scrapeSet('https://www.mtggoldfish.com'+element.a.attrs['href']+'#paper')\n",
    "            setDF['setname'] = element.get_text().strip()\n",
    "            \n",
    "            formatDF = formatDF.append(setDF)\n",
    "            \n",
    "    return formatDF\n",
    "\n",
    "#Scrapes all of the prices from the given set page\n",
    "def scrapeSet(url):\n",
    "    #Get the page\n",
    "    r = requests.get(url)\n",
    "    html_doc = r.text\n",
    "    soup = BeautifulSoup(html_doc,'lxml')\n",
    "    \n",
    "    #Select the cards table\n",
    "    element = soup.find('table',class_='tablesorter-bootstrap-popover-online').tbody\n",
    "    \n",
    "    #Build a list that will be filled with dictionaries to be converted to a DataFrame\n",
    "    cardList = []\n",
    "    \n",
    "    #Loop through rows and scrape the name and price\n",
    "    for row in element.find_all('tr'):\n",
    "        #Get the td elements\n",
    "        row = row.find_all('td')\n",
    "        \n",
    "        cardList.append({'name':row[0].a.get_text().strip(),'price':row[3].get_text().strip(),'set':row[1].get_text()})\n",
    "    \n",
    "    return pd.DataFrame(cardList)"
   ]
  },
  {
   "cell_type": "code",
   "execution_count": 73,
   "metadata": {
    "collapsed": true
   },
   "outputs": [],
   "source": [
    "pricesDF = scrapeSelectPage('https://www.mtggoldfish.com/prices/select','Modern')"
   ]
  },
  {
   "cell_type": "code",
   "execution_count": 8,
   "metadata": {
    "collapsed": true
   },
   "outputs": [],
   "source": [
    "with open('data/modernPrices.pickle','wb') as pickle_out:\n",
    "    pickle.dump(pricesDF,pickle_out)"
   ]
  },
  {
   "cell_type": "markdown",
   "metadata": {},
   "source": [
    "Look at the DF:"
   ]
  },
  {
   "cell_type": "code",
   "execution_count": 10,
   "metadata": {},
   "outputs": [
    {
     "name": "stdout",
     "output_type": "stream",
     "text": [
      "                       name  price  set           setname\n",
      "0        Rekindling Phoenix  20.64  RIX  Rivals of Ixalan\n",
      "1  Kumena, Tyrant of Orazca   8.02  RIX  Rivals of Ixalan\n",
      "2  Angrath, Minotaur Pirate   6.00  RIX  Rivals of Ixalan\n",
      "3   Vraska, Scheming Gorgon   5.00  RIX  Rivals of Ixalan\n",
      "4          Jadelight Ranger   3.83  RIX  Rivals of Ixalan\n",
      "<class 'pandas.core.frame.DataFrame'>\n",
      "Int64Index: 13816 entries, 0 to 285\n",
      "Data columns (total 4 columns):\n",
      "name       13816 non-null object\n",
      "price      13816 non-null object\n",
      "set        13816 non-null object\n",
      "setname    13816 non-null object\n",
      "dtypes: object(4)\n",
      "memory usage: 539.7+ KB\n"
     ]
    }
   ],
   "source": [
    "print(pricesDF.head())\n",
    "pricesDF.info()"
   ]
  },
  {
   "cell_type": "markdown",
   "metadata": {},
   "source": [
    "# MELD"
   ]
  },
  {
   "cell_type": "code",
   "execution_count": 4,
   "metadata": {
    "collapsed": true
   },
   "outputs": [],
   "source": [
    "#Load the existing merged dataset\n",
    "with open('data/modernPricesWithData.pickle','rb') as pickle_in:\n",
    "    cardsWithPrices = pickle.load(pickle_in)"
   ]
  },
  {
   "cell_type": "code",
   "execution_count": 6,
   "metadata": {
    "collapsed": true
   },
   "outputs": [],
   "source": [
    "#Merge the card info and card prices dataframes\n",
    "cardsWithPrices = pricesDF.merge(cardsDfFinal,on=['name','set'])\n",
    "\n",
    "#Set the index to the name and set\n",
    "cardsWithPrices = cardsWithPrices.set_index(['set','name']).sort_index()"
   ]
  },
  {
   "cell_type": "code",
   "execution_count": 7,
   "metadata": {
    "collapsed": true
   },
   "outputs": [],
   "source": [
    "#Convert to useful datatypes\n",
    "cardsWithPrices['cmc'] = pd.to_numeric(cardsWithPrices['cmc'])\n",
    "cardsWithPrices['loyalty'] = pd.to_numeric(cardsWithPrices['loyalty'])\n",
    "cardsWithPrices['price'] = pd.to_numeric(cardsWithPrices['price'])\n",
    "cardsWithPrices['rarity'] = cardsWithPrices['rarity'].astype('category')\n",
    "cardsWithPrices['layout'] = cardsWithPrices['layout'].astype('category')"
   ]
  },
  {
   "cell_type": "code",
   "execution_count": 8,
   "metadata": {
    "collapsed": true
   },
   "outputs": [],
   "source": [
    "#Manually adding a manacost to Suspend and no-cost Splice cards as their ability's respective cost\n",
    "cardsWithPrices.loc[(slice(None),'Evermind'),'mana_cost'] = '{1}{U}'\n",
    "cardsWithPrices.loc[(slice(None),'Evermind'),'cmc'] = 2\n",
    "\n",
    "cardsWithPrices.loc[(slice(None),'Wheel of Fate'),'mana_cost'] = '{1}{R}'\n",
    "cardsWithPrices.loc[(slice(None),'Wheel of Fate'),'cmc'] = 2\n",
    "\n",
    "cardsWithPrices.loc[(slice(None),'Restore Balance'),'mana_cost'] = '{W}'\n",
    "cardsWithPrices.loc[(slice(None),'Restore Balance'),'cmc'] = 1\n",
    "\n",
    "cardsWithPrices.loc[(slice(None),'Living End'),'mana_cost'] = '{2}{B}{B}'\n",
    "cardsWithPrices.loc[(slice(None),'Living End'),'cmc'] = 4\n",
    "\n",
    "cardsWithPrices.loc[(slice(None),'Ancestral Vision'),'mana_cost'] = '{U}'\n",
    "cardsWithPrices.loc[(slice(None),'Ancestral Vision'),'cmc'] = 1\n",
    "\n",
    "cardsWithPrices.loc[(slice(None),'Lotus Bloom'),'mana_cost'] = '{0}'\n",
    "cardsWithPrices.loc[(slice(None),'Lotus Bloom'),'cmc'] = 0\n",
    "\n",
    "#Drop the two transformed cards that slipped through the cracks\n",
    "cardsWithPrices = cardsWithPrices.drop([('ISD','Howlpack of Estwald'),('EMN','Howling Chorus')])"
   ]
  },
  {
   "cell_type": "code",
   "execution_count": 9,
   "metadata": {
    "collapsed": true
   },
   "outputs": [],
   "source": [
    "#Fill empty text \n",
    "cardsWithPrices['text'] = cardsWithPrices['text'].fillna('')"
   ]
  },
  {
   "cell_type": "code",
   "execution_count": null,
   "metadata": {
    "collapsed": true
   },
   "outputs": [],
   "source": [
    "#Set codes should be an ordered category\n",
    "setCategories = CategoricalDtype(categories=['8ED','MRD','DST','5DN','CHK','BOK','SOK','9ED','RAV','GPT','DIS','CSP','TSP','PLC','FUT','10E',\n",
    "                                             'LRW','MOR','SHM','EVE','ALA','CON','ARB','M10','ZEN','WWK','ROE','M11','SOM','MBS','NPH','M12',\n",
    "                                            'ISD','DKA','AVR','M13','RTR','GTC','DGM','M14','THS','BNG','JOU','M15','KTK','FRF','DTK','ORI',\n",
    "                                             'BFZ','OGW','SOI','EMN','KLD','AER','AKH','HOU','XLN','RIX'],ordered=True)"
   ]
  },
  {
   "cell_type": "code",
   "execution_count": 5,
   "metadata": {},
   "outputs": [
    {
     "name": "stdout",
     "output_type": "stream",
     "text": [
      "<class 'pandas.core.frame.DataFrame'>\n",
      "MultiIndex: 12730 entries, (10E, Abundance) to (ZEN, Zendikar Farguide)\n",
      "Data columns (total 16 columns):\n",
      "price             12730 non-null float64\n",
      "setname           12730 non-null object\n",
      "artist            12730 non-null object\n",
      "cmc               12730 non-null int64\n",
      "color_identity    12730 non-null object\n",
      "layout            12730 non-null category\n",
      "loyalty           112 non-null float64\n",
      "mana_cost         12730 non-null object\n",
      "power             7060 non-null object\n",
      "rarity            12730 non-null category\n",
      "subtypes          12730 non-null object\n",
      "supertypes        12730 non-null object\n",
      "text              12730 non-null object\n",
      "timeshifted       233 non-null object\n",
      "toughness         7060 non-null object\n",
      "types             12730 non-null object\n",
      "dtypes: category(2), float64(2), int64(1), object(11)\n",
      "memory usage: 1.5+ MB\n"
     ]
    }
   ],
   "source": [
    "#Everything is good to go!\n",
    "cardsWithPrices.info()"
   ]
  },
  {
   "cell_type": "code",
   "execution_count": 16,
   "metadata": {
    "collapsed": true
   },
   "outputs": [],
   "source": [
    "with open('data/modernPricesWithData.pickle','wb') as pickle_out:\n",
    "    pickle.dump(cardsWithPrices,pickle_out)"
   ]
  },
  {
   "cell_type": "markdown",
   "metadata": {},
   "source": [
    "# PLAYING WITH THE DATA"
   ]
  },
  {
   "cell_type": "code",
   "execution_count": 15,
   "metadata": {},
   "outputs": [
    {
     "name": "stdout",
     "output_type": "stream",
     "text": [
      "                            price color_identity\n",
      "name                                            \n",
      "Mox Opal                    56.13               \n",
      "Liliana of the Veil         53.27              B\n",
      "The Scarab God              38.05            U,B\n",
      "Karn Liberated              36.52               \n",
      "Engineered Explosives       35.82               \n",
      "Ensnaring Bridge            33.52               \n",
      "Chandra, Torch of Defiance  30.43              R\n",
      "Liliana, the Last Hope      28.58              B\n",
      "Surgical Extraction         27.53              B\n",
      "Chalice of the Void         25.25               \n",
      "Tarmogoyf                   22.79              G\n",
      "Blood Moon                  22.78              R\n",
      "Collective Brutality        22.31              B\n",
      "Eidolon of the Great Revel  21.39              R\n",
      "Kolaghan's Command          19.78            B,R\n",
      "Noble Hierarch              19.36          G,W,U\n",
      "Scapeshift                  18.44              G\n",
      "Vendilion Clique            16.24              U\n",
      "Torrential Gearhulk         15.97              U\n",
      "Jace, Vryn's Prodigy        15.84              U\n"
     ]
    }
   ],
   "source": [
    "#Just out of curiosity, let's see the top 20 priced cards\n",
    "print(cardsWithPrices.groupby('name').min().sort_values(by='price', ascending=False)[['price','color_identity']].head(20))"
   ]
  }
 ],
 "metadata": {
  "kernelspec": {
   "display_name": "Python 3",
   "language": "python",
   "name": "python3"
  },
  "language_info": {
   "codemirror_mode": {
    "name": "ipython",
    "version": 3
   },
   "file_extension": ".py",
   "mimetype": "text/x-python",
   "name": "python",
   "nbconvert_exporter": "python",
   "pygments_lexer": "ipython3",
   "version": "3.6.3"
  }
 },
 "nbformat": 4,
 "nbformat_minor": 2
}
