{
 "cells": [
  {
   "cell_type": "markdown",
   "metadata": {},
   "source": [
    "# Examining Racial Discrimination in the US Job Market\n",
    "\n",
    "### Background\n",
    "Racial discrimination continues to be pervasive in cultures throughout the world. Researchers examined the level of racial discrimination in the United States labor market by randomly assigning identical résumés to black-sounding or white-sounding names and observing the impact on requests for interviews from employers.\n",
    "\n",
    "### Data\n",
    "In the dataset provided, each row represents a resume. The 'race' column has two values, 'b' and 'w', indicating black-sounding and white-sounding. The column 'call' has two values, 1 and 0, indicating whether the resume received a call from employers or not.\n",
    "\n",
    "Note that the 'b' and 'w' values in race are assigned randomly to the resumes when presented to the employer."
   ]
  },
  {
   "cell_type": "markdown",
   "metadata": {},
   "source": [
    "### Exercises\n",
    "You will perform a statistical analysis to establish whether race has a significant impact on the rate of callbacks for resumes.\n",
    "\n",
    "Answer the following questions **in this notebook below and submit to your Github account**. \n",
    "\n",
    "   1. What test is appropriate for this problem? Does CLT apply?\n",
    "   2. What are the null and alternate hypotheses?\n",
    "   3. Compute margin of error, confidence interval, and p-value.\n",
    "   4. Write a story describing the statistical significance in the context or the original problem.\n",
    "   5. Does your analysis mean that race/name is the most important factor in callback success? Why or why not? If not, how would you amend your analysis?\n",
    "\n",
    "You can include written notes in notebook cells using Markdown: \n",
    "   - In the control panel at the top, choose Cell > Cell Type > Markdown\n",
    "   - Markdown syntax: http://nestacms.com/docs/creating-content/markdown-cheat-sheet\n",
    "\n",
    "\n",
    "#### Resources\n",
    "+ Experiment information and data source: http://www.povertyactionlab.org/evaluation/discrimination-job-market-united-states\n",
    "+ Scipy statistical methods: http://docs.scipy.org/doc/scipy/reference/stats.html \n",
    "+ Markdown syntax: http://nestacms.com/docs/creating-content/markdown-cheat-sheet\n",
    "****"
   ]
  },
  {
   "cell_type": "code",
   "execution_count": 1,
   "metadata": {
    "collapsed": true
   },
   "outputs": [],
   "source": [
    "import pandas as pd\n",
    "import numpy as np\n",
    "from scipy import stats"
   ]
  },
  {
   "cell_type": "code",
   "execution_count": 2,
   "metadata": {
    "collapsed": true
   },
   "outputs": [],
   "source": [
    "data = pd.io.stata.read_stata('data/us_job_market_discrimination.dta')"
   ]
  },
  {
   "cell_type": "code",
   "execution_count": 3,
   "metadata": {},
   "outputs": [
    {
     "name": "stdout",
     "output_type": "stream",
     "text": [
      "2435 157.0\n",
      "2435 235.0\n"
     ]
    }
   ],
   "source": [
    "nBlack = sum(data.race=='b')\n",
    "bCalled = sum(data[data.race=='b'].call)\n",
    "\n",
    "nWhite = sum(data.race=='w')\n",
    "wCalled = sum(data[data.race=='w'].call)\n",
    "\n",
    "# number of callbacks for black-sounding names\n",
    "print(nBlack, bCalled)\n",
    "print(nWhite, wCalled)"
   ]
  },
  {
   "cell_type": "code",
   "execution_count": 4,
   "metadata": {},
   "outputs": [
    {
     "data": {
      "text/html": [
       "<div>\n",
       "<style>\n",
       "    .dataframe thead tr:only-child th {\n",
       "        text-align: right;\n",
       "    }\n",
       "\n",
       "    .dataframe thead th {\n",
       "        text-align: left;\n",
       "    }\n",
       "\n",
       "    .dataframe tbody tr th {\n",
       "        vertical-align: top;\n",
       "    }\n",
       "</style>\n",
       "<table border=\"1\" class=\"dataframe\">\n",
       "  <thead>\n",
       "    <tr style=\"text-align: right;\">\n",
       "      <th></th>\n",
       "      <th>id</th>\n",
       "      <th>ad</th>\n",
       "      <th>education</th>\n",
       "      <th>ofjobs</th>\n",
       "      <th>yearsexp</th>\n",
       "      <th>honors</th>\n",
       "      <th>volunteer</th>\n",
       "      <th>military</th>\n",
       "      <th>empholes</th>\n",
       "      <th>occupspecific</th>\n",
       "      <th>...</th>\n",
       "      <th>compreq</th>\n",
       "      <th>orgreq</th>\n",
       "      <th>manuf</th>\n",
       "      <th>transcom</th>\n",
       "      <th>bankreal</th>\n",
       "      <th>trade</th>\n",
       "      <th>busservice</th>\n",
       "      <th>othservice</th>\n",
       "      <th>missind</th>\n",
       "      <th>ownership</th>\n",
       "    </tr>\n",
       "  </thead>\n",
       "  <tbody>\n",
       "    <tr>\n",
       "      <th>0</th>\n",
       "      <td>b</td>\n",
       "      <td>1</td>\n",
       "      <td>4</td>\n",
       "      <td>2</td>\n",
       "      <td>6</td>\n",
       "      <td>0</td>\n",
       "      <td>0</td>\n",
       "      <td>0</td>\n",
       "      <td>1</td>\n",
       "      <td>17</td>\n",
       "      <td>...</td>\n",
       "      <td>1.0</td>\n",
       "      <td>0.0</td>\n",
       "      <td>1.0</td>\n",
       "      <td>0.0</td>\n",
       "      <td>0.0</td>\n",
       "      <td>0.0</td>\n",
       "      <td>0.0</td>\n",
       "      <td>0.0</td>\n",
       "      <td>0.0</td>\n",
       "      <td></td>\n",
       "    </tr>\n",
       "    <tr>\n",
       "      <th>1</th>\n",
       "      <td>b</td>\n",
       "      <td>1</td>\n",
       "      <td>3</td>\n",
       "      <td>3</td>\n",
       "      <td>6</td>\n",
       "      <td>0</td>\n",
       "      <td>1</td>\n",
       "      <td>1</td>\n",
       "      <td>0</td>\n",
       "      <td>316</td>\n",
       "      <td>...</td>\n",
       "      <td>1.0</td>\n",
       "      <td>0.0</td>\n",
       "      <td>1.0</td>\n",
       "      <td>0.0</td>\n",
       "      <td>0.0</td>\n",
       "      <td>0.0</td>\n",
       "      <td>0.0</td>\n",
       "      <td>0.0</td>\n",
       "      <td>0.0</td>\n",
       "      <td></td>\n",
       "    </tr>\n",
       "    <tr>\n",
       "      <th>2</th>\n",
       "      <td>b</td>\n",
       "      <td>1</td>\n",
       "      <td>4</td>\n",
       "      <td>1</td>\n",
       "      <td>6</td>\n",
       "      <td>0</td>\n",
       "      <td>0</td>\n",
       "      <td>0</td>\n",
       "      <td>0</td>\n",
       "      <td>19</td>\n",
       "      <td>...</td>\n",
       "      <td>1.0</td>\n",
       "      <td>0.0</td>\n",
       "      <td>1.0</td>\n",
       "      <td>0.0</td>\n",
       "      <td>0.0</td>\n",
       "      <td>0.0</td>\n",
       "      <td>0.0</td>\n",
       "      <td>0.0</td>\n",
       "      <td>0.0</td>\n",
       "      <td></td>\n",
       "    </tr>\n",
       "    <tr>\n",
       "      <th>3</th>\n",
       "      <td>b</td>\n",
       "      <td>1</td>\n",
       "      <td>3</td>\n",
       "      <td>4</td>\n",
       "      <td>6</td>\n",
       "      <td>0</td>\n",
       "      <td>1</td>\n",
       "      <td>0</td>\n",
       "      <td>1</td>\n",
       "      <td>313</td>\n",
       "      <td>...</td>\n",
       "      <td>1.0</td>\n",
       "      <td>0.0</td>\n",
       "      <td>1.0</td>\n",
       "      <td>0.0</td>\n",
       "      <td>0.0</td>\n",
       "      <td>0.0</td>\n",
       "      <td>0.0</td>\n",
       "      <td>0.0</td>\n",
       "      <td>0.0</td>\n",
       "      <td></td>\n",
       "    </tr>\n",
       "    <tr>\n",
       "      <th>4</th>\n",
       "      <td>b</td>\n",
       "      <td>1</td>\n",
       "      <td>3</td>\n",
       "      <td>3</td>\n",
       "      <td>22</td>\n",
       "      <td>0</td>\n",
       "      <td>0</td>\n",
       "      <td>0</td>\n",
       "      <td>0</td>\n",
       "      <td>313</td>\n",
       "      <td>...</td>\n",
       "      <td>1.0</td>\n",
       "      <td>1.0</td>\n",
       "      <td>0.0</td>\n",
       "      <td>0.0</td>\n",
       "      <td>0.0</td>\n",
       "      <td>0.0</td>\n",
       "      <td>0.0</td>\n",
       "      <td>1.0</td>\n",
       "      <td>0.0</td>\n",
       "      <td>Nonprofit</td>\n",
       "    </tr>\n",
       "  </tbody>\n",
       "</table>\n",
       "<p>5 rows × 65 columns</p>\n",
       "</div>"
      ],
      "text/plain": [
       "  id ad  education  ofjobs  yearsexp  honors  volunteer  military  empholes  \\\n",
       "0  b  1          4       2         6       0          0         0         1   \n",
       "1  b  1          3       3         6       0          1         1         0   \n",
       "2  b  1          4       1         6       0          0         0         0   \n",
       "3  b  1          3       4         6       0          1         0         1   \n",
       "4  b  1          3       3        22       0          0         0         0   \n",
       "\n",
       "   occupspecific    ...      compreq  orgreq  manuf  transcom  bankreal trade  \\\n",
       "0             17    ...          1.0     0.0    1.0       0.0       0.0   0.0   \n",
       "1            316    ...          1.0     0.0    1.0       0.0       0.0   0.0   \n",
       "2             19    ...          1.0     0.0    1.0       0.0       0.0   0.0   \n",
       "3            313    ...          1.0     0.0    1.0       0.0       0.0   0.0   \n",
       "4            313    ...          1.0     1.0    0.0       0.0       0.0   0.0   \n",
       "\n",
       "  busservice othservice  missind  ownership  \n",
       "0        0.0        0.0      0.0             \n",
       "1        0.0        0.0      0.0             \n",
       "2        0.0        0.0      0.0             \n",
       "3        0.0        0.0      0.0             \n",
       "4        0.0        1.0      0.0  Nonprofit  \n",
       "\n",
       "[5 rows x 65 columns]"
      ]
     },
     "execution_count": 4,
     "metadata": {},
     "output_type": "execute_result"
    }
   ],
   "source": [
    "data.head()"
   ]
  },
  {
   "cell_type": "markdown",
   "metadata": {},
   "source": [
    "1.A permutation test would be appropriate for this problem since we are testing two categories for a boolean response. CLT does apply because there is a large sample size."
   ]
  },
  {
   "cell_type": "markdown",
   "metadata": {},
   "source": [
    "2.Replicating the study assuming race was irrelevant (This is the null hypothesis)\n",
    "Explicitly, I will find the probability that permuted replications of the data have a ratio of \"black\" people (after the permutation, where races were mixed together) receiving a call back that is at least as small as the observed ratio."
   ]
  },
  {
   "cell_type": "code",
   "execution_count": 5,
   "metadata": {
    "collapsed": true
   },
   "outputs": [],
   "source": [
    "#Borrowing this from the datacamp course\n",
    "def permutation_sample(data1, data2):\n",
    "    \"\"\"Generate a permutation sample from two data sets.\"\"\"\n",
    "\n",
    "    # Concatenate the data sets: data\n",
    "    data = np.concatenate((data1,data2))\n",
    "\n",
    "    # Permute the concatenated array: permuted_data\n",
    "    permuted_data = np.random.permutation(data)\n",
    "\n",
    "    # Split the permuted array into two: perm_sample_1, perm_sample_2\n",
    "    perm_sample_1 = permuted_data[:len(data1)]\n",
    "    perm_sample_2 = permuted_data[len(data1):]\n",
    "\n",
    "    return perm_sample_1, perm_sample_2\n",
    "\n",
    "def draw_perm_reps(data_1, data_2, func, size=1):\n",
    "    \"\"\"Generate multiple permutation replicates.\"\"\"\n",
    "\n",
    "    # Initialize array of replicates: perm_replicates\n",
    "    perm_replicates = np.empty(size)\n",
    "\n",
    "    for i in range(size):\n",
    "        # Generate permutation sample\n",
    "        perm_sample_1, perm_sample_2 = permutation_sample(data_1,data_2)\n",
    "\n",
    "        # Compute the test statistic\n",
    "        perm_replicates[i] = func(perm_sample_1,perm_sample_2)\n",
    "\n",
    "    return perm_replicates\n",
    "\n",
    "#The statistic we will use\n",
    "def blackFrac(black,white):\n",
    "    return np.sum(black)/len(black)"
   ]
  },
  {
   "cell_type": "code",
   "execution_count": 34,
   "metadata": {},
   "outputs": [
    {
     "name": "stdout",
     "output_type": "stream",
     "text": [
      "1\n",
      "p: 0.0001\n"
     ]
    }
   ],
   "source": [
    "#The null hypothesis is any random permutation of our data, we may find that the \"black\" partition can have as low of a call-rate as our sample data\n",
    "replicates = draw_perm_reps(data.loc[data.race=='b','call'],data.loc[data.race=='w','call'],blackFrac,10000)\n",
    "p = np.sum(replicates<=bCalled/nBlack)/len(replicates)\n",
    "print(np.sum(replicates<=bCalled/nBlack))\n",
    "print('p:',p)"
   ]
  },
  {
   "cell_type": "markdown",
   "metadata": {},
   "source": [
    "The above computation shows that, when the white and black populations were mixed in the sample, there was only one instance where the callback rate for the \"black\" population was as low as the callback rate for the actual black population in the sample. This shows very strong statistical grounds <b>(confidence level of .9999)</b> for the idea that whether or not someone is called for a job interview may be related to the ethnicity portrayed by their name."
   ]
  },
  {
   "cell_type": "markdown",
   "metadata": {},
   "source": [
    "Let's see if there seems to be any relation with the boolean field, military."
   ]
  },
  {
   "cell_type": "code",
   "execution_count": 6,
   "metadata": {},
   "outputs": [
    {
     "name": "stdout",
     "output_type": "stream",
     "text": [
      "0.0634249471459 0.0823288605868\n"
     ]
    }
   ],
   "source": [
    "nMilitary = sum(data.military==1)\n",
    "militaryCalled = sum(data.loc[data.military==1,'call'])\n",
    "\n",
    "nNonMilitary = sum(data.military==0)\n",
    "nonMilitaryCalled = sum(data.loc[data.military==0,'call'])\n",
    "\n",
    "print(militaryCalled/nMilitary,nonMilitaryCalled/nNonMilitary)"
   ]
  },
  {
   "cell_type": "markdown",
   "metadata": {},
   "source": [
    "Looks like non-military applicants had a slight advantage as well. Let's see if the same occurs after permutations. The null hypothesis here is the fact that military service was unrelated to callbacks, whereas the alternate hypothesis is the fact that non-military applicants had an advantage over the military applicants."
   ]
  },
  {
   "cell_type": "code",
   "execution_count": 7,
   "metadata": {},
   "outputs": [
    {
     "name": "stdout",
     "output_type": "stream",
     "text": [
      "837\n",
      "p: 0.0837\n"
     ]
    }
   ],
   "source": [
    "#I will use the same value function as before, just pretending non-military is the white (advantaged) group and the military is the black (disadvantaged) group\n",
    "replicates = draw_perm_reps(data.loc[data.military==1,'call'],data.loc[data.military==0,'call'],blackFrac,10000)\n",
    "p = np.sum(replicates<=militaryCalled/nMilitary)/len(replicates)\n",
    "print(np.sum(replicates<=militaryCalled/nMilitary))\n",
    "print('p:',p)"
   ]
  },
  {
   "cell_type": "markdown",
   "metadata": {},
   "source": [
    "The high p-value (>.05) means that there were a considerable number of permutations that consisted of at least as low of a callback rate in the \"military\" group as was observed in the sample. This means that the low callback rate in the observed data may have been because of the low sample size, since there were far more non-military applicants observed."
   ]
  },
  {
   "cell_type": "markdown",
   "metadata": {},
   "source": [
    "Another factor that should account for whether or not a person gets called back is their years of experience, so lets look at how years of experience affected the callback rates."
   ]
  },
  {
   "cell_type": "code",
   "execution_count": 16,
   "metadata": {},
   "outputs": [
    {
     "name": "stdout",
     "output_type": "stream",
     "text": [
      "Black avg years of exp:  7.8295687885\n",
      "White avg years of exp:  7.85626283368\n",
      "Median black years of exp: 6.0\n",
      "Median white years of exp: 6.0\n"
     ]
    }
   ],
   "source": [
    "blackDf = data.loc[data.race == 'b']\n",
    "whiteDf = data.loc[data.race == 'w']\n",
    "\n",
    "print('Black avg years of exp: ',blackDf.yearsexp.mean())\n",
    "print('White avg years of exp: ',whiteDf.yearsexp.mean())\n",
    "\n",
    "print('Median black years of exp:',blackDf.yearsexp.median())\n",
    "print('Median white years of exp:',whiteDf.yearsexp.median())"
   ]
  },
  {
   "cell_type": "markdown",
   "metadata": {},
   "source": [
    "Looks like the black and white applicants both had very similar years of experience, but how did years of experience effect the callback rate?"
   ]
  },
  {
   "cell_type": "code",
   "execution_count": 27,
   "metadata": {
    "scrolled": true
   },
   "outputs": [
    {
     "name": "stdout",
     "output_type": "stream",
     "text": [
      "Average years of experience for callback: 8.89030612245\n",
      "Average years of experience for white callback: 8.7829787234\n",
      "Average years of experience for black callback: 9.05095541401\n",
      "Median years of experience for callback: 7.0\n",
      "Median years of experience for white callback: 7.0\n",
      "Median years of experience for black callback: 7.0\n",
      "Average years of experience for no callback: 7.75122822689\n",
      "Average years of experience for no white callback: 7.75727272727\n",
      "Average years of experience for no black callback: 7.74539069359\n"
     ]
    }
   ],
   "source": [
    "print('Average years of experience for callback:',data.loc[data.call==1,'yearsexp'].mean())\n",
    "print('Average years of experience for white callback:',whiteDf.loc[whiteDf.call==1,'yearsexp'].mean())\n",
    "print('Average years of experience for black callback:',blackDf.loc[blackDf.call==1,'yearsexp'].mean())\n",
    "\n",
    "print('Median years of experience for callback:',data.loc[data.call==1,'yearsexp'].median())\n",
    "print('Median years of experience for white callback:',whiteDf.loc[whiteDf.call==1,'yearsexp'].median())\n",
    "print('Median years of experience for black callback:',blackDf.loc[blackDf.call==1,'yearsexp'].median())\n",
    "\n",
    "print('Average years of experience for no callback:',data.loc[data.call==0,'yearsexp'].mean())\n",
    "print('Average years of experience for no white callback:',whiteDf.loc[whiteDf.call==0,'yearsexp'].mean())\n",
    "print('Average years of experience for no black callback:',blackDf.loc[blackDf.call==0,'yearsexp'].mean())"
   ]
  },
  {
   "cell_type": "markdown",
   "metadata": {},
   "source": [
    "It looks like black applicants did need a slightly higher number of years of experience to receive a call. But let's test that hypothesis"
   ]
  },
  {
   "cell_type": "code",
   "execution_count": 25,
   "metadata": {
    "collapsed": true
   },
   "outputs": [],
   "source": [
    "def TTestForEqualMeans(sample1,sample2):\n",
    "    diffOfMeans = abs(sample1.mean()-sample2.mean())\n",
    "\n",
    "    se = math.sqrt(((sample1.std()**2)/sample1.size) + ((sample2.std()**2)/sample2.size))\n",
    "\n",
    "    t = diffOfMeans/se\n",
    "    p = stats.t.cdf(t,sample2.size+sample1.size-2)\n",
    "\n",
    "    print('t:',t,'p:',p)"
   ]
  },
  {
   "cell_type": "code",
   "execution_count": 26,
   "metadata": {},
   "outputs": [
    {
     "name": "stdout",
     "output_type": "stream",
     "text": [
      "t: 0.459752359087 p: 0.67702491693\n"
     ]
    }
   ],
   "source": [
    "import math\n",
    "\n",
    "#Null hypothesis: The average number of years of experience that white and black applicants that received a call back are the same\n",
    "whiteCalled = whiteDf.loc[whiteDf.call==1,'yearsexp']\n",
    "blackCalled = blackDf.loc[blackDf.call==1,'yearsexp']\n",
    "\n",
    "TTestForEqualMeans(blackCalled,whiteCalled)"
   ]
  },
  {
   "cell_type": "markdown",
   "metadata": {},
   "source": [
    "With such a high p-value, we cannot reject the null hypothesis that these averages are the same. The difference between them are not significant."
   ]
  },
  {
   "cell_type": "markdown",
   "metadata": {},
   "source": [
    "Judging by the features I've studied, it looks like applicants with similar credentials may not be receiving calls back based on the ethnicity portrayed by their name."
   ]
  }
 ],
 "metadata": {
  "kernelspec": {
   "display_name": "Python 3",
   "language": "python",
   "name": "python3"
  },
  "language_info": {
   "codemirror_mode": {
    "name": "ipython",
    "version": 3
   },
   "file_extension": ".py",
   "mimetype": "text/x-python",
   "name": "python",
   "nbconvert_exporter": "python",
   "pygments_lexer": "ipython3",
   "version": "3.6.3"
  }
 },
 "nbformat": 4,
 "nbformat_minor": 1
}
